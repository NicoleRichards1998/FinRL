{
  "cells": [
    {
      "cell_type": "markdown",
      "metadata": {
        "id": "view-in-github",
        "colab_type": "text"
      },
      "source": [
        "<a href=\"https://colab.research.google.com/github/NicoleRichards1998/FinRL/blob/master/Optimisation_DayTrading_FinRL_JSE_Singe_Stock.ipynb\" target=\"_parent\"><img src=\"https://colab.research.google.com/assets/colab-badge.svg\" alt=\"Open In Colab\"/></a>"
      ]
    },
    {
      "cell_type": "markdown",
      "metadata": {
        "id": "V1ofncK2cYhs"
      },
      "source": [
        "Disclaimer: Nothing herein is financial advice, and NOT a recommendation to trade real money. Many platforms exist for simulated trading (paper trading) which can be used for building and developing the methods discussed. Please use common sense and always first consult a professional before trading or investing."
      ]
    },
    {
      "cell_type": "markdown",
      "metadata": {
        "id": "j3mbRu3s1YlD"
      },
      "source": [
        "# Part 1: Install FinRL"
      ]
    },
    {
      "cell_type": "code",
      "execution_count": null,
      "metadata": {
        "id": "0gkmsPgbvNf6"
      },
      "outputs": [],
      "source": [
        "## install finrl library\n",
        "!pip install git+https://github.com/AI4Finance-LLC/FinRL-Library.git"
      ]
    },
    {
      "cell_type": "code",
      "execution_count": null,
      "metadata": {
        "id": "O4DBrgonvp28"
      },
      "outputs": [],
      "source": [
        "!pip install tensorboardX"
      ]
    },
    {
      "cell_type": "code",
      "execution_count": null,
      "metadata": {
        "id": "4lJV3wzHSVZ8"
      },
      "outputs": [],
      "source": [
        "!pip uninstall -y pyarrow\n",
        "!pip uninstall -y ray # clean removal of previous install, otherwise version number may cause pip not to upgrade"
      ]
    },
    {
      "cell_type": "code",
      "execution_count": null,
      "metadata": {
        "id": "pL4CWbJXSWsv"
      },
      "outputs": [],
      "source": [
        "!python -m pip install --upgrade pip"
      ]
    },
    {
      "cell_type": "code",
      "execution_count": null,
      "metadata": {
        "id": "Av8FGIHnSbiF"
      },
      "outputs": [],
      "source": [
        "!pip install tf-estimator-nightly==2.8.0.dev2021122109\n",
        "!pip install -U https://s3-us-west-2.amazonaws.com/ray-wheels/latest/ray-2.0.0.dev0-cp37-cp37m-manylinux2014_x86_64.whl # minimal install\n",
        "!pip install lz4"
      ]
    },
    {
      "cell_type": "code",
      "source": [
        "import gym\n",
        "import numpy as np\n",
        "from numpy import random as rd\n",
        "\n",
        "class NoIndicatorsStockTradingEnv(gym.Env):\n",
        "    def __init__(\n",
        "        self,\n",
        "        config,\n",
        "        initial_account=1e6,\n",
        "        gamma=0.99,\n",
        "        turbulence_thresh=50000,\n",
        "        min_stock_rate=0.1,\n",
        "        max_stock=1e2,\n",
        "        initial_capital=1e6,\n",
        "        buy_cost_pct=1e-3,\n",
        "        sell_cost_pct=1e-3,\n",
        "        reward_scaling=2 ** -11,\n",
        "        initial_stocks=None,\n",
        "    ):\n",
        "        price_ary = config[\"price_array\"]\n",
        "        #tech_ary = config[\"tech_array\"]\n",
        "        turbulence_ary = config[\"turbulence_array\"]\n",
        "        if_train = config[\"if_train\"]\n",
        "        self.price_ary = price_ary.astype(np.float32)\n",
        "        #self.tech_ary = tech_ary.astype(np.float32)\n",
        "        self.turbulence_ary = turbulence_ary\n",
        "\n",
        "        #self.tech_ary = self.tech_ary * 2 ** -7\n",
        "        self.turbulence_bool = (turbulence_ary > turbulence_thresh).astype(np.float32)\n",
        "        self.turbulence_ary = (\n",
        "            self.sigmoid_sign(turbulence_ary, turbulence_thresh) * 2 ** -5\n",
        "        ).astype(np.float32)\n",
        "\n",
        "        stock_dim = self.price_ary.shape[1]\n",
        "        self.gamma = gamma\n",
        "        self.max_stock = max_stock\n",
        "        self.min_stock_rate = min_stock_rate\n",
        "        self.buy_cost_pct = buy_cost_pct\n",
        "        self.sell_cost_pct = sell_cost_pct\n",
        "        self.reward_scaling = reward_scaling\n",
        "        self.initial_capital = initial_capital\n",
        "        self.initial_stocks = (\n",
        "            np.zeros(stock_dim, dtype=np.float32)\n",
        "            if initial_stocks is None\n",
        "            else initial_stocks\n",
        "        )\n",
        "\n",
        "        # reset()\n",
        "        self.day = None\n",
        "        self.amount = None\n",
        "        self.stocks = None\n",
        "        self.total_asset = None\n",
        "        self.gamma_reward = None\n",
        "        self.initial_total_asset = None\n",
        "        \n",
        "        self.sell_index = False\n",
        "\n",
        "        # environment information\n",
        "        self.env_name = \"StockEnv\"\n",
        "        # self.state_dim = 1 + 2 + 2 * stock_dim + self.tech_ary.shape[1]\n",
        "        # # amount + (turbulence, turbulence_bool) + (price, stock) * stock_dim + tech_dim\n",
        "        self.state_dim = 1 + 2 + 3 * stock_dim\n",
        "        # amount + (turbulence, turbulence_bool) + (price, stock) * stock_dim + tech_dim\n",
        "        self.stocks_cd = None\n",
        "        self.action_dim = stock_dim\n",
        "        self.max_step = self.price_ary.shape[0] - 1\n",
        "        self.if_train = if_train\n",
        "        self.if_discrete = False\n",
        "        self.target_return = 10.0\n",
        "        self.episode_return = 0.0\n",
        "\n",
        "        self.observation_space = gym.spaces.Box(\n",
        "            low=-3000, high=3000, shape=(self.state_dim,), dtype=np.float32\n",
        "        )\n",
        "        self.action_space = gym.spaces.Box(\n",
        "            low=-1, high=1, shape=(self.action_dim,), dtype=np.float32\n",
        "        )\n",
        "\n",
        "    def reset(self):\n",
        "        self.day = 0\n",
        "        price = self.price_ary[self.day]\n",
        "\n",
        "        if self.if_train:\n",
        "            self.stocks = (\n",
        "                self.initial_stocks + rd.randint(0, 64, size=self.initial_stocks.shape)\n",
        "            ).astype(np.float32)\n",
        "            self.stocks_cool_down = np.zeros_like(self.stocks)\n",
        "            self.amount = (\n",
        "                self.initial_capital * rd.uniform(0.95, 1.05)\n",
        "                - (self.stocks * price).sum()\n",
        "            )\n",
        "        else:\n",
        "            self.stocks = self.initial_stocks.astype(np.float32)\n",
        "            self.stocks_cool_down = np.zeros_like(self.stocks)\n",
        "            self.amount = self.initial_capital\n",
        "\n",
        "        self.total_asset = self.amount + (self.stocks * price).sum()\n",
        "        self.initial_total_asset = self.total_asset\n",
        "        self.gamma_reward = 0.0\n",
        "        return self.get_state(price)  # state\n",
        "\n",
        "    def step(self, actions):\n",
        "        actions = (actions * self.max_stock).astype(int)\n",
        "\n",
        "        self.day += 1\n",
        "        price = self.price_ary[self.day]\n",
        "        self.stocks_cool_down += 1\n",
        "        sell_index = self.sell_index\n",
        "\n",
        "        if self.turbulence_bool[self.day] == 0:\n",
        "            min_action = int(self.max_stock * self.min_stock_rate)  # stock_cd\n",
        "            for index in np.where(actions < -min_action)[0]:  # sell_index:\n",
        "                if price[index] > 0:  # Sell only if current asset is > 0\n",
        "                    sell_num_shares = min(self.stocks[index], -actions[index])\n",
        "                    self.stocks[index] -= sell_num_shares\n",
        "                    self.amount += (\n",
        "                        price[index] * sell_num_shares * (1 - self.sell_cost_pct)\n",
        "                    )\n",
        "                    self.stocks_cool_down[index] = 0\n",
        "                    sell_index = True\n",
        "            for index in np.where(actions > min_action)[0]:  # buy_index:\n",
        "                if (\n",
        "                    price[index] > 0\n",
        "                ):  # Buy only if the price is > 0 (no missing data in this particular date)\n",
        "                    buy_num_shares = min(self.amount // price[index], actions[index])\n",
        "                    self.stocks[index] += buy_num_shares\n",
        "                    self.amount -= (\n",
        "                        price[index] * buy_num_shares * (1 + self.buy_cost_pct)\n",
        "                    )\n",
        "                    self.stocks_cool_down[index] = 0\n",
        "\n",
        "        else:  # sell all when turbulence\n",
        "            self.amount += (self.stocks * price).sum() * (1 - self.sell_cost_pct)\n",
        "            self.stocks[:] = 0\n",
        "            self.stocks_cool_down[:] = 0\n",
        "\n",
        "        state = self.get_state(price)\n",
        "        total_asset = self.amount + (self.stocks * price).sum()\n",
        "        real_reward = (total_asset - self.total_asset) * self.reward_scaling\n",
        "        self.total_asset = total_asset\n",
        "\n",
        "        # for my reward function\n",
        "        \n",
        "        #if sell_index == True:\n",
        "        #  reward = real_reward\n",
        "        #  sell_index = False\n",
        "        #else:\n",
        "        #  reward = int(0)\n",
        "        #print('reward', reward)\n",
        "\n",
        "        # for reward at end\n",
        "\n",
        "        reward = int(0)\n",
        "\n",
        "        # for OG reward function\n",
        "\n",
        "        reward = (total_asset - self.total_asset) * self.reward_scaling\n",
        "\n",
        "        # the rest\n",
        "\n",
        "        self.gamma_reward = self.gamma_reward * self.gamma + real_reward\n",
        "        done = self.day == self.max_step\n",
        "        if done:\n",
        "            reward = self.gamma_reward\n",
        "            self.episode_return = total_asset / self.initial_total_asset\n",
        "\n",
        "        return state, reward, done, dict()\n",
        "\n",
        "    def get_state(self, price):\n",
        "        amount = np.array(self.amount * (2 ** -12), dtype=np.float32)\n",
        "        scale = np.array(2 ** -6, dtype=np.float32)\n",
        "        return np.hstack(\n",
        "            (\n",
        "                amount,\n",
        "                self.turbulence_ary[self.day],\n",
        "                self.turbulence_bool[self.day],\n",
        "                price * scale,\n",
        "                self.stocks * scale,\n",
        "                self.stocks_cool_down,\n",
        "            )\n",
        "        )  # state.astype(np.float32)\n",
        "\n",
        "    @staticmethod\n",
        "    def sigmoid_sign(ary, thresh):\n",
        "        def sigmoid(x):\n",
        "            return 1 / (1 + np.exp(-x * np.e)) - 0.5\n",
        "\n",
        "        return sigmoid(ary / thresh) * thresh"
      ],
      "metadata": {
        "id": "IyjlFHYYuJi0"
      },
      "execution_count": 2,
      "outputs": []
    },
    {
      "cell_type": "code",
      "execution_count": 1,
      "metadata": {
        "colab": {
          "base_uri": "https://localhost:8080/",
          "height": 1000
        },
        "id": "bsoRILKIEqgn",
        "outputId": "5b48434d-fe77-4e82-ee61-6cb2b2eaa0e1"
      },
      "outputs": [
        {
          "output_type": "stream",
          "name": "stdout",
          "text": [
            "Looking in indexes: https://pypi.org/simple, https://us-python.pkg.dev/colab-wheels/public/simple/\n",
            "Collecting git+https://github.com/NicoleRichards1998/FinRL.git\n",
            "  Cloning https://github.com/NicoleRichards1998/FinRL.git to /tmp/pip-req-build-diksrc4r\n",
            "  Running command git clone -q https://github.com/NicoleRichards1998/FinRL.git /tmp/pip-req-build-diksrc4r\n",
            "Collecting pyfolio@ git+https://github.com/quantopian/pyfolio.git#egg=pyfolio-0.9.2\n",
            "  Cloning https://github.com/quantopian/pyfolio.git to /tmp/pip-install-qc3zvni6/pyfolio_093b97b111884b1181160c002e1d4579\n",
            "  Running command git clone -q https://github.com/quantopian/pyfolio.git /tmp/pip-install-qc3zvni6/pyfolio_093b97b111884b1181160c002e1d4579\n",
            "Collecting elegantrl@ git+https://github.com/AI4Finance-Foundation/ElegantRL.git#egg=elegantrl\n",
            "  Cloning https://github.com/AI4Finance-Foundation/ElegantRL.git to /tmp/pip-install-qc3zvni6/elegantrl_5df7d090c5544ef7991538ed7f8d3cd0\n",
            "  Running command git clone -q https://github.com/AI4Finance-Foundation/ElegantRL.git /tmp/pip-install-qc3zvni6/elegantrl_5df7d090c5544ef7991538ed7f8d3cd0\n",
            "Requirement already satisfied: numpy>=1.17.3 in /usr/local/lib/python3.7/dist-packages (from finrl==0.3.5) (1.21.6)\n",
            "Requirement already satisfied: pandas>=1.1.5 in /usr/local/lib/python3.7/dist-packages (from finrl==0.3.5) (1.3.5)\n",
            "Collecting stockstats>=0.4.0\n",
            "  Downloading stockstats-0.4.1-py2.py3-none-any.whl (19 kB)\n",
            "Collecting yfinance\n",
            "  Downloading yfinance-0.1.70-py2.py3-none-any.whl (26 kB)\n",
            "Collecting elegantrl\n",
            "  Downloading elegantrl-0.3.3-py3-none-any.whl (234 kB)\n",
            "\u001b[K     |████████████████████████████████| 234 kB 7.8 MB/s \n",
            "\u001b[?25hRequirement already satisfied: matplotlib in /usr/local/lib/python3.7/dist-packages (from finrl==0.3.5) (3.2.2)\n",
            "Requirement already satisfied: scikit-learn>=0.21.0 in /usr/local/lib/python3.7/dist-packages (from finrl==0.3.5) (1.0.2)\n",
            "Requirement already satisfied: gym>=0.17 in /usr/local/lib/python3.7/dist-packages (from finrl==0.3.5) (0.17.3)\n",
            "Collecting stable-baselines3[extra]\n",
            "  Downloading stable_baselines3-1.5.0-py3-none-any.whl (177 kB)\n",
            "\u001b[K     |████████████████████████████████| 177 kB 44.7 MB/s \n",
            "\u001b[?25hCollecting ray[default]\n",
            "  Downloading ray-1.12.1-cp37-cp37m-manylinux2014_x86_64.whl (53.2 MB)\n",
            "\u001b[K     |████████████████████████████████| 53.2 MB 137 kB/s \n",
            "\u001b[?25hCollecting lz4\n",
            "  Downloading lz4-4.0.1-cp37-cp37m-manylinux_2_17_x86_64.manylinux2014_x86_64.whl (1.2 MB)\n",
            "\u001b[K     |████████████████████████████████| 1.2 MB 21.2 MB/s \n",
            "\u001b[?25hCollecting tensorboardX\n",
            "  Downloading tensorboardX-2.5-py2.py3-none-any.whl (125 kB)\n",
            "\u001b[K     |████████████████████████████████| 125 kB 52.4 MB/s \n",
            "\u001b[?25hCollecting gputil\n",
            "  Downloading GPUtil-1.4.0.tar.gz (5.5 kB)\n",
            "Collecting exchange_calendars\n",
            "  Downloading exchange_calendars-3.6.2.tar.gz (150 kB)\n",
            "\u001b[K     |████████████████████████████████| 150 kB 45.4 MB/s \n",
            "\u001b[?25hCollecting alpaca_trade_api\n",
            "  Downloading alpaca_trade_api-2.1.0-py3-none-any.whl (33 kB)\n",
            "Collecting ccxt==1.66.32\n",
            "  Downloading ccxt-1.66.32-py2.py3-none-any.whl (2.3 MB)\n",
            "\u001b[K     |████████████████████████████████| 2.3 MB 50.0 MB/s \n",
            "\u001b[?25hCollecting jqdatasdk\n",
            "  Downloading jqdatasdk-1.8.10-py3-none-any.whl (153 kB)\n",
            "\u001b[K     |████████████████████████████████| 153 kB 75.7 MB/s \n",
            "\u001b[?25hCollecting wrds\n",
            "  Downloading wrds-3.1.1-py3-none-any.whl (12 kB)\n",
            "Requirement already satisfied: pytest in /usr/local/lib/python3.7/dist-packages (from finrl==0.3.5) (3.6.4)\n",
            "Collecting setuptools==59.5.0\n",
            "  Downloading setuptools-59.5.0-py3-none-any.whl (952 kB)\n",
            "\u001b[K     |████████████████████████████████| 952 kB 66.5 MB/s \n",
            "\u001b[?25hRequirement already satisfied: wheel>=0.33.6 in /usr/local/lib/python3.7/dist-packages (from finrl==0.3.5) (0.37.1)\n",
            "Collecting pre-commit\n",
            "  Downloading pre_commit-2.19.0-py2.py3-none-any.whl (199 kB)\n",
            "\u001b[K     |████████████████████████████████| 199 kB 77.5 MB/s \n",
            "\u001b[?25hCollecting pybullet\n",
            "  Downloading pybullet-3.2.5-cp37-cp37m-manylinux_2_5_x86_64.manylinux1_x86_64.whl (91.7 MB)\n",
            "\u001b[K     |████████████████████████████████| 91.7 MB 30 kB/s \n",
            "\u001b[?25hRequirement already satisfied: torch in /usr/local/lib/python3.7/dist-packages (from elegantrl@ git+https://github.com/AI4Finance-Foundation/ElegantRL.git#egg=elegantrl->finrl==0.3.5) (1.11.0+cu113)\n",
            "Requirement already satisfied: opencv-python in /usr/local/lib/python3.7/dist-packages (from elegantrl@ git+https://github.com/AI4Finance-Foundation/ElegantRL.git#egg=elegantrl->finrl==0.3.5) (4.1.2.30)\n",
            "Collecting box2d-py\n",
            "  Downloading box2d_py-2.3.8-cp37-cp37m-manylinux1_x86_64.whl (448 kB)\n",
            "\u001b[K     |████████████████████████████████| 448 kB 72.2 MB/s \n",
            "\u001b[?25hRequirement already satisfied: ipython>=3.2.3 in /usr/local/lib/python3.7/dist-packages (from pyfolio@ git+https://github.com/quantopian/pyfolio.git#egg=pyfolio-0.9.2->finrl==0.3.5) (5.5.0)\n",
            "Requirement already satisfied: pytz>=2014.10 in /usr/local/lib/python3.7/dist-packages (from pyfolio@ git+https://github.com/quantopian/pyfolio.git#egg=pyfolio-0.9.2->finrl==0.3.5) (2022.1)\n",
            "Requirement already satisfied: scipy>=0.14.0 in /usr/local/lib/python3.7/dist-packages (from pyfolio@ git+https://github.com/quantopian/pyfolio.git#egg=pyfolio-0.9.2->finrl==0.3.5) (1.4.1)\n",
            "Requirement already satisfied: seaborn>=0.7.1 in /usr/local/lib/python3.7/dist-packages (from pyfolio@ git+https://github.com/quantopian/pyfolio.git#egg=pyfolio-0.9.2->finrl==0.3.5) (0.11.2)\n",
            "Collecting empyrical>=0.5.0\n",
            "  Downloading empyrical-0.5.5.tar.gz (52 kB)\n",
            "\u001b[K     |████████████████████████████████| 52 kB 1.7 MB/s \n",
            "\u001b[?25hCollecting aiohttp>=3.8\n",
            "  Downloading aiohttp-3.8.1-cp37-cp37m-manylinux_2_5_x86_64.manylinux1_x86_64.manylinux_2_12_x86_64.manylinux2010_x86_64.whl (1.1 MB)\n",
            "\u001b[K     |████████████████████████████████| 1.1 MB 59.3 MB/s \n",
            "\u001b[?25hCollecting cryptography>=2.6.1\n",
            "  Downloading cryptography-37.0.2-cp36-abi3-manylinux_2_24_x86_64.whl (4.0 MB)\n",
            "\u001b[K     |████████████████████████████████| 4.0 MB 50.8 MB/s \n",
            "\u001b[?25hCollecting yarl==1.7.2\n",
            "  Downloading yarl-1.7.2-cp37-cp37m-manylinux_2_5_x86_64.manylinux1_x86_64.manylinux_2_12_x86_64.manylinux2010_x86_64.whl (271 kB)\n",
            "\u001b[K     |████████████████████████████████| 271 kB 76.5 MB/s \n",
            "\u001b[?25hRequirement already satisfied: certifi>=2018.1.18 in /usr/local/lib/python3.7/dist-packages (from ccxt==1.66.32->finrl==0.3.5) (2022.5.18.1)\n",
            "Requirement already satisfied: requests>=2.18.4 in /usr/local/lib/python3.7/dist-packages (from ccxt==1.66.32->finrl==0.3.5) (2.23.0)\n",
            "Collecting aiodns>=1.1.1\n",
            "  Downloading aiodns-3.0.0-py3-none-any.whl (5.0 kB)\n",
            "Requirement already satisfied: idna>=2.0 in /usr/local/lib/python3.7/dist-packages (from yarl==1.7.2->ccxt==1.66.32->finrl==0.3.5) (2.10)\n",
            "Requirement already satisfied: typing-extensions>=3.7.4 in /usr/local/lib/python3.7/dist-packages (from yarl==1.7.2->ccxt==1.66.32->finrl==0.3.5) (4.2.0)\n",
            "Collecting multidict>=4.0\n",
            "  Downloading multidict-6.0.2-cp37-cp37m-manylinux_2_17_x86_64.manylinux2014_x86_64.whl (94 kB)\n",
            "\u001b[K     |████████████████████████████████| 94 kB 3.7 MB/s \n",
            "\u001b[?25hCollecting pycares>=4.0.0\n",
            "  Downloading pycares-4.1.2-cp37-cp37m-manylinux_2_5_x86_64.manylinux1_x86_64.manylinux_2_12_x86_64.manylinux2010_x86_64.whl (291 kB)\n",
            "\u001b[K     |████████████████████████████████| 291 kB 66.5 MB/s \n",
            "\u001b[?25hRequirement already satisfied: attrs>=17.3.0 in /usr/local/lib/python3.7/dist-packages (from aiohttp>=3.8->ccxt==1.66.32->finrl==0.3.5) (21.4.0)\n",
            "Collecting asynctest==0.13.0\n",
            "  Downloading asynctest-0.13.0-py3-none-any.whl (26 kB)\n",
            "Collecting async-timeout<5.0,>=4.0.0a3\n",
            "  Downloading async_timeout-4.0.2-py3-none-any.whl (5.8 kB)\n",
            "Requirement already satisfied: charset-normalizer<3.0,>=2.0 in /usr/local/lib/python3.7/dist-packages (from aiohttp>=3.8->ccxt==1.66.32->finrl==0.3.5) (2.0.12)\n",
            "Collecting aiosignal>=1.1.2\n",
            "  Downloading aiosignal-1.2.0-py3-none-any.whl (8.2 kB)\n",
            "Collecting frozenlist>=1.1.1\n",
            "  Downloading frozenlist-1.3.0-cp37-cp37m-manylinux_2_5_x86_64.manylinux1_x86_64.manylinux_2_17_x86_64.manylinux2014_x86_64.whl (144 kB)\n",
            "\u001b[K     |████████████████████████████████| 144 kB 64.2 MB/s \n",
            "\u001b[?25hRequirement already satisfied: cffi>=1.12 in /usr/local/lib/python3.7/dist-packages (from cryptography>=2.6.1->ccxt==1.66.32->finrl==0.3.5) (1.15.0)\n",
            "Requirement already satisfied: pycparser in /usr/local/lib/python3.7/dist-packages (from cffi>=1.12->cryptography>=2.6.1->ccxt==1.66.32->finrl==0.3.5) (2.21)\n",
            "Requirement already satisfied: pandas-datareader>=0.2 in /usr/local/lib/python3.7/dist-packages (from empyrical>=0.5.0->pyfolio@ git+https://github.com/quantopian/pyfolio.git#egg=pyfolio-0.9.2->finrl==0.3.5) (0.9.0)\n",
            "Requirement already satisfied: pyglet<=1.5.0,>=1.4.0 in /usr/local/lib/python3.7/dist-packages (from gym>=0.17->finrl==0.3.5) (1.5.0)\n",
            "Requirement already satisfied: cloudpickle<1.7.0,>=1.2.0 in /usr/local/lib/python3.7/dist-packages (from gym>=0.17->finrl==0.3.5) (1.3.0)\n",
            "Requirement already satisfied: decorator in /usr/local/lib/python3.7/dist-packages (from ipython>=3.2.3->pyfolio@ git+https://github.com/quantopian/pyfolio.git#egg=pyfolio-0.9.2->finrl==0.3.5) (4.4.2)\n",
            "Requirement already satisfied: pexpect in /usr/local/lib/python3.7/dist-packages (from ipython>=3.2.3->pyfolio@ git+https://github.com/quantopian/pyfolio.git#egg=pyfolio-0.9.2->finrl==0.3.5) (4.8.0)\n",
            "Requirement already satisfied: pickleshare in /usr/local/lib/python3.7/dist-packages (from ipython>=3.2.3->pyfolio@ git+https://github.com/quantopian/pyfolio.git#egg=pyfolio-0.9.2->finrl==0.3.5) (0.7.5)\n",
            "Requirement already satisfied: prompt-toolkit<2.0.0,>=1.0.4 in /usr/local/lib/python3.7/dist-packages (from ipython>=3.2.3->pyfolio@ git+https://github.com/quantopian/pyfolio.git#egg=pyfolio-0.9.2->finrl==0.3.5) (1.0.18)\n",
            "Requirement already satisfied: traitlets>=4.2 in /usr/local/lib/python3.7/dist-packages (from ipython>=3.2.3->pyfolio@ git+https://github.com/quantopian/pyfolio.git#egg=pyfolio-0.9.2->finrl==0.3.5) (5.1.1)\n",
            "Requirement already satisfied: pygments in /usr/local/lib/python3.7/dist-packages (from ipython>=3.2.3->pyfolio@ git+https://github.com/quantopian/pyfolio.git#egg=pyfolio-0.9.2->finrl==0.3.5) (2.6.1)\n",
            "Requirement already satisfied: simplegeneric>0.8 in /usr/local/lib/python3.7/dist-packages (from ipython>=3.2.3->pyfolio@ git+https://github.com/quantopian/pyfolio.git#egg=pyfolio-0.9.2->finrl==0.3.5) (0.8.1)\n",
            "Requirement already satisfied: python-dateutil>=2.1 in /usr/local/lib/python3.7/dist-packages (from matplotlib->finrl==0.3.5) (2.8.2)\n",
            "Requirement already satisfied: pyparsing!=2.0.4,!=2.1.2,!=2.1.6,>=2.0.1 in /usr/local/lib/python3.7/dist-packages (from matplotlib->finrl==0.3.5) (3.0.9)\n",
            "Requirement already satisfied: kiwisolver>=1.0.1 in /usr/local/lib/python3.7/dist-packages (from matplotlib->finrl==0.3.5) (1.4.2)\n",
            "Requirement already satisfied: cycler>=0.10 in /usr/local/lib/python3.7/dist-packages (from matplotlib->finrl==0.3.5) (0.11.0)\n",
            "Requirement already satisfied: lxml in /usr/local/lib/python3.7/dist-packages (from pandas-datareader>=0.2->empyrical>=0.5.0->pyfolio@ git+https://github.com/quantopian/pyfolio.git#egg=pyfolio-0.9.2->finrl==0.3.5) (4.2.6)\n",
            "Requirement already satisfied: six>=1.9.0 in /usr/local/lib/python3.7/dist-packages (from prompt-toolkit<2.0.0,>=1.0.4->ipython>=3.2.3->pyfolio@ git+https://github.com/quantopian/pyfolio.git#egg=pyfolio-0.9.2->finrl==0.3.5) (1.15.0)\n",
            "Requirement already satisfied: wcwidth in /usr/local/lib/python3.7/dist-packages (from prompt-toolkit<2.0.0,>=1.0.4->ipython>=3.2.3->pyfolio@ git+https://github.com/quantopian/pyfolio.git#egg=pyfolio-0.9.2->finrl==0.3.5) (0.2.5)\n",
            "Requirement already satisfied: future in /usr/local/lib/python3.7/dist-packages (from pyglet<=1.5.0,>=1.4.0->gym>=0.17->finrl==0.3.5) (0.16.0)\n",
            "Requirement already satisfied: chardet<4,>=3.0.2 in /usr/local/lib/python3.7/dist-packages (from requests>=2.18.4->ccxt==1.66.32->finrl==0.3.5) (3.0.4)\n",
            "Requirement already satisfied: urllib3!=1.25.0,!=1.25.1,<1.26,>=1.21.1 in /usr/local/lib/python3.7/dist-packages (from requests>=2.18.4->ccxt==1.66.32->finrl==0.3.5) (1.24.3)\n",
            "Requirement already satisfied: joblib>=0.11 in /usr/local/lib/python3.7/dist-packages (from scikit-learn>=0.21.0->finrl==0.3.5) (1.1.0)\n",
            "Requirement already satisfied: threadpoolctl>=2.0.0 in /usr/local/lib/python3.7/dist-packages (from scikit-learn>=0.21.0->finrl==0.3.5) (3.1.0)\n",
            "Requirement already satisfied: msgpack==1.0.3 in /usr/local/lib/python3.7/dist-packages (from alpaca_trade_api->finrl==0.3.5) (1.0.3)\n",
            "Collecting deprecation==2.1.0\n",
            "  Downloading deprecation-2.1.0-py2.py3-none-any.whl (11 kB)\n",
            "Collecting PyYAML==6.0\n",
            "  Downloading PyYAML-6.0-cp37-cp37m-manylinux_2_5_x86_64.manylinux1_x86_64.manylinux_2_12_x86_64.manylinux2010_x86_64.whl (596 kB)\n",
            "\u001b[K     |████████████████████████████████| 596 kB 60.5 MB/s \n",
            "\u001b[?25hCollecting websocket-client<2,>=0.56.0\n",
            "  Downloading websocket_client-1.3.2-py3-none-any.whl (54 kB)\n",
            "\u001b[K     |████████████████████████████████| 54 kB 3.4 MB/s \n",
            "\u001b[?25hCollecting websockets<11,>=9.0\n",
            "  Downloading websockets-10.3-cp37-cp37m-manylinux_2_5_x86_64.manylinux1_x86_64.manylinux_2_12_x86_64.manylinux2010_x86_64.whl (112 kB)\n",
            "\u001b[K     |████████████████████████████████| 112 kB 76.5 MB/s \n",
            "\u001b[?25hRequirement already satisfied: packaging in /usr/local/lib/python3.7/dist-packages (from deprecation==2.1.0->alpaca_trade_api->finrl==0.3.5) (21.3)\n",
            "Collecting pyluach\n",
            "  Downloading pyluach-2.0.0-py3-none-any.whl (22 kB)\n",
            "Requirement already satisfied: toolz in /usr/local/lib/python3.7/dist-packages (from exchange_calendars->finrl==0.3.5) (0.11.2)\n",
            "Requirement already satisfied: korean_lunar_calendar in /usr/local/lib/python3.7/dist-packages (from exchange_calendars->finrl==0.3.5) (0.2.1)\n",
            "Requirement already satisfied: SQLAlchemy>=1.2.8 in /usr/local/lib/python3.7/dist-packages (from jqdatasdk->finrl==0.3.5) (1.4.36)\n",
            "Collecting pymysql>=0.7.6\n",
            "  Downloading PyMySQL-1.0.2-py3-none-any.whl (43 kB)\n",
            "\u001b[K     |████████████████████████████████| 43 kB 2.7 MB/s \n",
            "\u001b[?25hCollecting thriftpy2>=0.3.9\n",
            "  Downloading thriftpy2-0.4.14.tar.gz (361 kB)\n",
            "\u001b[K     |████████████████████████████████| 361 kB 78.1 MB/s \n",
            "\u001b[?25hRequirement already satisfied: importlib-metadata in /usr/local/lib/python3.7/dist-packages (from SQLAlchemy>=1.2.8->jqdatasdk->finrl==0.3.5) (4.11.3)\n",
            "Requirement already satisfied: greenlet!=0.4.17 in /usr/local/lib/python3.7/dist-packages (from SQLAlchemy>=1.2.8->jqdatasdk->finrl==0.3.5) (1.1.2)\n",
            "Collecting ply<4.0,>=3.4\n",
            "  Downloading ply-3.11-py2.py3-none-any.whl (49 kB)\n",
            "\u001b[K     |████████████████████████████████| 49 kB 6.9 MB/s \n",
            "\u001b[?25hRequirement already satisfied: zipp>=0.5 in /usr/local/lib/python3.7/dist-packages (from importlib-metadata->SQLAlchemy>=1.2.8->jqdatasdk->finrl==0.3.5) (3.8.0)\n",
            "Requirement already satisfied: ptyprocess>=0.5 in /usr/local/lib/python3.7/dist-packages (from pexpect->ipython>=3.2.3->pyfolio@ git+https://github.com/quantopian/pyfolio.git#egg=pyfolio-0.9.2->finrl==0.3.5) (0.7.0)\n",
            "Collecting virtualenv>=20.0.8\n",
            "  Downloading virtualenv-20.14.1-py2.py3-none-any.whl (8.8 MB)\n",
            "\u001b[K     |████████████████████████████████| 8.8 MB 54.6 MB/s \n",
            "\u001b[?25hCollecting identify>=1.0.0\n",
            "  Downloading identify-2.5.1-py2.py3-none-any.whl (98 kB)\n",
            "\u001b[K     |████████████████████████████████| 98 kB 10.3 MB/s \n",
            "\u001b[?25hCollecting toml\n",
            "  Downloading toml-0.10.2-py2.py3-none-any.whl (16 kB)\n",
            "Collecting nodeenv>=0.11.1\n",
            "  Downloading nodeenv-1.6.0-py2.py3-none-any.whl (21 kB)\n",
            "Collecting cfgv>=2.0.0\n",
            "  Downloading cfgv-3.3.1-py2.py3-none-any.whl (7.3 kB)\n",
            "Collecting distlib<1,>=0.3.1\n",
            "  Downloading distlib-0.3.4-py2.py3-none-any.whl (461 kB)\n",
            "\u001b[K     |████████████████████████████████| 461 kB 74.4 MB/s \n",
            "\u001b[?25hRequirement already satisfied: filelock<4,>=3.2 in /usr/local/lib/python3.7/dist-packages (from virtualenv>=20.0.8->pre-commit->finrl==0.3.5) (3.7.0)\n",
            "Collecting platformdirs<3,>=2\n",
            "  Downloading platformdirs-2.5.2-py3-none-any.whl (14 kB)\n",
            "Requirement already satisfied: atomicwrites>=1.0 in /usr/local/lib/python3.7/dist-packages (from pytest->finrl==0.3.5) (1.4.0)\n",
            "Requirement already satisfied: pluggy<0.8,>=0.5 in /usr/local/lib/python3.7/dist-packages (from pytest->finrl==0.3.5) (0.7.1)\n",
            "Requirement already satisfied: more-itertools>=4.0.0 in /usr/local/lib/python3.7/dist-packages (from pytest->finrl==0.3.5) (8.13.0)\n",
            "Requirement already satisfied: py>=1.5.0 in /usr/local/lib/python3.7/dist-packages (from pytest->finrl==0.3.5) (1.11.0)\n",
            "Requirement already satisfied: jsonschema in /usr/local/lib/python3.7/dist-packages (from ray[default]->finrl==0.3.5) (4.3.3)\n",
            "Requirement already satisfied: click>=7.0 in /usr/local/lib/python3.7/dist-packages (from ray[default]->finrl==0.3.5) (7.1.2)\n",
            "Collecting grpcio<=1.43.0,>=1.28.1\n",
            "  Downloading grpcio-1.43.0-cp37-cp37m-manylinux_2_17_x86_64.manylinux2014_x86_64.whl (4.1 MB)\n",
            "\u001b[K     |████████████████████████████████| 4.1 MB 51.9 MB/s \n",
            "\u001b[?25hRequirement already satisfied: protobuf>=3.15.3 in /usr/local/lib/python3.7/dist-packages (from ray[default]->finrl==0.3.5) (3.17.3)\n",
            "Collecting gpustat>=1.0.0b1\n",
            "  Downloading gpustat-1.0.0b1.tar.gz (82 kB)\n",
            "\u001b[K     |████████████████████████████████| 82 kB 298 kB/s \n",
            "\u001b[?25hCollecting aiohttp-cors\n",
            "  Downloading aiohttp_cors-0.7.0-py3-none-any.whl (27 kB)\n",
            "Collecting py-spy>=0.2.0\n",
            "  Downloading py_spy-0.3.12-py2.py3-none-manylinux_2_5_x86_64.manylinux1_x86_64.whl (3.1 MB)\n",
            "\u001b[K     |████████████████████████████████| 3.1 MB 50.6 MB/s \n",
            "\u001b[?25hCollecting prometheus-client<0.14.0,>=0.7.1\n",
            "  Downloading prometheus_client-0.13.1-py3-none-any.whl (57 kB)\n",
            "\u001b[K     |████████████████████████████████| 57 kB 5.9 MB/s \n",
            "\u001b[?25hCollecting opencensus\n",
            "  Downloading opencensus-0.9.0-py2.py3-none-any.whl (128 kB)\n",
            "\u001b[K     |████████████████████████████████| 128 kB 60.5 MB/s \n",
            "\u001b[?25hRequirement already satisfied: smart-open in /usr/local/lib/python3.7/dist-packages (from ray[default]->finrl==0.3.5) (6.0.0)\n",
            "Collecting colorful\n",
            "  Downloading colorful-0.5.4-py2.py3-none-any.whl (201 kB)\n",
            "\u001b[K     |████████████████████████████████| 201 kB 73.8 MB/s \n",
            "\u001b[?25hRequirement already satisfied: nvidia-ml-py3>=7.352.0 in /usr/local/lib/python3.7/dist-packages (from gpustat>=1.0.0b1->ray[default]->finrl==0.3.5) (7.352.0)\n",
            "Requirement already satisfied: psutil in /usr/local/lib/python3.7/dist-packages (from gpustat>=1.0.0b1->ray[default]->finrl==0.3.5) (5.4.8)\n",
            "Collecting blessed>=1.17.1\n",
            "  Downloading blessed-1.19.1-py2.py3-none-any.whl (58 kB)\n",
            "\u001b[K     |████████████████████████████████| 58 kB 6.4 MB/s \n",
            "\u001b[?25hRequirement already satisfied: importlib-resources>=1.4.0 in /usr/local/lib/python3.7/dist-packages (from jsonschema->ray[default]->finrl==0.3.5) (5.7.1)\n",
            "Requirement already satisfied: pyrsistent!=0.17.0,!=0.17.1,!=0.17.2,>=0.14.0 in /usr/local/lib/python3.7/dist-packages (from jsonschema->ray[default]->finrl==0.3.5) (0.18.1)\n",
            "Requirement already satisfied: google-api-core<3.0.0,>=1.0.0 in /usr/local/lib/python3.7/dist-packages (from opencensus->ray[default]->finrl==0.3.5) (1.31.5)\n",
            "Collecting opencensus-context>=0.1.2\n",
            "  Downloading opencensus_context-0.1.2-py2.py3-none-any.whl (4.4 kB)\n",
            "Requirement already satisfied: googleapis-common-protos<2.0dev,>=1.6.0 in /usr/local/lib/python3.7/dist-packages (from google-api-core<3.0.0,>=1.0.0->opencensus->ray[default]->finrl==0.3.5) (1.56.1)\n",
            "Requirement already satisfied: google-auth<2.0dev,>=1.25.0 in /usr/local/lib/python3.7/dist-packages (from google-api-core<3.0.0,>=1.0.0->opencensus->ray[default]->finrl==0.3.5) (1.35.0)\n",
            "Requirement already satisfied: cachetools<5.0,>=2.0.0 in /usr/local/lib/python3.7/dist-packages (from google-auth<2.0dev,>=1.25.0->google-api-core<3.0.0,>=1.0.0->opencensus->ray[default]->finrl==0.3.5) (4.2.4)\n",
            "Requirement already satisfied: pyasn1-modules>=0.2.1 in /usr/local/lib/python3.7/dist-packages (from google-auth<2.0dev,>=1.25.0->google-api-core<3.0.0,>=1.0.0->opencensus->ray[default]->finrl==0.3.5) (0.2.8)\n",
            "Requirement already satisfied: rsa<5,>=3.1.4 in /usr/local/lib/python3.7/dist-packages (from google-auth<2.0dev,>=1.25.0->google-api-core<3.0.0,>=1.0.0->opencensus->ray[default]->finrl==0.3.5) (4.8)\n",
            "Requirement already satisfied: pyasn1<0.5.0,>=0.4.6 in /usr/local/lib/python3.7/dist-packages (from pyasn1-modules>=0.2.1->google-auth<2.0dev,>=1.25.0->google-api-core<3.0.0,>=1.0.0->opencensus->ray[default]->finrl==0.3.5) (0.4.8)\n",
            "Requirement already satisfied: tabulate in /usr/local/lib/python3.7/dist-packages (from ray[default]->finrl==0.3.5) (0.8.9)\n",
            "Collecting gym>=0.17\n",
            "  Downloading gym-0.21.0.tar.gz (1.5 MB)\n",
            "\u001b[K     |████████████████████████████████| 1.5 MB 57.9 MB/s \n",
            "\u001b[?25hCollecting autorom[accept-rom-license]~=0.4.2\n",
            "  Downloading AutoROM-0.4.2-py3-none-any.whl (16 kB)\n",
            "Requirement already satisfied: tensorboard>=2.2.0 in /usr/local/lib/python3.7/dist-packages (from stable-baselines3[extra]->finrl==0.3.5) (2.8.0)\n",
            "Collecting ale-py~=0.7.4\n",
            "  Downloading ale_py-0.7.5-cp37-cp37m-manylinux_2_17_x86_64.manylinux2014_x86_64.whl (1.6 MB)\n",
            "\u001b[K     |████████████████████████████████| 1.6 MB 54.8 MB/s \n",
            "\u001b[?25hRequirement already satisfied: pillow in /usr/local/lib/python3.7/dist-packages (from stable-baselines3[extra]->finrl==0.3.5) (7.1.2)\n",
            "Requirement already satisfied: tqdm in /usr/local/lib/python3.7/dist-packages (from autorom[accept-rom-license]~=0.4.2->stable-baselines3[extra]->finrl==0.3.5) (4.64.0)\n",
            "Collecting AutoROM.accept-rom-license\n",
            "  Downloading AutoROM.accept-rom-license-0.4.2.tar.gz (9.8 kB)\n",
            "  Installing build dependencies ... \u001b[?25l\u001b[?25hdone\n",
            "  Getting requirements to build wheel ... \u001b[?25l\u001b[?25hdone\n",
            "    Preparing wheel metadata ... \u001b[?25l\u001b[?25hdone\n",
            "Requirement already satisfied: markdown>=2.6.8 in /usr/local/lib/python3.7/dist-packages (from tensorboard>=2.2.0->stable-baselines3[extra]->finrl==0.3.5) (3.3.7)\n",
            "Requirement already satisfied: tensorboard-data-server<0.7.0,>=0.6.0 in /usr/local/lib/python3.7/dist-packages (from tensorboard>=2.2.0->stable-baselines3[extra]->finrl==0.3.5) (0.6.1)\n",
            "Requirement already satisfied: absl-py>=0.4 in /usr/local/lib/python3.7/dist-packages (from tensorboard>=2.2.0->stable-baselines3[extra]->finrl==0.3.5) (1.0.0)\n",
            "Requirement already satisfied: tensorboard-plugin-wit>=1.6.0 in /usr/local/lib/python3.7/dist-packages (from tensorboard>=2.2.0->stable-baselines3[extra]->finrl==0.3.5) (1.8.1)\n",
            "Requirement already satisfied: google-auth-oauthlib<0.5,>=0.4.1 in /usr/local/lib/python3.7/dist-packages (from tensorboard>=2.2.0->stable-baselines3[extra]->finrl==0.3.5) (0.4.6)\n",
            "Requirement already satisfied: werkzeug>=0.11.15 in /usr/local/lib/python3.7/dist-packages (from tensorboard>=2.2.0->stable-baselines3[extra]->finrl==0.3.5) (1.0.1)\n",
            "Requirement already satisfied: requests-oauthlib>=0.7.0 in /usr/local/lib/python3.7/dist-packages (from google-auth-oauthlib<0.5,>=0.4.1->tensorboard>=2.2.0->stable-baselines3[extra]->finrl==0.3.5) (1.3.1)\n",
            "Requirement already satisfied: oauthlib>=3.0.0 in /usr/local/lib/python3.7/dist-packages (from requests-oauthlib>=0.7.0->google-auth-oauthlib<0.5,>=0.4.1->tensorboard>=2.2.0->stable-baselines3[extra]->finrl==0.3.5) (3.2.0)\n",
            "Collecting mock\n",
            "  Downloading mock-4.0.3-py3-none-any.whl (28 kB)\n",
            "Collecting psycopg2-binary\n",
            "  Downloading psycopg2_binary-2.9.3-cp37-cp37m-manylinux_2_17_x86_64.manylinux2014_x86_64.whl (3.0 MB)\n",
            "\u001b[K     |████████████████████████████████| 3.0 MB 48.8 MB/s \n",
            "\u001b[?25hCollecting lxml\n",
            "  Downloading lxml-4.8.0-cp37-cp37m-manylinux_2_17_x86_64.manylinux2014_x86_64.manylinux_2_24_x86_64.whl (6.4 MB)\n",
            "\u001b[K     |████████████████████████████████| 6.4 MB 55.8 MB/s \n",
            "\u001b[?25hCollecting requests>=2.18.4\n",
            "  Using cached requests-2.27.1-py2.py3-none-any.whl (63 kB)\n",
            "Requirement already satisfied: multitasking>=0.0.7 in /usr/local/lib/python3.7/dist-packages (from yfinance->finrl==0.3.5) (0.0.10)\n",
            "Building wheels for collected packages: finrl, elegantrl, pyfolio, empyrical, exchange-calendars, gputil, thriftpy2, gpustat, gym, AutoROM.accept-rom-license\n",
            "  Building wheel for finrl (setup.py) ... \u001b[?25l\u001b[?25hdone\n",
            "  Created wheel for finrl: filename=finrl-0.3.5-py3-none-any.whl size=2740883 sha256=22aff89a87a6a87454398527337c41772f014dea68b8bf89ce9dcc7467edc7ad\n",
            "  Stored in directory: /tmp/pip-ephem-wheel-cache-xfygdjmq/wheels/68/0f/0a/2bcdb0d0328bcce6893b6d958945fd9f0ebc505cde730c1cef\n",
            "  Building wheel for elegantrl (setup.py) ... \u001b[?25l\u001b[?25hdone\n",
            "  Created wheel for elegantrl: filename=elegantrl-0.3.3-py3-none-any.whl size=240117 sha256=a8ae962037cb58b5ebe8738f06e7dd025c4a041c11f4393aa71e06848e45bb1b\n",
            "  Stored in directory: /tmp/pip-ephem-wheel-cache-xfygdjmq/wheels/99/85/5e/86cb3a9f47adfca5e248295e93113e1b298d60883126d62c84\n",
            "  Building wheel for pyfolio (setup.py) ... \u001b[?25l\u001b[?25hdone\n",
            "  Created wheel for pyfolio: filename=pyfolio-0.9.2+75.g4b901f6-py3-none-any.whl size=75774 sha256=75d99c518d9ad953fefe06f8f03c4877d8e32ebd13783420478f76543407ceb8\n",
            "  Stored in directory: /tmp/pip-ephem-wheel-cache-xfygdjmq/wheels/ef/09/e5/2c1bf37c050d22557c080deb1be986d06424627c04aeca19b9\n",
            "  Building wheel for empyrical (setup.py) ... \u001b[?25l\u001b[?25hdone\n",
            "  Created wheel for empyrical: filename=empyrical-0.5.5-py3-none-any.whl size=39780 sha256=d7676c55ef23630107807bf731c60d02b476300333d97d1aed5ba0f4f731e997\n",
            "  Stored in directory: /root/.cache/pip/wheels/d9/91/4b/654fcff57477efcf149eaca236da2fce991526cbab431bf312\n",
            "  Building wheel for exchange-calendars (setup.py) ... \u001b[?25l\u001b[?25hdone\n",
            "  Created wheel for exchange-calendars: filename=exchange_calendars-3.6.2-py3-none-any.whl size=180866 sha256=309f05391e15ca106cef960d447291de219c6c90e15cf923fe37b1598e3917b1\n",
            "  Stored in directory: /root/.cache/pip/wheels/fe/f0/d2/339cd5323acffb9770f8c6e69721a02f02380e1519eda97dc2\n",
            "  Building wheel for gputil (setup.py) ... \u001b[?25l\u001b[?25hdone\n",
            "  Created wheel for gputil: filename=GPUtil-1.4.0-py3-none-any.whl size=7411 sha256=5295b0d28c67d7ba1ad80f2ddf713e63508589e8aed42d9d75b35ad915712bf9\n",
            "  Stored in directory: /root/.cache/pip/wheels/6e/f8/83/534c52482d6da64622ddbf72cd93c35d2ef2881b78fd08ff0c\n",
            "  Building wheel for thriftpy2 (setup.py) ... \u001b[?25l\u001b[?25hdone\n",
            "  Created wheel for thriftpy2: filename=thriftpy2-0.4.14-cp37-cp37m-linux_x86_64.whl size=953102 sha256=0c14046f41c3925cfb98876b35ab25c1627c398fea0c4fb510db5b18730d8d2e\n",
            "  Stored in directory: /root/.cache/pip/wheels/2a/f5/49/9c0d851aa64b58db72883cf9393cc824d536bdf13f5c83cff4\n",
            "  Building wheel for gpustat (setup.py) ... \u001b[?25l\u001b[?25hdone\n",
            "  Created wheel for gpustat: filename=gpustat-1.0.0b1-py3-none-any.whl size=15979 sha256=6aa160fb60fbbe97cb40f1bd45f710dd46746f5f29919084f9defd9d157d37db\n",
            "  Stored in directory: /root/.cache/pip/wheels/1a/16/e2/3e2437fba4c4b6a97a97bd96fce5d14e66cff5c4966fb1cc8c\n",
            "  Building wheel for gym (setup.py) ... \u001b[?25l\u001b[?25hdone\n",
            "  Created wheel for gym: filename=gym-0.21.0-py3-none-any.whl size=1616825 sha256=7197a08361d0e293437517d56c30e20f2f3553c74aa077280c5a9f1abf7ae9ce\n",
            "  Stored in directory: /root/.cache/pip/wheels/76/ee/9c/36bfe3e079df99acf5ae57f4e3464ff2771b34447d6d2f2148\n",
            "  Building wheel for AutoROM.accept-rom-license (PEP 517) ... \u001b[?25l\u001b[?25hdone\n",
            "  Created wheel for AutoROM.accept-rom-license: filename=AutoROM.accept_rom_license-0.4.2-py3-none-any.whl size=441027 sha256=b3ca0b68ffe509533413714a2ee59863ed09d076909ff03e6280702215019147\n",
            "  Stored in directory: /root/.cache/pip/wheels/87/67/2e/6147e7912fe37f5408b80d07527dab807c1d25f5c403a9538a\n",
            "Successfully built finrl elegantrl pyfolio empyrical exchange-calendars gputil thriftpy2 gpustat gym AutoROM.accept-rom-license\n",
            "Installing collected packages: setuptools, requests, multidict, frozenlist, yarl, platformdirs, lxml, distlib, asynctest, async-timeout, aiosignal, virtualenv, PyYAML, pycares, ply, opencensus-context, gym, grpcio, blessed, AutoROM.accept-rom-license, autorom, aiohttp, websockets, websocket-client, toml, thriftpy2, tensorboardX, stable-baselines3, ray, pymysql, pyluach, pybullet, py-spy, psycopg2-binary, prometheus-client, opencensus, nodeenv, mock, identify, gpustat, empyrical, deprecation, cryptography, colorful, cfgv, box2d-py, ale-py, aiohttp-cors, aiodns, yfinance, wrds, stockstats, pyfolio, pre-commit, lz4, jqdatasdk, gputil, exchange-calendars, elegantrl, ccxt, alpaca-trade-api, finrl\n",
            "  Attempting uninstall: setuptools\n",
            "    Found existing installation: setuptools 57.4.0\n",
            "    Uninstalling setuptools-57.4.0:\n",
            "      Successfully uninstalled setuptools-57.4.0\n",
            "  Attempting uninstall: requests\n",
            "    Found existing installation: requests 2.23.0\n",
            "    Uninstalling requests-2.23.0:\n",
            "      Successfully uninstalled requests-2.23.0\n",
            "  Attempting uninstall: lxml\n",
            "    Found existing installation: lxml 4.2.6\n",
            "    Uninstalling lxml-4.2.6:\n",
            "      Successfully uninstalled lxml-4.2.6\n",
            "  Attempting uninstall: PyYAML\n",
            "    Found existing installation: PyYAML 3.13\n",
            "    Uninstalling PyYAML-3.13:\n",
            "      Successfully uninstalled PyYAML-3.13\n",
            "  Attempting uninstall: gym\n",
            "    Found existing installation: gym 0.17.3\n",
            "    Uninstalling gym-0.17.3:\n",
            "      Successfully uninstalled gym-0.17.3\n",
            "  Attempting uninstall: grpcio\n",
            "    Found existing installation: grpcio 1.46.1\n",
            "    Uninstalling grpcio-1.46.1:\n",
            "      Successfully uninstalled grpcio-1.46.1\n",
            "  Attempting uninstall: prometheus-client\n",
            "    Found existing installation: prometheus-client 0.14.1\n",
            "    Uninstalling prometheus-client-0.14.1:\n",
            "      Successfully uninstalled prometheus-client-0.14.1\n",
            "\u001b[31mERROR: pip's dependency resolver does not currently take into account all the packages that are installed. This behaviour is the source of the following dependency conflicts.\n",
            "tensorflow 2.8.0+zzzcolab20220506162203 requires tf-estimator-nightly==2.8.0.dev2021122109, which is not installed.\n",
            "google-colab 1.0.0 requires requests~=2.23.0, but you have requests 2.27.1 which is incompatible.\n",
            "datascience 0.10.6 requires folium==0.2.1, but you have folium 0.8.3 which is incompatible.\u001b[0m\n",
            "Successfully installed AutoROM.accept-rom-license-0.4.2 PyYAML-6.0 aiodns-3.0.0 aiohttp-3.8.1 aiohttp-cors-0.7.0 aiosignal-1.2.0 ale-py-0.7.5 alpaca-trade-api-2.1.0 async-timeout-4.0.2 asynctest-0.13.0 autorom-0.4.2 blessed-1.19.1 box2d-py-2.3.8 ccxt-1.66.32 cfgv-3.3.1 colorful-0.5.4 cryptography-37.0.2 deprecation-2.1.0 distlib-0.3.4 elegantrl-0.3.3 empyrical-0.5.5 exchange-calendars-3.6.2 finrl-0.3.5 frozenlist-1.3.0 gpustat-1.0.0b1 gputil-1.4.0 grpcio-1.43.0 gym-0.21.0 identify-2.5.1 jqdatasdk-1.8.10 lxml-4.8.0 lz4-4.0.1 mock-4.0.3 multidict-6.0.2 nodeenv-1.6.0 opencensus-0.9.0 opencensus-context-0.1.2 platformdirs-2.5.2 ply-3.11 pre-commit-2.19.0 prometheus-client-0.13.1 psycopg2-binary-2.9.3 py-spy-0.3.12 pybullet-3.2.5 pycares-4.1.2 pyfolio-0.9.2+75.g4b901f6 pyluach-2.0.0 pymysql-1.0.2 ray-1.12.1 requests-2.27.1 setuptools-59.5.0 stable-baselines3-1.5.0 stockstats-0.4.1 tensorboardX-2.5 thriftpy2-0.4.14 toml-0.10.2 virtualenv-20.14.1 websocket-client-1.3.2 websockets-10.3 wrds-3.1.1 yarl-1.7.2 yfinance-0.1.70\n"
          ]
        },
        {
          "output_type": "display_data",
          "data": {
            "application/vnd.colab-display-data+json": {
              "pip_warning": {
                "packages": [
                  "pkg_resources"
                ]
              }
            }
          },
          "metadata": {}
        },
        {
          "output_type": "stream",
          "name": "stdout",
          "text": [
            "Looking in indexes: https://pypi.org/simple, https://us-python.pkg.dev/colab-wheels/public/simple/\n",
            "Collecting HEBO>=0.2.0\n",
            "  Downloading HEBO-0.3.2-py3-none-any.whl (106 kB)\n",
            "\u001b[K     |████████████████████████████████| 106 kB 5.2 MB/s \n",
            "\u001b[?25hRequirement already satisfied: pandas>=1.0.1 in /usr/local/lib/python3.7/dist-packages (from HEBO>=0.2.0) (1.3.5)\n",
            "Collecting GPy>=1.9.9\n",
            "  Downloading GPy-1.10.0.tar.gz (959 kB)\n",
            "\u001b[K     |████████████████████████████████| 959 kB 28.9 MB/s \n",
            "\u001b[?25hRequirement already satisfied: numpy>=1.16 in /usr/local/lib/python3.7/dist-packages (from HEBO>=0.2.0) (1.21.6)\n",
            "Collecting catboost>=0.24.4\n",
            "  Downloading catboost-1.0.6-cp37-none-manylinux1_x86_64.whl (76.6 MB)\n",
            "\u001b[K     |████████████████████████████████| 76.6 MB 1.2 MB/s \n",
            "\u001b[?25hCollecting gpytorch>=1.4.0\n",
            "  Downloading gpytorch-1.6.0.tar.gz (310 kB)\n",
            "\u001b[K     |████████████████████████████████| 310 kB 66.2 MB/s \n",
            "\u001b[?25hRequirement already satisfied: scikit-learn>=0.22 in /usr/local/lib/python3.7/dist-packages (from HEBO>=0.2.0) (1.0.2)\n",
            "Requirement already satisfied: torch>=1.9.0 in /usr/local/lib/python3.7/dist-packages (from HEBO>=0.2.0) (1.11.0+cu113)\n",
            "Collecting pymoo>=0.5.0\n",
            "  Downloading pymoo-0.5.0-cp37-cp37m-manylinux_2_5_x86_64.manylinux1_x86_64.manylinux_2_12_x86_64.manylinux2010_x86_64.whl (2.5 MB)\n",
            "\u001b[K     |████████████████████████████████| 2.5 MB 48.4 MB/s \n",
            "\u001b[?25hRequirement already satisfied: matplotlib in /usr/local/lib/python3.7/dist-packages (from catboost>=0.24.4->HEBO>=0.2.0) (3.2.2)\n",
            "Requirement already satisfied: six in /usr/local/lib/python3.7/dist-packages (from catboost>=0.24.4->HEBO>=0.2.0) (1.15.0)\n",
            "Requirement already satisfied: scipy in /usr/local/lib/python3.7/dist-packages (from catboost>=0.24.4->HEBO>=0.2.0) (1.4.1)\n",
            "Requirement already satisfied: graphviz in /usr/local/lib/python3.7/dist-packages (from catboost>=0.24.4->HEBO>=0.2.0) (0.10.1)\n",
            "Requirement already satisfied: plotly in /usr/local/lib/python3.7/dist-packages (from catboost>=0.24.4->HEBO>=0.2.0) (5.5.0)\n",
            "Collecting paramz>=0.9.0\n",
            "  Downloading paramz-0.9.5.tar.gz (71 kB)\n",
            "\u001b[K     |████████████████████████████████| 71 kB 10.5 MB/s \n",
            "\u001b[?25hRequirement already satisfied: cython>=0.29 in /usr/local/lib/python3.7/dist-packages (from GPy>=1.9.9->HEBO>=0.2.0) (0.29.30)\n",
            "Requirement already satisfied: pytz>=2017.3 in /usr/local/lib/python3.7/dist-packages (from pandas>=1.0.1->HEBO>=0.2.0) (2022.1)\n",
            "Requirement already satisfied: python-dateutil>=2.7.3 in /usr/local/lib/python3.7/dist-packages (from pandas>=1.0.1->HEBO>=0.2.0) (2.8.2)\n",
            "Requirement already satisfied: decorator>=4.0.10 in /usr/local/lib/python3.7/dist-packages (from paramz>=0.9.0->GPy>=1.9.9->HEBO>=0.2.0) (4.4.2)\n",
            "Requirement already satisfied: autograd>=1.3 in /usr/local/lib/python3.7/dist-packages (from pymoo>=0.5.0->HEBO>=0.2.0) (1.4)\n",
            "Collecting cma==2.7\n",
            "  Downloading cma-2.7.0-py2.py3-none-any.whl (239 kB)\n",
            "\u001b[K     |████████████████████████████████| 239 kB 67.0 MB/s \n",
            "\u001b[?25hRequirement already satisfied: future>=0.15.2 in /usr/local/lib/python3.7/dist-packages (from autograd>=1.3->pymoo>=0.5.0->HEBO>=0.2.0) (0.16.0)\n",
            "Requirement already satisfied: kiwisolver>=1.0.1 in /usr/local/lib/python3.7/dist-packages (from matplotlib->catboost>=0.24.4->HEBO>=0.2.0) (1.4.2)\n",
            "Requirement already satisfied: cycler>=0.10 in /usr/local/lib/python3.7/dist-packages (from matplotlib->catboost>=0.24.4->HEBO>=0.2.0) (0.11.0)\n",
            "Requirement already satisfied: pyparsing!=2.0.4,!=2.1.2,!=2.1.6,>=2.0.1 in /usr/local/lib/python3.7/dist-packages (from matplotlib->catboost>=0.24.4->HEBO>=0.2.0) (3.0.9)\n",
            "Requirement already satisfied: typing-extensions in /usr/local/lib/python3.7/dist-packages (from kiwisolver>=1.0.1->matplotlib->catboost>=0.24.4->HEBO>=0.2.0) (4.2.0)\n",
            "Requirement already satisfied: threadpoolctl>=2.0.0 in /usr/local/lib/python3.7/dist-packages (from scikit-learn>=0.22->HEBO>=0.2.0) (3.1.0)\n",
            "Requirement already satisfied: joblib>=0.11 in /usr/local/lib/python3.7/dist-packages (from scikit-learn>=0.22->HEBO>=0.2.0) (1.1.0)\n",
            "Requirement already satisfied: tenacity>=6.2.0 in /usr/local/lib/python3.7/dist-packages (from plotly->catboost>=0.24.4->HEBO>=0.2.0) (8.0.1)\n",
            "Building wheels for collected packages: GPy, gpytorch, paramz\n",
            "  Building wheel for GPy (setup.py) ... \u001b[?25l\u001b[?25hdone\n",
            "  Created wheel for GPy: filename=GPy-1.10.0-cp37-cp37m-linux_x86_64.whl size=2565149 sha256=27eba3146b8053b9644444b45011adc3595da77b013ec0cf6f13534770bdec67\n",
            "  Stored in directory: /root/.cache/pip/wheels/f7/18/28/dd1ce0192a81b71a3b086fd952511d088b21e8359ea496860a\n",
            "  Building wheel for gpytorch (setup.py) ... \u001b[?25l\u001b[?25hdone\n",
            "  Created wheel for gpytorch: filename=gpytorch-1.6.0-py2.py3-none-any.whl size=509889 sha256=ca5b288c4ae6b0e47d8341d83868acb8bbdc0df09243c31ac07296abf2365a2a\n",
            "  Stored in directory: /root/.cache/pip/wheels/66/b5/89/34c06ad393a6feb72b4cdde46d0f1c667f3e2632960f9df109\n",
            "  Building wheel for paramz (setup.py) ... \u001b[?25l\u001b[?25hdone\n",
            "  Created wheel for paramz: filename=paramz-0.9.5-py3-none-any.whl size=102566 sha256=ece66750f803e92274068508982022e8cbcd16e974cb975b32b9c3bbf6468d47\n",
            "  Stored in directory: /root/.cache/pip/wheels/c8/95/f5/ce28482da28162e6028c4b3a32c41d147395825b3cd62bc810\n",
            "Successfully built GPy gpytorch paramz\n",
            "Installing collected packages: paramz, cma, pymoo, gpytorch, GPy, catboost, HEBO\n",
            "Successfully installed GPy-1.10.0 HEBO-0.3.2 catboost-1.0.6 cma-2.7.0 gpytorch-1.6.0 paramz-0.9.5 pymoo-0.5.0\n"
          ]
        }
      ],
      "source": [
        "!pip install git+https://github.com/NicoleRichards1998/FinRL.git\n",
        "!pip install 'HEBO>=0.2.0'"
      ]
    },
    {
      "cell_type": "code",
      "execution_count": null,
      "metadata": {
        "colab": {
          "base_uri": "https://localhost:8080/"
        },
        "id": "2WjL3e73MnNc",
        "outputId": "939fc6f7-9bbf-47fc-d849-eaca26bf3015"
      },
      "outputs": [
        {
          "output_type": "stream",
          "name": "stdout",
          "text": [
            "Setting up colab environment\n",
            "\u001b[33mWARNING: ray 1.12.1 does not provide the extra 'debug'\u001b[0m\n"
          ]
        }
      ],
      "source": [
        "print(\"Setting up colab environment\")\n",
        "!pip uninstall -y -q pyarrow\n",
        "!pip install -q -U ray[tune]\n",
        "!pip install -q ray[debug]\n",
        "\n",
        "# A hack to force the runtime to restart, needed to include the above dependencies.\n",
        "print(\"Done installing! Restarting via forced crash (this is not an issue).\")\n",
        "import os\n",
        "os._exit(0)"
      ]
    },
    {
      "cell_type": "markdown",
      "metadata": {
        "id": "--6Kx8I21erH"
      },
      "source": [
        "## Import related modules"
      ]
    },
    {
      "cell_type": "code",
      "execution_count": 1,
      "metadata": {
        "colab": {
          "base_uri": "https://localhost:8080/"
        },
        "id": "H7I7zsyYfoLJ",
        "outputId": "afb1cd68-4c7b-4c07-d0f9-b150f3b44bfc"
      },
      "outputs": [
        {
          "output_type": "stream",
          "name": "stderr",
          "text": [
            "/usr/local/lib/python3.7/dist-packages/pyfolio/pos.py:27: UserWarning: Module \"zipline.assets\" not found; multipliers will not be applied to position notionals.\n",
            "  'Module \"zipline.assets\" not found; multipliers will not be applied'\n"
          ]
        }
      ],
      "source": [
        "#from finrl.finrl_meta.env_stock_trading.env_stocktrading_np import EndRewardStockTradingEnv as StockTradingEnv1\n",
        "#from finrl.finrl_meta.env_stock_trading.env_stocktrading_np import StockTradingEnv\n",
        "#from finrl.finrl_meta.env_stock_trading.env_stocktrading_np import ChangedStockTradingEnv as StockTradingEnv2\n",
        "\n",
        "from finrl.finrl_meta.env_stock_trading.env_stock_papertrading import AlpacaPaperTrading\n",
        "from finrl.finrl_meta.data_processor import DataProcessor\n",
        "from finrl.plot import backtest_stats, backtest_plot, get_daily_return, get_baseline\n",
        "from finrl.agents.rllib.models import DRLAgent as DRLAgent_rllib\n",
        "\n",
        "import numpy as np\n",
        "import pandas as pd\n",
        "import ray\n",
        "\n",
        "from ray.rllib.agents.a3c import a2c\n",
        "from ray.rllib.agents.ddpg import ddpg, td3\n",
        "from ray.rllib.agents.ppo import ppo\n",
        "from ray.rllib.agents.ppo.ppo import PPOTrainer\n",
        "from ray.rllib.agents.ddpg import DDPGTrainer\n",
        "from ray.rllib.agents.a3c import A2CTrainer\n",
        "from ray.rllib.agents.sac import sac\n",
        "from ray.tune.logger import (\n",
        "    CSVLoggerCallback,\n",
        "    JsonLoggerCallback,\n",
        "    JsonLogger,\n",
        "    CSVLogger,\n",
        "    TBXLoggerCallback,\n",
        "    TBXLogger,\n",
        "    UnifiedLogger\n",
        ")\n",
        "from ray.tune.logger import pretty_print\n",
        "\n",
        "from ray.tune.logger import pretty_print\n",
        "from ray import tune\n",
        "from ray.tune.suggest import ConcurrencyLimiter\n",
        "from ray.tune.schedulers import AsyncHyperBandScheduler, PopulationBasedTraining\n",
        "from ray.tune.suggest.hebo import HEBOSearch\n",
        "from ray.tune.suggest.optuna import OptunaSearch\n",
        "\n",
        "from google.colab import files\n",
        "from datetime import date, timedelta, datetime\n",
        "\n",
        "from pandas.tseries.holiday import USFederalHolidayCalendar\n",
        "from pandas.core.arrays import string_\n",
        "\n",
        "import pytz\n",
        "import exchange_calendars as tc\n",
        "\n",
        "from stockstats import StockDataFrame as Sdf\n",
        "\n",
        "import psutil\n",
        "import ray\n",
        "ray._private.utils.get_system_memory = lambda: psutil.virtual_memory().total"
      ]
    },
    {
      "cell_type": "markdown",
      "metadata": {
        "id": "rcRhvYr-jUrI"
      },
      "source": [
        "## Set variables"
      ]
    },
    {
      "cell_type": "code",
      "execution_count": 3,
      "metadata": {
        "id": "UA0ldsKSjPJs"
      },
      "outputs": [],
      "source": [
        "model_algorithm = 'ppo'\n",
        "starting_capital = 1e6\n",
        "\n",
        "Number_Train_Days = 10\n",
        "\n",
        "Number_Test_Days = 9"
      ]
    },
    {
      "cell_type": "code",
      "execution_count": 4,
      "metadata": {
        "id": "hL6l6e5z2pfy"
      },
      "outputs": [],
      "source": [
        "JSEIndexes = [ 'ACL' ]"
      ]
    },
    {
      "cell_type": "code",
      "execution_count": null,
      "metadata": {
        "id": "gtaELsI5CBdr"
      },
      "outputs": [],
      "source": [
        "JSEIndexes = [ \n",
        "  'SNH',\n",
        "  'WHL',\n",
        " 'FSR',\n",
        " 'RMH',\n",
        " 'BLU',\n",
        " 'SSW',\n",
        " 'LAB',\n",
        " 'TGA',\n",
        " 'SPG',\n",
        " 'PPC',\n",
        " 'OMU',\n",
        " 'GFI',\n",
        " 'NPK',\n",
        " 'HAR',\n",
        " 'LHC',\n",
        " 'TSG',\n",
        " 'ACL',\n",
        " 'PPH',\n",
        " 'SBK',\n",
        " 'PPE',\n",
        " 'CML',\n",
        " 'MRF',\n",
        " 'MTN',\n",
        " 'AVI',\n",
        " 'SOL',\n",
        " 'EXX',\n",
        " 'TRU',\n",
        " 'NED',\n",
        " 'TCP',\n",
        " 'WSL'\n",
        " ]"
      ]
    },
    {
      "cell_type": "code",
      "execution_count": 5,
      "metadata": {
        "id": "9D-xi0Pq25RU"
      },
      "outputs": [],
      "source": [
        "ticker_list = JSEIndexes\n",
        "action_dim = len(ticker_list)\n",
        "\n",
        "INDICATORS = ['macd', 'boll_ub', 'boll_lb', 'rsi_30', 'dx_30', 'close_30_sma', 'close_60_sma']\n",
        "tech_indicator_list = INDICATORS\n",
        "env = NoIndicatorsStockTradingEnv\n",
        "\n",
        "# amount + (turbulence, turbulence_bool) + (price, shares, cd (holding time)) * stock_dim + tech_dim\n",
        "#state_dim = 1 + 2 + 3 * action_dim + len(INDICATORS) * action_dim\n",
        "state_dim = 1 + 2 + 3 * action_dim\n",
        "\n",
        "episodes_per_day = 150\n",
        "tr_batch_size = episodes_per_day*480\n",
        "\n",
        "rllib_params = {\"lr\": 5e-5, \"train_batch_size\": tr_batch_size, \"gamma\": 0.99}\n",
        "\n",
        "MODELS = {\"a2c\": a2c, \"ddpg\": ddpg, \"td3\": td3, \"sac\": sac, \"ppo\": ppo}"
      ]
    },
    {
      "cell_type": "code",
      "execution_count": null,
      "metadata": {
        "colab": {
          "base_uri": "https://localhost:8080/"
        },
        "id": "UsPrg2N-2yVm",
        "outputId": "677e4e6d-70e5-41ec-9455-3292c665de10"
      },
      "outputs": [
        {
          "data": {
            "text/plain": [
              "1"
            ]
          },
          "execution_count": 21,
          "metadata": {},
          "output_type": "execute_result"
        }
      ],
      "source": [
        "action_dim"
      ]
    },
    {
      "cell_type": "markdown",
      "metadata": {
        "id": "eW0UDAXI1nEa"
      },
      "source": [
        "# Part 2: Train the agent"
      ]
    },
    {
      "cell_type": "markdown",
      "metadata": {
        "id": "lArLOFcJ7VMO"
      },
      "source": [
        "## Train"
      ]
    },
    {
      "cell_type": "code",
      "execution_count": 6,
      "metadata": {
        "id": "tB-gLPYrjqza"
      },
      "outputs": [],
      "source": [
        "%load_ext tensorboard"
      ]
    },
    {
      "cell_type": "code",
      "execution_count": 7,
      "metadata": {
        "colab": {
          "base_uri": "https://localhost:8080/"
        },
        "id": "7Reci0sr_28X",
        "outputId": "1053e7aa-cfb2-48de-da01-744f7a288631"
      },
      "outputs": [
        {
          "output_type": "stream",
          "name": "stdout",
          "text": [
            "Mounted at /content/drive\n"
          ]
        }
      ],
      "source": [
        "from google.colab import drive\n",
        "drive.mount('/content/drive')"
      ]
    },
    {
      "cell_type": "code",
      "execution_count": 8,
      "metadata": {
        "colab": {
          "base_uri": "https://localhost:8080/"
        },
        "id": "y7bgnxHCAM1K",
        "outputId": "d08ee2b0-2e8e-4384-f2ff-b58031a6dcfa"
      },
      "outputs": [
        {
          "output_type": "stream",
          "name": "stdout",
          "text": [
            "/content/drive/MyDrive/csvfiles\n"
          ]
        }
      ],
      "source": [
        "%cd /content/drive/MyDrive/csvfiles/"
      ]
    },
    {
      "cell_type": "code",
      "execution_count": 9,
      "metadata": {
        "id": "Z1Kf5lX-Afz2"
      },
      "outputs": [],
      "source": [
        "data_df = pd.read_csv(\"JSE_Minute_Data_With_Turbulance_Indicator.csv\")"
      ]
    },
    {
      "cell_type": "code",
      "execution_count": 10,
      "metadata": {
        "id": "tPcwSO9uS8T3"
      },
      "outputs": [],
      "source": [
        "df = data_df.copy()\n",
        "df = df.sort_values(by=[\"tic\", \"date\"])\n",
        "x = 9620\n",
        "dic_tickers = {}\n",
        "\n",
        "for i in range(30):\n",
        "\n",
        "  dic_tickers[i] = df.iloc[(i*x):((i+1)*x),]"
      ]
    },
    {
      "cell_type": "code",
      "execution_count": null,
      "metadata": {
        "id": "EODMtKTRU2Zn"
      },
      "outputs": [],
      "source": [
        "dic_tickers[0]"
      ]
    },
    {
      "cell_type": "code",
      "execution_count": 11,
      "metadata": {
        "id": "ujQ986UAE6zk"
      },
      "outputs": [],
      "source": [
        "trading_days = pd.date_range(start = '02/28/22', end = '03/25/22')\n",
        "\n",
        "trading_days_List = trading_days[0:].strftime('%m/%d/%y').to_numpy().tolist()\n",
        "count = 0\n",
        "delete_number = 0\n",
        "while count < 26:\n",
        "    if (trading_days[count].weekday()>=5):\n",
        "      del trading_days_List[delete_number]\n",
        "      delete_number = delete_number - 1\n",
        "    count = count + 1\n",
        "    delete_number = delete_number + 1 "
      ]
    },
    {
      "cell_type": "code",
      "execution_count": null,
      "metadata": {
        "id": "cjlKPwOuc3Ct"
      },
      "outputs": [],
      "source": [
        "df = dic_tickers[0].copy()\n",
        "df"
      ]
    },
    {
      "cell_type": "code",
      "execution_count": 12,
      "metadata": {
        "id": "emwlGr3iVI-r"
      },
      "outputs": [],
      "source": [
        "x = 481\n",
        "df = dic_tickers[0].copy()\n",
        "df = df.reset_index(drop=True)\n",
        "dic = {}\n",
        "\n",
        "for j in range(len(df)):\n",
        "    df['date'][j] = datetime.strptime(df['date'][j], '%m/%d/%y %H:%M')\n",
        "df = df.sort_values(by=[\"date\"])\n",
        "\n",
        "for i in range(20):\n",
        "  \n",
        "  dic[i] = df.iloc[(i*x):((i+1)*x),]\n",
        "  dic[i] = dic[i].sort_values(by=[\"tic\", \"date\"])\n",
        "  dic[i] = dic[i].reset_index(drop=True)\n",
        "  #for j in range(len(dic[i])):\n",
        "  #  dic[i]['date'][j] = datetime.strptime(dic[i]['date'][j], '%m/%d/%y %H:%M')\n",
        "  dic[i] = dic[i].sort_values(by=[\"date\"])\n",
        "\n",
        "del dic[15]\n",
        "dic = dict(enumerate(dic[x] for x in sorted(dic)))"
      ]
    },
    {
      "cell_type": "code",
      "execution_count": null,
      "metadata": {
        "id": "K8jkOIA2VcLv"
      },
      "outputs": [],
      "source": [
        "dic[18]"
      ]
    },
    {
      "cell_type": "code",
      "execution_count": null,
      "metadata": {
        "id": "PrTQZJ4B5r3y"
      },
      "outputs": [],
      "source": [
        "x = 14430\n",
        "df = data_df.copy()\n",
        "dic = {}\n",
        "\n",
        "for i in range(20):\n",
        "\n",
        "  dic[i] = df.iloc[(i*x):((i+1)*x),]\n"
      ]
    },
    {
      "cell_type": "code",
      "execution_count": 13,
      "metadata": {
        "id": "bCCMqVmwm5Y6"
      },
      "outputs": [],
      "source": [
        "def df_to_array(df, if_vix):\n",
        "        df = df.copy()\n",
        "        unique_ticker = df.tic.unique()\n",
        "        if_first_time = True\n",
        "        for tic in unique_ticker:\n",
        "            if if_first_time:\n",
        "                price_array = df[df.tic == tic][[\"close\"]].values\n",
        "                tech_array = df[df.tic == tic][tech_indicator_list].values\n",
        "                if if_vix:\n",
        "                    turbulence_array = df[df.tic == tic][\"VIXY\"].values\n",
        "                else:\n",
        "                    turbulence_array = df[df.tic == tic][\"turbulence\"].values\n",
        "                if_first_time = False\n",
        "            else:\n",
        "                price_array = np.hstack(\n",
        "                    [price_array, df[df.tic == tic][[\"close\"]].values]\n",
        "                )\n",
        "                tech_array = np.hstack(\n",
        "                    [tech_array, df[df.tic == tic][tech_indicator_list].values]\n",
        "                )\n",
        "        print(\"Successfully transformed into array\")\n",
        "        return price_array, tech_array, turbulence_array"
      ]
    },
    {
      "cell_type": "code",
      "execution_count": 14,
      "metadata": {
        "id": "LDbA5YIj3kpv"
      },
      "outputs": [],
      "source": [
        "def get_config_Train(dic, Number_Days):  \n",
        "\n",
        "    env_config = []\n",
        "\n",
        "    for index in range(Number_Days):\n",
        "\n",
        "      print(index)\n",
        "\n",
        "      price_array, tech_array, turbulence_array = df_to_array(dic[index], False)\n",
        "\n",
        "      config = {\n",
        "          \"price_array\": price_array,\n",
        "          \"tech_array\": tech_array,\n",
        "          \"turbulence_array\": turbulence_array,\n",
        "          \"if_train\": True,\n",
        "      }\n",
        "\n",
        "      env_config.append(config)\n",
        "\n",
        "    return env_config"
      ]
    },
    {
      "cell_type": "code",
      "execution_count": 15,
      "metadata": {
        "colab": {
          "base_uri": "https://localhost:8080/"
        },
        "id": "vFThuQm8xjPP",
        "outputId": "1d3bd9f5-21d7-4804-a206-297f41448fd1"
      },
      "outputs": [
        {
          "output_type": "stream",
          "name": "stdout",
          "text": [
            "0\n",
            "Successfully transformed into array\n",
            "1\n",
            "Successfully transformed into array\n",
            "2\n",
            "Successfully transformed into array\n",
            "3\n",
            "Successfully transformed into array\n",
            "4\n",
            "Successfully transformed into array\n",
            "5\n",
            "Successfully transformed into array\n",
            "6\n",
            "Successfully transformed into array\n",
            "7\n",
            "Successfully transformed into array\n",
            "8\n",
            "Successfully transformed into array\n",
            "9\n",
            "Successfully transformed into array\n"
          ]
        }
      ],
      "source": [
        "train_env_config = get_config_Train(dic, Number_Train_Days)"
      ]
    },
    {
      "cell_type": "code",
      "execution_count": 16,
      "metadata": {
        "id": "MxbcfM5cbKhu"
      },
      "outputs": [],
      "source": [
        "from typing import Dict\n",
        "\n",
        "import json\n",
        "\n",
        "import os\n",
        "import tempfile\n",
        "\n",
        "from ray.tune.utils.util import SafeFallbackEncoder\n",
        "from ray.tune.logger import Logger\n",
        "\n",
        "EXPR_TRACK_FILE = \"episode_tracking.json\"\n",
        "CUSTOM_RESULTS_DIR = '/content/drive/MyDrive/TrainingData'\n",
        "DEFAULT_LOGGERS = (JsonLogger, CSVLogger, TBXLogger)\n",
        "\n",
        "class CustomLogger(Logger):\n",
        "    \"\"\"Logs custom results in json format.\"\"\"\n",
        "\n",
        "    def _init(self):\n",
        "        self.update_config(self.config)\n",
        "        logger_config = self.config.get(\"logger_config\")\n",
        "        filename = EXPR_TRACK_FILE\n",
        "        if logger_config:\n",
        "            filename = logger_config.get(\"filename\") or filename\n",
        "        local_file = os.path.join(self.logdir, filename)\n",
        "        self.local_out = open(local_file, \"a\")\n",
        "\n",
        "    def on_result(self, result: Dict):\n",
        "        tracking_data = result[\"episode_media\"]\n",
        "        if not tracking_data:\n",
        "            return\n",
        "        json.dump(tracking_data, self, cls=SafeFallbackEncoder)\n",
        "        self.write(\"\\n\")\n",
        "        self.local_out.flush()\n",
        "\n",
        "    def write(self, b):\n",
        "        self.local_out.write(b)\n",
        "\n",
        "    def flush(self):\n",
        "        if not self.local_out.closed:\n",
        "            self.local_out.flush()\n",
        "\n",
        "    def close(self):\n",
        "        self.local_out.close()\n",
        "\n",
        "    def update_config(self, config: Dict):\n",
        "        self.config = config\n",
        "\n",
        "def custom_logger_creator(config):\n",
        "    \"\"\"Creates a Unified logger with a default logdir prefix\n",
        "    containing the agent name and the env id\n",
        "    \"\"\"\n",
        "    timestr = datetime.today().strftime(\"%Y-%m-%d_%H-%M-%S\")\n",
        "    logdir_prefix = \"{}_{}_{}\".format(\"PPO\", \"HSP\", timestr)\n",
        "    if not os.path.exists(CUSTOM_RESULTS_DIR):\n",
        "        os.makedirs(CUSTOM_RESULTS_DIR)\n",
        "    logdir = tempfile.mkdtemp(\n",
        "        prefix=logdir_prefix, dir=CUSTOM_RESULTS_DIR)\n",
        "    loggers = list(DEFAULT_LOGGERS)\n",
        "    loggers.append(CustomLogger)\n",
        "    return UnifiedLogger(config, logdir, loggers=loggers)"
      ]
    },
    {
      "cell_type": "code",
      "execution_count": 17,
      "metadata": {
        "id": "4RcIBZ5S7mwq"
      },
      "outputs": [],
      "source": [
        "def training(\n",
        "        env_config,\n",
        "        drl_lib,\n",
        "        env,\n",
        "        model_name,\n",
        "        init_ray=True,\n",
        "        **kwargs\n",
        "):\n",
        "   \n",
        "    env_instance = env(config=env_config)\n",
        "\n",
        "    print(env_instance)\n",
        "\n",
        "    rllib_params = kwargs.get(\"rllib_params\")\n",
        "    \n",
        "    agent_rllib = DRLAgent_rllib(\n",
        "            env=env,\n",
        "            price_array=env_config['price_array'],\n",
        "            tech_array=env_config['tech_array'],\n",
        "            turbulence_array=env_config['turbulence_array'],\n",
        "        )\n",
        "    \n",
        "    print(agent_rllib)\n",
        "\n",
        "    model, model_config = agent_rllib.get_model(model_name)\n",
        "\n",
        "    print('got model_config')\n",
        "\n",
        "    model_config[\"lr\"] = rllib_params[\"lr\"]\n",
        "    model_config[\"train_batch_size\"] = rllib_params[\"train_batch_size\"]\n",
        "    model_config[\"gamma\"] = rllib_params[\"gamma\"]\n",
        "\n",
        "    #model_config[\"output\"] = \"/content/drive/MyDrive/csvfiles\" \n",
        "    #model_config[\"local_dir\"] = \"./trained_models\"\n",
        "    #model_config[\"reuse_actors\"] = True\n",
        "    #model_config[\"callbacks\"] = [TBXLoggerCallback()]\n",
        "\n",
        "    model_config['framework'] = \"tf2\"\n",
        "    model_config['num_workers'] = 4\n",
        "    model_config['num_cpus_per_worker'] = 0 \n",
        "    model_config['num_gpus'] = 1\n",
        "    model_config[\"eager_tracing\"] = True\n",
        "\n",
        "    model_config[\"model\"][\"use_lstm\"] = True\n",
        "    model_config[\"model\"][\"lstm_cell_size\"] = 256\n",
        "    model_config[\"model\"][\"lstm_use_prev_action\"] = True\n",
        "    model_config[\"model\"][\"lstm_use_prev_reward\"] = True\n",
        "\n",
        "    if model_name not in MODELS:\n",
        "            raise NotImplementedError(\"NotImplementedError\")\n",
        "    if init_ray:\n",
        "            ray.init(\n",
        "                ignore_reinit_error=True\n",
        "            )  # Other Ray APIs will not work until `ray.init()` is called.\n",
        "    print('ray initialised')\n",
        "\n",
        "    if model_name == \"ppo\":\n",
        "            trainer = model.PPOTrainer(env=env, logger_creator=custom_logger_creator, config=model_config)\n",
        "    elif model_name == \"a2c\":\n",
        "            trainer = model.A2CTrainer(env=env, config=model_config)\n",
        "    elif model_name == \"ddpg\":\n",
        "            trainer = model.DDPGTrainer(env=env, config=model_config)\n",
        "    elif model_name == \"td3\":\n",
        "            trainer = model.TD3Trainer(env=env, config=model_config)\n",
        "    elif model_name == \"sac\":\n",
        "            trainer = model.SACTrainer(env=env, config=model_config)\n",
        "\n",
        "    print('got trainer')\n",
        "    return(trainer)"
      ]
    },
    {
      "cell_type": "code",
      "execution_count": 18,
      "metadata": {
        "id": "HXecMHYV8kJB"
      },
      "outputs": [],
      "source": [
        "def train_model(\n",
        "        total_episodes,\n",
        "        env_config_list,\n",
        "        drl_lib,\n",
        "        env,\n",
        "        model_name,\n",
        "        init_ray=True,\n",
        "        **kwargs\n",
        "):\n",
        "\n",
        "        s = \"{:3d} reward {:6.2f}/{:6.2f}/{:6.2f} len {:6.2f} saved {}\"\n",
        "\n",
        "        trainer = training(\n",
        "                        env_config = env_config_list[0],\n",
        "                        drl_lib='rllib', \n",
        "                        env=env,\n",
        "                        model_name = model_algorithm, \n",
        "                        init_ray=True,\n",
        "                        rllib_params = rllib_params)\n",
        "        #trainer.restore('/tmp/rllib_checkpoint/checkpoint_000010/checkpoint-10')\n",
        "        result = trainer.train()\n",
        "        print(pretty_print(result))\n",
        "            \n",
        "        file_name = trainer.save(\"/tmp/rllib_checkpoint\")\n",
        "\n",
        "        print(s.format(\n",
        "              1,\n",
        "              result[\"episode_reward_min\"],\n",
        "              result[\"episode_reward_mean\"],\n",
        "              result[\"episode_reward_max\"],\n",
        "              result[\"episode_len_mean\"],\n",
        "              file_name\n",
        "            ))\n",
        "\n",
        "        ray.shutdown()\n",
        "\n",
        "        for episode in range(total_episodes-1):\n",
        "            trainer = training(\n",
        "                        env_config = env_config_list[episode+1],\n",
        "                        drl_lib='rllib',\n",
        "                        env=env,\n",
        "                        model_name = model_algorithm, \n",
        "                        init_ray=True,\n",
        "                        rllib_params = rllib_params)\n",
        "                        \n",
        "            trainer.restore(file_name)\n",
        "            result = trainer.train()\n",
        "            print(pretty_print(result))\n",
        "            \n",
        "            file_name = trainer.save(\"/tmp/rllib_checkpoint\")\n",
        "\n",
        "            print(s.format(\n",
        "              episode + 2,\n",
        "              result[\"episode_reward_min\"],\n",
        "              result[\"episode_reward_mean\"],\n",
        "              result[\"episode_reward_max\"],\n",
        "              result[\"episode_len_mean\"],\n",
        "              file_name\n",
        "            ))\n",
        "\n",
        "            ray.shutdown()\n",
        "  \n",
        "        return file_name"
      ]
    },
    {
      "cell_type": "code",
      "source": [
        "trainer.save(\"/content/drive/MyDrive/TrainingData\")"
      ],
      "metadata": {
        "id": "ff0Uz1-b-usU"
      },
      "execution_count": null,
      "outputs": []
    },
    {
      "cell_type": "code",
      "execution_count": null,
      "metadata": {
        "id": "VsLR82DV_XVM"
      },
      "outputs": [],
      "source": [
        "ray.shutdown()"
      ]
    },
    {
      "cell_type": "code",
      "execution_count": null,
      "metadata": {
        "id": "hSH8aaB-8cTK"
      },
      "outputs": [],
      "source": [
        "checkpoint_path = train_model(\n",
        "      total_episodes = len(train_env_config),\n",
        "      env_config_list = train_env_config,\n",
        "      drl_lib='rllib', \n",
        "      env=env,\n",
        "      model_name = model_algorithm, \n",
        "      rllib_params = rllib_params)"
      ]
    },
    {
      "cell_type": "markdown",
      "source": [
        "## Tune"
      ],
      "metadata": {
        "id": "cR_xKppIVuQZ"
      }
    },
    {
      "cell_type": "code",
      "source": [
        "!pip install comet_ml --quiet"
      ],
      "metadata": {
        "colab": {
          "base_uri": "https://localhost:8080/"
        },
        "id": "nTeN47-f3veF",
        "outputId": "d7fd1774-635f-481a-bace-5d3f251ac875"
      },
      "execution_count": 19,
      "outputs": [
        {
          "output_type": "stream",
          "name": "stdout",
          "text": [
            "\u001b[K     |████████████████████████████████| 350 kB 5.1 MB/s \n",
            "\u001b[K     |████████████████████████████████| 552 kB 51.9 MB/s \n",
            "\u001b[K     |████████████████████████████████| 54 kB 2.9 MB/s \n",
            "\u001b[?25h  Building wheel for configobj (setup.py) ... \u001b[?25l\u001b[?25hdone\n"
          ]
        }
      ]
    },
    {
      "cell_type": "code",
      "source": [
        "import comet_ml\n",
        "comet_ml.init(project_name='comet-ray')"
      ],
      "metadata": {
        "id": "XVbboi-r3xqY"
      },
      "execution_count": 20,
      "outputs": []
    },
    {
      "cell_type": "code",
      "source": [
        "day = 0"
      ],
      "metadata": {
        "id": "40Y1tsBmWo59"
      },
      "execution_count": 21,
      "outputs": []
    },
    {
      "cell_type": "code",
      "source": [
        "def sample_ppo_params():\n",
        "  return {\n",
        "      \"clip_param\": tune.choice([ 0.1, 0.2, 0.3, 0.4, 0.5, 0.6 ]),\n",
        "      \"lambda\": tune.loguniform(0.9, 1),\n",
        "      \"lr\": tune.loguniform(5e-6, 0.003),\n",
        "      \"gamma\": tune.loguniform(0.9, 0.9997),\n",
        "      \"train_batch_size\": 960\n",
        "  }\n",
        "\n",
        "def sample_ddpg_params():\n",
        "  \n",
        "  return {\n",
        "  \"critic_lr\": tune.loguniform(1e-3, 1e-4),\n",
        "  \"actor_lr\": tune.loguniform(1e-3, 1e-5),\n",
        "  \"tau\": tune.loguniform(0, 1e-3),\n",
        "  \"train_batch_size\": 4800\n",
        "  }\n",
        "\n",
        "def sample_a2c_params():\n",
        "  \n",
        "  return{\n",
        "       \"lambda\": tune.choice([0.1,0.3,0.5,0.7,0.9,1.0]),\n",
        "      \"entropy_coeff\": tune.loguniform(0.00000001, 0.1),\n",
        "      \"lr\": tune.loguniform(1e-5, 1),\n",
        "      \"gamma\": tune.loguniform(0.9, 0.9997),\n",
        "      \"train_batch_size\": 4800   \n",
        "  } \n",
        "\n",
        "from ray.tune.registry import register_env\n",
        "from ray.tune.integration.comet import CometLoggerCallback\n",
        "from ray.tune.logger import (\n",
        "    CSVLoggerCallback,\n",
        "    JsonLoggerCallback,\n",
        "    JsonLogger,\n",
        "    CSVLogger,\n",
        "    TBXLoggerCallback,\n",
        "    TBXLogger,\n",
        ")\n",
        "\n",
        "env_name = 'StockTrading_train_env'\n",
        "register_env(env_name, lambda config: env(train_env_config[day]))\n",
        "\n",
        "MODEL_TRAINER = {'a2c':A2CTrainer,'ppo':PPOTrainer,'ddpg':DDPGTrainer}\n",
        "\n",
        "if model_algorithm == \"ddpg\":\n",
        "    sample_hyperparameters = sample_ddpg_params()\n",
        "elif model_algorithm == \"ppo\":\n",
        "  sample_hyperparameters = sample_ppo_params()\n",
        "elif model_algorithm == \"a2c\":\n",
        "  sample_hyperparameters = sample_a2c_params()\n",
        "  \n",
        "def run_optuna_tune():\n",
        "\n",
        "  #bayesopt = BayesOptSearch(metric=\"episode_reward_mean\", mode=\"max\")\n",
        "  #hebo = HEBOSearch()\n",
        "  #re_search_alg = Repeater(search_alg, repeat=10)\n",
        "\n",
        "  #algo = OptunaSearch()\n",
        "  #algo = ConcurrencyLimiter(algo,max_concurrent=4)\n",
        "  #scheduler = AsyncHyperBandScheduler(time_attr='training_iteration',\n",
        "\t#\t\t\t\tmetric='episode_reward_mean',\n",
        "  #        mode='max'\n",
        "\t#\t\t\tgrace_period=10)\n",
        "  #scheduler=pbt\n",
        "  #num_samples = 10\n",
        "  #training_iterations = 50\n",
        "\n",
        "  # maximum number of concurrent trials\n",
        "  max_concurrent = 8\n",
        "\n",
        "  algo = HEBOSearch(\n",
        "        # space = space, # If you want to set the space\n",
        "        #points_to_evaluate=previously_run_params,\n",
        "        #evaluated_rewards=known_rewards,\n",
        "        random_state_seed=123,  # for reproducibility\n",
        "        max_concurrent=max_concurrent,\n",
        "    )\n",
        "\n",
        "  scheduler = AsyncHyperBandScheduler()\n",
        "\n",
        "  training_iterations = 100\n",
        "  num_samples = 15\n",
        "\n",
        "  analysis = tune.run(\n",
        "        MODEL_TRAINER[model_algorithm],\n",
        "        metric=\"episode_reward_mean\", #The metric to optimize for tuning\n",
        "        mode=\"max\", #Maximize the metric\n",
        "        #name='B1',\n",
        "        search_alg=algo,\n",
        "        scheduler=scheduler,\n",
        "        num_samples=num_samples,\n",
        "        keep_checkpoints_num = num_samples,\n",
        "        stop = {'training_iteration':training_iterations},\n",
        "        checkpoint_score_attr ='episode_reward_mean',#Only store keep_checkpoints_num trials based on this score\n",
        "        checkpoint_freq=training_iterations,\n",
        "        verbose=1,\n",
        "        local_dir=\"./tuned_models\",#Saving tensorboard plots\n",
        "        callbacks=[\n",
        "          CometLoggerCallback(\n",
        "            tags=[\"try1\"],\n",
        "          ),\n",
        "          TBXLoggerCallback()\n",
        "        ],\n",
        "        raise_on_failed_trial=False,\n",
        "        #keep_checkpoints_num = num_samples, \n",
        "        #checkpoint_score_attr ='episode_reward_mean',#Only store keep_checkpoints_num trials based on this score\n",
        "        #checkpoint_freq=training_iterations,\n",
        "        #resources_per_trial={'gpu':1,'cpu':1},\n",
        "        config = {\n",
        "                **sample_hyperparameters,\n",
        "                'env':'StockTrading_train_env',\n",
        "                'framework':'tf2',\n",
        "                \"eager_tracing\" : True,\n",
        "                \"num_workers\": 1,\n",
        "                # Total GPU usage: num_gpus (trainer proc) + num_gpus_per_worker (workers)\n",
        "                #\"num_gpus_per_worker\": 0.25,\n",
        "                # this corresponds to the number of learner GPUs used,\n",
        "                # not the total used for the environments/rollouts\n",
        "                \"num_gpus\": 1,\n",
        "                \"num_envs_per_worker\": 1,\n",
        "                #\"callbacks\": LoggingCallbacks,\n",
        "                \"model\":{\n",
        "                    \"use_lstm\": True,\n",
        "                    \"lstm_cell_size\": 256,\n",
        "                    \"lstm_use_prev_action\": True,\n",
        "                    \"lstm_use_prev_reward\": True,\n",
        "                  }\n",
        "                },\n",
        "  )\n",
        "\n",
        "\n",
        "  print(\"Best hyperparameter: \", analysis.best_config)\n",
        "  #print(\"Training: \", analysis.trails)\n",
        "  return analysis"
      ],
      "metadata": {
        "id": "iv2m0NwAb29h"
      },
      "execution_count": 23,
      "outputs": []
    },
    {
      "cell_type": "code",
      "source": [
        "ray.shutdown()"
      ],
      "metadata": {
        "id": "xNp3EY_zdYLr"
      },
      "execution_count": 38,
      "outputs": []
    },
    {
      "cell_type": "code",
      "source": [
        "analysis = run_optuna_tune()"
      ],
      "metadata": {
        "colab": {
          "base_uri": "https://localhost:8080/",
          "height": 729
        },
        "id": "dl4-krvYVz1A",
        "outputId": "d81b1233-8343-4beb-bc1b-127506fd8418"
      },
      "execution_count": null,
      "outputs": [
        {
          "output_type": "display_data",
          "data": {
            "text/plain": [
              "<IPython.core.display.HTML object>"
            ],
            "text/html": [
              "== Status ==<br>Current time: 2022-05-31 09:25:54 (running for 00:39:50.53)<br>Memory usage on this node: 3.5/12.7 GiB<br>Using AsyncHyperBand: num_stopped=3\n",
              "Bracket: Iter 64.000: 1.4753381691192082 | Iter 16.000: 0.8757561359652066 | Iter 4.000: 0.8939537174007357 | Iter 1.000: 0.4520516210011186<br>Resources requested: 2.0/2 CPUs, 1.0/1 GPUs, 0.0/7.33 GiB heap, 0.0/3.67 GiB objects (0.0/1.0 accelerator_type:P100)<br>Current best trial: be8979ea with episode_reward_mean=1.9966949208803462 and parameters={'num_workers': 1, 'num_envs_per_worker': 1, 'create_env_on_driver': False, 'rollout_fragment_length': 960, 'batch_mode': 'truncate_episodes', 'gamma': 0.9737845873631671, 'lr': 0.0006061546514029871, 'train_batch_size': 960, 'model': {'_use_default_native_models': False, '_disable_preprocessor_api': False, '_disable_action_flattening': False, 'fcnet_hiddens': [256, 256], 'fcnet_activation': 'tanh', 'conv_filters': None, 'conv_activation': 'relu', 'post_fcnet_hiddens': [], 'post_fcnet_activation': 'relu', 'free_log_std': False, 'no_final_linear': False, 'vf_share_layers': False, 'use_lstm': True, 'max_seq_len': 20, 'lstm_cell_size': 256, 'lstm_use_prev_action': True, 'lstm_use_prev_reward': True, '_time_major': False, 'use_attention': False, 'attention_num_transformer_units': 1, 'attention_dim': 64, 'attention_num_heads': 1, 'attention_head_dim': 32, 'attention_memory_inference': 50, 'attention_memory_training': 50, 'attention_position_wise_mlp_dim': 32, 'attention_init_gru_gate_bias': 2.0, 'attention_use_n_prev_actions': 0, 'attention_use_n_prev_rewards': 0, 'framestack': True, 'dim': 84, 'grayscale': False, 'zero_mean': True, 'custom_model': None, 'custom_model_config': {}, 'custom_action_dist': None, 'custom_preprocessor': None, 'lstm_use_prev_action_reward': -1}, 'optimizer': {}, 'horizon': None, 'soft_horizon': False, 'no_done_at_end': False, 'env': 'StockTrading_train_env', 'observation_space': None, 'action_space': None, 'env_config': {}, 'remote_worker_envs': False, 'remote_env_batch_wait_ms': 0, 'env_task_fn': None, 'render_env': False, 'record_env': False, 'clip_rewards': None, 'normalize_actions': True, 'clip_actions': False, 'preprocessor_pref': 'deepmind', 'log_level': 'WARN', 'callbacks': <class 'ray.rllib.agents.callbacks.DefaultCallbacks'>, 'ignore_worker_failures': False, 'log_sys_usage': True, 'fake_sampler': False, 'framework': 'tf2', 'eager_tracing': True, 'eager_max_retraces': 20, 'explore': True, 'exploration_config': {'type': 'StochasticSampling'}, 'evaluation_interval': None, 'evaluation_duration': 10, 'evaluation_duration_unit': 'episodes', 'evaluation_parallel_to_training': False, 'in_evaluation': False, 'evaluation_config': {'num_workers': 1, 'num_envs_per_worker': 1, 'create_env_on_driver': False, 'rollout_fragment_length': 960, 'batch_mode': 'truncate_episodes', 'gamma': 0.9737845873631671, 'lr': 0.0006061546514029871, 'train_batch_size': 960, 'model': {'_use_default_native_models': False, '_disable_preprocessor_api': False, '_disable_action_flattening': False, 'fcnet_hiddens': [256, 256], 'fcnet_activation': 'tanh', 'conv_filters': None, 'conv_activation': 'relu', 'post_fcnet_hiddens': [], 'post_fcnet_activation': 'relu', 'free_log_std': False, 'no_final_linear': False, 'vf_share_layers': False, 'use_lstm': True, 'max_seq_len': 20, 'lstm_cell_size': 256, 'lstm_use_prev_action': True, 'lstm_use_prev_reward': True, '_time_major': False, 'use_attention': False, 'attention_num_transformer_units': 1, 'attention_dim': 64, 'attention_num_heads': 1, 'attention_head_dim': 32, 'attention_memory_inference': 50, 'attention_memory_training': 50, 'attention_position_wise_mlp_dim': 32, 'attention_init_gru_gate_bias': 2.0, 'attention_use_n_prev_actions': 0, 'attention_use_n_prev_rewards': 0, 'framestack': True, 'dim': 84, 'grayscale': False, 'zero_mean': True, 'custom_model': None, 'custom_model_config': {}, 'custom_action_dist': None, 'custom_preprocessor': None, 'lstm_use_prev_action_reward': -1}, 'optimizer': {}, 'horizon': None, 'soft_horizon': False, 'no_done_at_end': False, 'env': 'StockTrading_train_env', 'observation_space': None, 'action_space': None, 'env_config': {}, 'remote_worker_envs': False, 'remote_env_batch_wait_ms': 0, 'env_task_fn': None, 'render_env': False, 'record_env': False, 'clip_rewards': None, 'normalize_actions': True, 'clip_actions': False, 'preprocessor_pref': 'deepmind', 'log_level': 'WARN', 'callbacks': <class 'ray.rllib.agents.callbacks.DefaultCallbacks'>, 'ignore_worker_failures': False, 'log_sys_usage': True, 'fake_sampler': False, 'framework': 'tf2', 'eager_tracing': True, 'eager_max_retraces': 20, 'explore': True, 'exploration_config': {'type': 'StochasticSampling'}, 'evaluation_interval': None, 'evaluation_duration': 10, 'evaluation_duration_unit': 'episodes', 'evaluation_parallel_to_training': False, 'in_evaluation': False, 'evaluation_config': {}, 'evaluation_num_workers': 0, 'custom_eval_function': None, 'always_attach_evaluation_results': False, 'keep_per_episode_custom_metrics': False, 'sample_async': False, 'sample_collector': <class 'ray.rllib.evaluation.collectors.simple_list_collector.SimpleListCollector'>, 'observation_filter': 'NoFilter', 'synchronize_filters': True, 'tf_session_args': {'intra_op_parallelism_threads': 2, 'inter_op_parallelism_threads': 2, 'gpu_options': {'allow_growth': True}, 'log_device_placement': False, 'device_count': {'CPU': 1}, 'allow_soft_placement': True}, 'local_tf_session_args': {'intra_op_parallelism_threads': 8, 'inter_op_parallelism_threads': 8}, 'compress_observations': False, 'metrics_episode_collection_timeout_s': 180, 'metrics_num_episodes_for_smoothing': 100, 'min_time_s_per_reporting': None, 'min_train_timesteps_per_reporting': None, 'min_sample_timesteps_per_reporting': 0, 'seed': None, 'extra_python_environs_for_driver': {}, 'extra_python_environs_for_worker': {}, 'num_gpus': 1, '_fake_gpus': False, 'num_cpus_per_worker': 1, 'num_gpus_per_worker': 0, 'custom_resources_per_worker': {}, 'num_cpus_for_driver': 1, 'placement_strategy': 'PACK', 'input': 'sampler', 'input_config': {}, 'actions_in_input_normalized': False, 'input_evaluation': ['is', 'wis'], 'postprocess_inputs': False, 'shuffle_buffer_size': 0, 'output': None, 'output_config': {}, 'output_compress_columns': ['obs', 'new_obs'], 'output_max_file_size': 67108864, 'multiagent': {'policies': {'default_policy': PolicySpec(policy_class=<class 'ray.rllib.policy.tf_policy_template.PPOTFPolicy'>, observation_space=Box([-3000. -3000. -3000. -3000. -3000. -3000.], [3000. 3000. 3000. 3000. 3000. 3000.], (6,), float32), action_space=Box([-1.], [1.], (1,), float32), config={})}, 'policy_map_capacity': 100, 'policy_map_cache': None, 'policy_mapping_fn': None, 'policies_to_train': None, 'observation_fn': None, 'replay_mode': 'independent', 'count_steps_by': 'env_steps'}, 'logger_config': None, '_tf_policy_handles_more_than_one_loss': False, '_disable_preprocessor_api': False, '_disable_action_flattening': False, '_disable_execution_plan_api': False, 'disable_env_checking': False, 'simple_optimizer': True, 'monitor': -1, 'evaluation_num_episodes': -1, 'metrics_smoothing_episodes': -1, 'timesteps_per_iteration': 0, 'min_iter_time_s': -1, 'collect_metrics_timeout': -1, 'use_critic': True, 'use_gae': True, 'lambda': 0.9240210864723069, 'kl_coeff': 0.2, 'sgd_minibatch_size': 128, 'shuffle_sequences': True, 'num_sgd_iter': 30, 'lr_schedule': None, 'vf_loss_coeff': 1.0, 'entropy_coeff': 0.0, 'entropy_coeff_schedule': None, 'clip_param': 0.5, 'vf_clip_param': 10.0, 'grad_clip': None, 'kl_target': 0.01, 'vf_share_layers': -1}, 'evaluation_num_workers': 0, 'custom_eval_function': None, 'always_attach_evaluation_results': False, 'keep_per_episode_custom_metrics': False, 'sample_async': False, 'sample_collector': <class 'ray.rllib.evaluation.collectors.simple_list_collector.SimpleListCollector'>, 'observation_filter': 'NoFilter', 'synchronize_filters': True, 'tf_session_args': {'intra_op_parallelism_threads': 2, 'inter_op_parallelism_threads': 2, 'gpu_options': {'allow_growth': True}, 'log_device_placement': False, 'device_count': {'CPU': 1}, 'allow_soft_placement': True}, 'local_tf_session_args': {'intra_op_parallelism_threads': 8, 'inter_op_parallelism_threads': 8}, 'compress_observations': False, 'metrics_episode_collection_timeout_s': 180, 'metrics_num_episodes_for_smoothing': 100, 'min_time_s_per_reporting': None, 'min_train_timesteps_per_reporting': None, 'min_sample_timesteps_per_reporting': 0, 'seed': None, 'extra_python_environs_for_driver': {}, 'extra_python_environs_for_worker': {}, 'num_gpus': 1, '_fake_gpus': False, 'num_cpus_per_worker': 1, 'num_gpus_per_worker': 0, 'custom_resources_per_worker': {}, 'num_cpus_for_driver': 1, 'placement_strategy': 'PACK', 'input': 'sampler', 'input_config': {}, 'actions_in_input_normalized': False, 'input_evaluation': ['is', 'wis'], 'postprocess_inputs': False, 'shuffle_buffer_size': 0, 'output': None, 'output_config': {}, 'output_compress_columns': ['obs', 'new_obs'], 'output_max_file_size': 67108864, 'multiagent': {'policies': {'default_policy': PolicySpec(policy_class=<class 'ray.rllib.policy.tf_policy_template.PPOTFPolicy'>, observation_space=Box([-3000. -3000. -3000. -3000. -3000. -3000.], [3000. 3000. 3000. 3000. 3000. 3000.], (6,), float32), action_space=Box([-1.], [1.], (1,), float32), config={})}, 'policy_map_capacity': 100, 'policy_map_cache': None, 'policy_mapping_fn': None, 'policies_to_train': None, 'observation_fn': None, 'replay_mode': 'independent', 'count_steps_by': 'env_steps'}, 'logger_config': None, '_tf_policy_handles_more_than_one_loss': False, '_disable_preprocessor_api': False, '_disable_action_flattening': False, '_disable_execution_plan_api': False, 'disable_env_checking': False, 'simple_optimizer': True, 'monitor': -1, 'evaluation_num_episodes': -1, 'metrics_smoothing_episodes': -1, 'timesteps_per_iteration': 0, 'min_iter_time_s': -1, 'collect_metrics_timeout': -1, 'use_critic': True, 'use_gae': True, 'lambda': 0.9240210864723069, 'kl_coeff': 0.2, 'sgd_minibatch_size': 128, 'shuffle_sequences': True, 'num_sgd_iter': 30, 'lr_schedule': None, 'vf_loss_coeff': 1.0, 'entropy_coeff': 0.0, 'entropy_coeff_schedule': None, 'clip_param': 0.5, 'vf_clip_param': 10.0, 'grad_clip': None, 'kl_target': 0.01, 'vf_share_layers': -1}<br>Result logdir: /content/drive/MyDrive/csvfiles/tuned_models/PPOTrainer_2022-05-31_08-46-04<br>Number of trials: 7/15 (1 PENDING, 1 RUNNING, 5 TERMINATED)<br><br>"
            ]
          },
          "metadata": {}
        }
      ]
    },
    {
      "cell_type": "code",
      "source": [
        "%tensorboard --logdir ~/ray_results/tuned_models"
      ],
      "metadata": {
        "id": "v1KtJRv-V-1M",
        "colab": {
          "base_uri": "https://localhost:8080/"
        },
        "outputId": "94e5af8d-cc26-4f37-e755-02e0d91faa8a"
      },
      "execution_count": 1,
      "outputs": [
        {
          "output_type": "stream",
          "name": "stderr",
          "text": [
            "UsageError: Line magic function `%tensorboard` not found.\n"
          ]
        }
      ]
    },
    {
      "cell_type": "code",
      "source": [
        "analysis.dataframe()"
      ],
      "metadata": {
        "id": "lYBqODCbOtz8"
      },
      "execution_count": null,
      "outputs": []
    },
    {
      "cell_type": "code",
      "source": [
        "# Plot training results\n",
        "import matplotlib.pyplot as plt\n",
        "import pandas as pd\n",
        "colors = plt.rcParams['axes.prop_cycle'].by_key()['color']\n",
        "df = analysis.dataframe()\n",
        "# Get column for total loss, policy loss, and value loss\n",
        "tl_col = [i for i, j in enumerate(df.columns)\n",
        "          if 'total_loss' in j][0]\n",
        "pl_col = [i for i, j in enumerate(df.columns)\n",
        "          if 'policy_loss' in j][0]\n",
        "vl_col = [i for i, j in enumerate(df.columns)\n",
        "          if 'vf_loss' in j][0]\n",
        "labels = []\n",
        "fig, ax = plt.subplots(2, 2, figsize=(15, 15), sharex=True)\n",
        "for i, path in df['logdir'].iteritems():\n",
        "    data = pd.read_csv(path + '/progress.csv')\n",
        "    # Get labels for legend\n",
        "    lr = data['experiment_tag'][0].split('=')[1].split(',')[0]\n",
        "    layers = data['experiment_tag'][0].split('=')[-1]\n",
        "    labels.append('LR={}; Shared Layers={}'.format(lr, layers))\n",
        "    \n",
        "    ax[0, 0].plot(data['timesteps_total'], \n",
        "            data['episode_reward_mean'], c=colors[i],\n",
        "            label=labels[-1])\n",
        "    \n",
        "    ax[0, 1].plot(data['timesteps_total'], \n",
        "           data.iloc[:, tl_col], c=colors[i],\n",
        "           label=labels[-1])\n",
        "    \n",
        "    ax[1, 0].plot(data['timesteps_total'], \n",
        "               data.iloc[:, pl_col], c=colors[i],\n",
        "               label=labels[-1])\n",
        "    \n",
        "    \n",
        "    ax[1, 1].plot(data['timesteps_total'], \n",
        "               data.iloc[:, vl_col], c=colors[i],\n",
        "               label=labels[-1])\n",
        "ax[0, 0].set_ylabel('Mean Rewards')\n",
        "ax[0, 0].set_title('Training Rewards by Time Step')\n",
        "ax[0, 0].legend(labels=labels, loc='upper center',\n",
        "        ncol=3, bbox_to_anchor=[0.75, 1.2])\n",
        "ax[0, 1].set_title('Total Loss by Time Step')\n",
        "ax[0, 1].set_ylabel('Total Loss')\n",
        "ax[0, 1].set_xlabel('Training Episodes')\n",
        "ax[1, 0].set_title('Policy Loss by Time Step')\n",
        "ax[1, 0].set_ylabel('Policy Loss')\n",
        "ax[1, 0].set_xlabel('Time Step')\n",
        "ax[1, 1].set_title('Value Loss by Time Step')\n",
        "ax[1, 1].set_ylabel('Value Loss')\n",
        "ax[1, 1].set_xlabel('Time Step')\n",
        "plt.show()"
      ],
      "metadata": {
        "colab": {
          "base_uri": "https://localhost:8080/"
        },
        "id": "zFw1oAkApDnW",
        "outputId": "baff9dc7-7af9-4d88-8686-7076d941c89b"
      },
      "execution_count": 29,
      "outputs": [
        {
          "output_type": "stream",
          "name": "stderr",
          "text": [
            "UsageError: Line magic function `%export` not found.\n"
          ]
        }
      ]
    },
    {
      "cell_type": "code",
      "source": [
        "best_logdir = {}\n",
        "best_checkpoint = {}\n",
        "best_config = {}\n",
        "\n",
        "best_logdir[day] = analysis.get_best_logdir(metric='episode_reward_mean',mode='max')\n",
        "best_checkpoint[day] = analysis.best_checkpoint\n",
        "best_config[day] = analysis.best_config "
      ],
      "metadata": {
        "id": "PQPWWvDzWR73",
        "colab": {
          "base_uri": "https://localhost:8080/"
        },
        "outputId": "41a79cb0-b243-4df3-b2fb-1522cf4e906b"
      },
      "execution_count": 30,
      "outputs": [
        {
          "output_type": "stream",
          "name": "stderr",
          "text": [
            "2022-05-30 09:08:25,026\tERROR experiment_analysis.py:450 -- No checkpoints have been found for trial PPOTrainer_StockTrading_train_env_49b26d7c.\n"
          ]
        }
      ]
    },
    {
      "cell_type": "markdown",
      "source": [
        "## Graphs"
      ],
      "metadata": {
        "id": "N_RImI5-V0ng"
      }
    },
    {
      "cell_type": "code",
      "execution_count": null,
      "metadata": {
        "id": "85_KUcy04wyz"
      },
      "outputs": [],
      "source": [
        "def stringToList(string):\n",
        "    listRes = list(string.split(\", \"))\n",
        "    return listRes\n",
        "\n",
        "def fixString(reward_list):\n",
        "  float_list = reward_list.replace('[', '')\n",
        "  float_list = float_list.replace(']', '')\n",
        "  float_list = stringToList(float_list)\n",
        "  float_list = [float(x) for x in float_list]\n",
        "  return float_list"
      ]
    },
    {
      "cell_type": "code",
      "execution_count": null,
      "metadata": {
        "id": "wzeMFisPg4o-"
      },
      "outputs": [],
      "source": [
        "run_through_A8 = {}\n",
        "run_through_A9 = {}\n",
        "run_through_A10 = {}"
      ]
    },
    {
      "cell_type": "code",
      "source": [
        "# my reward function, with indicators"
      ],
      "metadata": {
        "id": "Bigu5ThuLOQ9"
      },
      "execution_count": null,
      "outputs": []
    },
    {
      "cell_type": "code",
      "execution_count": null,
      "metadata": {
        "colab": {
          "base_uri": "https://localhost:8080/"
        },
        "id": "6wH5DvnS-y6c",
        "outputId": "7c03b10c-7135-4e33-92bc-43c4b19abc4d"
      },
      "outputs": [
        {
          "output_type": "stream",
          "name": "stdout",
          "text": [
            "/content/drive/MyDrive/TrainingData/PPO_HSP_2022-05-23_07-03-30dq755ny0\n",
            "/content/drive/MyDrive/TrainingData/PPO_HSP_2022-05-23_07-18-03l5_lemz3\n",
            "/content/drive/MyDrive/TrainingData/PPO_HSP_2022-05-23_07-33-58xpod9b1y\n",
            "/content/drive/MyDrive/TrainingData/PPO_HSP_2022-05-23_07-52-17pn0i8kao\n",
            "/content/drive/MyDrive/TrainingData/PPO_HSP_2022-05-23_08-14-33odc3zd0o\n",
            "/content/drive/MyDrive/TrainingData/PPO_HSP_2022-05-23_08-45-482vydbczz\n",
            "/content/drive/MyDrive/TrainingData/PPO_HSP_2022-05-23_09-25-490fcpereh\n",
            "/content/drive/MyDrive/TrainingData/PPO_HSP_2022-05-23_10-11-272nuwnbjr\n",
            "/content/drive/MyDrive/TrainingData/PPO_HSP_2022-05-23_11-17-16fht581gt\n",
            "/content/drive/MyDrive/TrainingData/PPO_HSP_2022-05-23_12-41-02y6jrfiq4\n"
          ]
        }
      ],
      "source": [
        "%cd /content/drive/MyDrive/TrainingData/PPO_HSP_2022-05-23_07-03-30dq755ny0/\n",
        "training_data1 = pd.read_csv('progress.csv')\n",
        "episode_reward_list1 = fixString(training_data1['hist_stats/episode_reward'][0])\n",
        "run_through_A8[0] = episode_reward_list1\n",
        "\n",
        "%cd /content/drive/MyDrive/TrainingData/PPO_HSP_2022-05-23_07-18-03l5_lemz3/\n",
        "training_data2 = pd.read_csv('progress.csv')\n",
        "episode_reward_list2 = fixString(training_data2['hist_stats/episode_reward'][0])\n",
        "run_through_A8[1] = episode_reward_list2\n",
        "\n",
        "%cd /content/drive/MyDrive/TrainingData/PPO_HSP_2022-05-23_07-33-58xpod9b1y/\n",
        "training_data3 = pd.read_csv('progress.csv')\n",
        "episode_reward_list3 = fixString(training_data3['hist_stats/episode_reward'][0])\n",
        "run_through_A8[2] = episode_reward_list3\n",
        "\n",
        "%cd /content/drive/MyDrive/TrainingData/PPO_HSP_2022-05-23_07-52-17pn0i8kao/\n",
        "training_data4 = pd.read_csv('progress.csv')\n",
        "episode_reward_list4 = fixString(training_data4['hist_stats/episode_reward'][0])\n",
        "run_through_A8[3] = episode_reward_list4\n",
        "\n",
        "%cd /content/drive/MyDrive/TrainingData/PPO_HSP_2022-05-23_08-14-33odc3zd0o/\n",
        "training_data5 = pd.read_csv('progress.csv')\n",
        "episode_reward_list5 = fixString(training_data5['hist_stats/episode_reward'][0])\n",
        "run_through_A8[4] = episode_reward_list5\n",
        "\n",
        "%cd /content/drive/MyDrive/TrainingData/PPO_HSP_2022-05-23_08-45-482vydbczz/\n",
        "training_data6 = pd.read_csv('progress.csv')\n",
        "episode_reward_list6 = fixString(training_data6['hist_stats/episode_reward'][0])\n",
        "run_through_A8[5] = episode_reward_list6\n",
        "\n",
        "%cd /content/drive/MyDrive/TrainingData/PPO_HSP_2022-05-23_09-25-490fcpereh/\n",
        "training_data7 = pd.read_csv('progress.csv')\n",
        "episode_reward_list7 = fixString(training_data7['hist_stats/episode_reward'][0])\n",
        "run_through_A8[6] = episode_reward_list7\n",
        "\n",
        "%cd /content/drive/MyDrive/TrainingData/PPO_HSP_2022-05-23_10-11-272nuwnbjr/\n",
        "training_data8 = pd.read_csv('progress.csv')\n",
        "episode_reward_list8 = fixString(training_data8['hist_stats/episode_reward'][0])\n",
        "run_through_A8[7] = episode_reward_list8\n",
        "\n",
        "%cd /content/drive/MyDrive/TrainingData/PPO_HSP_2022-05-23_11-17-16fht581gt/\n",
        "training_data9 = pd.read_csv('progress.csv')\n",
        "episode_reward_list9 = fixString(training_data9['hist_stats/episode_reward'][0])\n",
        "run_through_A8[8] = episode_reward_list9\n",
        "\n",
        "%cd /content/drive/MyDrive/TrainingData/PPO_HSP_2022-05-23_12-41-02y6jrfiq4/\n",
        "training_data10 = pd.read_csv('progress.csv')\n",
        "episode_reward_list10 = fixString(training_data10['hist_stats/episode_reward'][0])\n",
        "run_through_A8[9] = episode_reward_list10"
      ]
    },
    {
      "cell_type": "code",
      "execution_count": null,
      "metadata": {
        "id": "3epPKsm3telO"
      },
      "outputs": [],
      "source": [
        "# reward at end, without indicators"
      ]
    },
    {
      "cell_type": "code",
      "execution_count": null,
      "metadata": {
        "colab": {
          "base_uri": "https://localhost:8080/"
        },
        "id": "zkrvtLyDjGR_",
        "outputId": "0c2beeca-9f7c-43f2-a8f6-df9da80e61bb"
      },
      "outputs": [
        {
          "output_type": "stream",
          "name": "stdout",
          "text": [
            "/content/drive/MyDrive/TrainingData/PPO_HSP_2022-05-24_04-55-19v4wjb1zf\n",
            "/content/drive/MyDrive/TrainingData/PPO_HSP_2022-05-24_05-09-57vz3l0_09\n",
            "/content/drive/MyDrive/TrainingData/PPO_HSP_2022-05-24_05-26-13tzkx22bn\n",
            "/content/drive/MyDrive/TrainingData/PPO_HSP_2022-05-24_05-44-29dqbht7_7\n",
            "/content/drive/MyDrive/TrainingData/PPO_HSP_2022-05-24_06-05-2544o46ack\n",
            "/content/drive/MyDrive/TrainingData/PPO_HSP_2022-05-24_06-29-2995_ulgnl\n",
            "/content/drive/MyDrive/TrainingData/PPO_HSP_2022-05-24_06-58-13aw79hsag\n",
            "/content/drive/MyDrive/TrainingData/PPO_HSP_2022-05-24_07-32-02ibufhbt4\n",
            "/content/drive/MyDrive/TrainingData/PPO_HSP_2022-05-24_08-11-59oug380cw\n",
            "/content/drive/MyDrive/TrainingData/PPO_HSP_2022-05-24_09-04-45lwwyfl0b\n"
          ]
        }
      ],
      "source": [
        "%cd /content/drive/MyDrive/TrainingData/PPO_HSP_2022-05-24_04-55-19v4wjb1zf/\n",
        "training_data1 = pd.read_csv('progress.csv')\n",
        "episode_reward_list1 = fixString(training_data1['hist_stats/episode_reward'][0])\n",
        "run_through_A10[0] = episode_reward_list1\n",
        "\n",
        "%cd /content/drive/MyDrive/TrainingData/PPO_HSP_2022-05-24_05-09-57vz3l0_09/\n",
        "training_data1 = pd.read_csv('progress.csv')\n",
        "episode_reward_list2 = fixString(training_data1['hist_stats/episode_reward'][0])\n",
        "run_through_A10[1] = episode_reward_list2\n",
        "\n",
        "%cd /content/drive/MyDrive/TrainingData/PPO_HSP_2022-05-24_05-26-13tzkx22bn/\n",
        "training_data1 = pd.read_csv('progress.csv')\n",
        "episode_reward_list3 = fixString(training_data1['hist_stats/episode_reward'][0])\n",
        "run_through_A10[2] = episode_reward_list3\n",
        "\n",
        "%cd /content/drive/MyDrive/TrainingData/PPO_HSP_2022-05-24_05-44-29dqbht7_7/\n",
        "training_data1 = pd.read_csv('progress.csv')\n",
        "episode_reward_list4 = fixString(training_data1['hist_stats/episode_reward'][0])\n",
        "run_through_A10[3] = episode_reward_list4\n",
        "\n",
        "%cd /content/drive/MyDrive/TrainingData/PPO_HSP_2022-05-24_06-05-2544o46ack/\n",
        "training_data1 = pd.read_csv('progress.csv')\n",
        "episode_reward_list5 = fixString(training_data1['hist_stats/episode_reward'][0])\n",
        "run_through_A10[4] = episode_reward_list5\n",
        "\n",
        "%cd /content/drive/MyDrive/TrainingData/PPO_HSP_2022-05-24_06-29-2995_ulgnl/\n",
        "training_data1 = pd.read_csv('progress.csv')\n",
        "episode_reward_list6 = fixString(training_data1['hist_stats/episode_reward'][0])\n",
        "run_through_A10[5] = episode_reward_list6\n",
        "\n",
        "%cd /content/drive/MyDrive/TrainingData/PPO_HSP_2022-05-24_06-58-13aw79hsag/\n",
        "training_data1 = pd.read_csv('progress.csv')\n",
        "episode_reward_list7 = fixString(training_data1['hist_stats/episode_reward'][0])\n",
        "run_through_A10[6] = episode_reward_list7\n",
        "\n",
        "%cd /content/drive/MyDrive/TrainingData/PPO_HSP_2022-05-24_07-32-02ibufhbt4/\n",
        "training_data1 = pd.read_csv('progress.csv')\n",
        "episode_reward_list8 = fixString(training_data1['hist_stats/episode_reward'][0])\n",
        "run_through_A10[7] = episode_reward_list8\n",
        "\n",
        "%cd /content/drive/MyDrive/TrainingData/PPO_HSP_2022-05-24_08-11-59oug380cw/\n",
        "training_data1 = pd.read_csv('progress.csv')\n",
        "episode_reward_list9 = fixString(training_data1['hist_stats/episode_reward'][0])\n",
        "run_through_A10[8] = episode_reward_list9\n",
        "\n",
        "%cd /content/drive/MyDrive/TrainingData/PPO_HSP_2022-05-24_09-04-45lwwyfl0b/\n",
        "training_data1 = pd.read_csv('progress.csv')\n",
        "episode_reward_list10 = fixString(training_data1['hist_stats/episode_reward'][0])\n",
        "run_through_A10[9] = episode_reward_list10"
      ]
    },
    {
      "cell_type": "code",
      "source": [
        "# OG reward function, without indicators"
      ],
      "metadata": {
        "id": "sm4yYD8-lubF"
      },
      "execution_count": null,
      "outputs": []
    },
    {
      "cell_type": "code",
      "execution_count": null,
      "metadata": {
        "colab": {
          "base_uri": "https://localhost:8080/"
        },
        "outputId": "4242abb7-c349-490c-a933-79aed3ed89a6",
        "id": "fp38K_l-ltXc"
      },
      "outputs": [
        {
          "output_type": "stream",
          "name": "stdout",
          "text": [
            "/content/drive/MyDrive/TrainingData/PPO_HSP_2022-05-26_05-51-43pj0jbdog\n",
            "/content/drive/MyDrive/TrainingData/PPO_HSP_2022-05-26_06-07-248jwldcn6\n",
            "/content/drive/MyDrive/TrainingData/PPO_HSP_2022-05-26_06-23-57ent7pctf\n",
            "/content/drive/MyDrive/TrainingData/PPO_HSP_2022-05-26_06-42-50wj8ltht1\n",
            "/content/drive/MyDrive/TrainingData/PPO_HSP_2022-05-26_07-04-1096llm5o3\n",
            "/content/drive/MyDrive/TrainingData/PPO_HSP_2022-05-26_07-29-26pw34d0ll\n",
            "/content/drive/MyDrive/TrainingData/PPO_HSP_2022-05-26_07-58-048e4vy398\n",
            "/content/drive/MyDrive/TrainingData/PPO_HSP_2022-05-26_08-31-484zn7gukc\n",
            "/content/drive/MyDrive/TrainingData/PPO_HSP_2022-05-26_09-11-28w32ak2dc\n",
            "/content/drive/MyDrive/TrainingData/PPO_HSP_2022-05-26_10-00-52osq_87j8\n"
          ]
        }
      ],
      "source": [
        "%cd /content/drive/MyDrive/TrainingData/PPO_HSP_2022-05-26_05-51-43pj0jbdog/\n",
        "training_data1 = pd.read_csv('progress.csv')\n",
        "episode_reward_list10 = fixString(training_data1['hist_stats/episode_reward'][0])\n",
        "run_through_A9[0] = episode_reward_list10\n",
        "\n",
        "%cd /content/drive/MyDrive/TrainingData/PPO_HSP_2022-05-26_06-07-248jwldcn6/\n",
        "training_data1 = pd.read_csv('progress.csv')\n",
        "episode_reward_list9 = fixString(training_data1['hist_stats/episode_reward'][0])\n",
        "run_through_A9[1] = episode_reward_list9\n",
        "\n",
        "%cd /content/drive/MyDrive/TrainingData/PPO_HSP_2022-05-26_06-23-57ent7pctf/\n",
        "training_data1 = pd.read_csv('progress.csv')\n",
        "episode_reward_list8 = fixString(training_data1['hist_stats/episode_reward'][0])\n",
        "run_through_A9[2] = episode_reward_list8\n",
        "\n",
        "%cd /content/drive/MyDrive/TrainingData/PPO_HSP_2022-05-26_06-42-50wj8ltht1/\n",
        "training_data1 = pd.read_csv('progress.csv')\n",
        "episode_reward_list7 = fixString(training_data1['hist_stats/episode_reward'][0])\n",
        "run_through_A9[3] = episode_reward_list7\n",
        "\n",
        "%cd /content/drive/MyDrive/TrainingData/PPO_HSP_2022-05-26_07-04-1096llm5o3/\n",
        "training_data1 = pd.read_csv('progress.csv')\n",
        "episode_reward_list6 = fixString(training_data1['hist_stats/episode_reward'][0])\n",
        "run_through_A9[4] = episode_reward_list6\n",
        "\n",
        "%cd /content/drive/MyDrive/TrainingData/PPO_HSP_2022-05-26_07-29-26pw34d0ll/\n",
        "training_data1 = pd.read_csv('progress.csv')\n",
        "episode_reward_list5 = fixString(training_data1['hist_stats/episode_reward'][0])\n",
        "run_through_A9[5] = episode_reward_list5\n",
        "\n",
        "%cd /content/drive/MyDrive/TrainingData/PPO_HSP_2022-05-26_07-58-048e4vy398/\n",
        "training_data1 = pd.read_csv('progress.csv')\n",
        "episode_reward_list4 = fixString(training_data1['hist_stats/episode_reward'][0])\n",
        "run_through_A9[6] = episode_reward_list4\n",
        "\n",
        "%cd /content/drive/MyDrive/TrainingData/PPO_HSP_2022-05-26_08-31-484zn7gukc/\n",
        "training_data1 = pd.read_csv('progress.csv')\n",
        "episode_reward_list3 = fixString(training_data1['hist_stats/episode_reward'][0])\n",
        "run_through_A9[7] = episode_reward_list3\n",
        "\n",
        "%cd /content/drive/MyDrive/TrainingData/PPO_HSP_2022-05-26_09-11-28w32ak2dc/\n",
        "training_data1 = pd.read_csv('progress.csv')\n",
        "episode_reward_list2 = fixString(training_data1['hist_stats/episode_reward'][0])\n",
        "run_through_A9[8] = episode_reward_list2\n",
        "\n",
        "%cd /content/drive/MyDrive/TrainingData/PPO_HSP_2022-05-26_10-00-52osq_87j8/\n",
        "training_data1 = pd.read_csv('progress.csv')\n",
        "episode_reward_list1 = fixString(training_data1['hist_stats/episode_reward'][0])\n",
        "run_through_A9[9] = episode_reward_list1"
      ]
    },
    {
      "cell_type": "code",
      "execution_count": null,
      "metadata": {
        "id": "fygUUU4cUwDJ"
      },
      "outputs": [],
      "source": [
        "def average_of_list(data):\n",
        "  av_list = []\n",
        "  for i in range(episodes_per_day):\n",
        "    sum = 0\n",
        "    for index in range(10):\n",
        "      sum = sum + dic[index][i]\n",
        "    av = sum / 10\n",
        "    av_list.append(av)\n",
        "  return av_list"
      ]
    },
    {
      "cell_type": "code",
      "source": [
        "len(run_through_A9[0])"
      ],
      "metadata": {
        "colab": {
          "base_uri": "https://localhost:8080/"
        },
        "id": "Kytgqs2beAX-",
        "outputId": "3758c458-f626-4b8b-9e66-9424541c2597"
      },
      "execution_count": null,
      "outputs": [
        {
          "output_type": "execute_result",
          "data": {
            "text/plain": [
              "148"
            ]
          },
          "metadata": {},
          "execution_count": 36
        }
      ]
    },
    {
      "cell_type": "code",
      "execution_count": null,
      "metadata": {
        "colab": {
          "base_uri": "https://localhost:8080/"
        },
        "id": "T158JBjmWCRj",
        "outputId": "ad66272e-ac50-4f03-c033-0e05b1e9afa4"
      },
      "outputs": [
        {
          "output_type": "stream",
          "name": "stdout",
          "text": [
            "[-5.575246970359968, -5.91094360291192, -5.456433532916211, -5.188679351061398, -5.425785784757431, -5.093769187522575, -6.476435377123062, -5.653635137242369, -5.4114566886598245, -3.9149486687080794, -6.764498391092225, -6.546214829398528, -5.595691281982541, -6.342208562208324, -7.0859580910853, -5.623096662712976, -5.7094922703896005, -4.870415992844967, -4.761390673980989, -5.10702523367373, -5.4347576374845925, -5.049092976001594, -7.356941313045854, -5.819738192782504, -6.277878834292653, -5.682637805455601, -4.47944470118214, -4.860446972307589, -6.7599018997828555, -5.482704977563238, -6.486038479746298, -6.867616224267216, -6.055945462929114, -4.18588274055942, -4.907212456768766, -6.25663506335682, -5.9692715752624625, -4.662587077586691, -6.154316571745726, -7.152079323580443, -6.288574065390807, -4.6528032944896065, -6.234910051035886, -4.2928709725100855, -7.400482395975667, -6.502460613809156, -5.684558396677746, -5.4343621432127565, -5.693631265546105, -6.059395024367957, -6.820183318145442, -6.020806680047906, -4.552596055489365, -5.914228867052832, -4.8887718073233986, -4.732698369851699, -5.979670916838093, -5.885956246246496, -5.273521388754193, -5.721609435462521, -5.459941102317009, -5.966625015866094, -7.0459354051080325, -5.21389808564755, -6.295116374270577, -5.510403869258418, -6.852047764028995, -6.019106533991076, -5.922881584649042, -5.771482887879562, -5.454039412388748, -4.138055226557777, -6.079832384446655, -4.746304118428734, -6.448227529921057, -5.65404499438057, -5.850360988215823, -7.169252691256818, -6.104672156542842, -6.117479430008015, -6.714998692099938, -6.6847198241923085, -3.7006697833982054, -5.721414753211536, -5.431523635970277, -4.8760538657202686, -7.00216784502607, -7.164984319815659, -5.776872198692535, -5.58181316229942, -4.053144628708527, -5.965376514610979, -5.632996748718013, -5.261386975570177, -5.235283225448316, -5.9573619428238995, -5.999452814605361, -6.13116124585418, -6.4683969647016495, -6.723922178084825, -6.73855202340936, -5.282621149215328, -4.572655994104613, -5.069581226806703, -6.215652465873224, -6.353034694520984, -4.71709952039414, -6.575295942574653, -6.053862316098931, -7.566078468687271, -5.571563632983542, -5.989042365724847, -5.745156346523609, -5.220059618990436, -7.287800231755864, -5.100232173918965, -6.079581055012739, -6.640415206282458, -6.130996552375768, -5.150096621452411, -6.17382498380555, -5.449655472747997, -4.182606907710776, -5.508254591950752, -6.3574835681603235, -5.25993045784575, -4.836246423396314, -5.202927089169727, -7.748594846672704, -5.606547453281587, -5.522635797725492, -5.936299475796187, -5.313388669059887, -6.443114130696548, -6.192367066144319, -6.6664689993983615, -5.87153107771128, -6.284604589057082, -5.4040983995636145, -5.325562517172119, -3.483440930078885, -5.658889679002298, -4.783213062760541, -5.160343995515559, -5.899128569941189, -5.529643320434656, -4.4663444093268945, -5.3765814904312945]\n"
          ]
        }
      ],
      "source": [
        "data = run_through_A8.copy()\n",
        "av_list8 = []\n",
        "for i in range(episodes_per_day-2):\n",
        "  sum = 0\n",
        "  for index in range(10):\n",
        "    sum = sum + data[index][i]\n",
        "    #print(sum)\n",
        "  av = sum / 10\n",
        "  av_list8.append(av)\n",
        "print(av_list8)"
      ]
    },
    {
      "cell_type": "code",
      "execution_count": null,
      "metadata": {
        "colab": {
          "base_uri": "https://localhost:8080/",
          "height": 290
        },
        "id": "nNA4TVmHmT7t",
        "outputId": "2b154363-90b6-4d1d-d56b-468089da2217"
      },
      "outputs": [
        {
          "output_type": "display_data",
          "data": {
            "text/plain": [
              "<IPython.core.display.Javascript object>"
            ],
            "application/javascript": [
              "\n",
              "    async function download(id, filename, size) {\n",
              "      if (!google.colab.kernel.accessAllowed) {\n",
              "        return;\n",
              "      }\n",
              "      const div = document.createElement('div');\n",
              "      const label = document.createElement('label');\n",
              "      label.textContent = `Downloading \"${filename}\": `;\n",
              "      div.appendChild(label);\n",
              "      const progress = document.createElement('progress');\n",
              "      progress.max = size;\n",
              "      div.appendChild(progress);\n",
              "      document.body.appendChild(div);\n",
              "\n",
              "      const buffers = [];\n",
              "      let downloaded = 0;\n",
              "\n",
              "      const channel = await google.colab.kernel.comms.open(id);\n",
              "      // Send a message to notify the kernel that we're ready.\n",
              "      channel.send({})\n",
              "\n",
              "      for await (const message of channel.messages) {\n",
              "        // Send a message to notify the kernel that we're ready.\n",
              "        channel.send({})\n",
              "        if (message.buffers) {\n",
              "          for (const buffer of message.buffers) {\n",
              "            buffers.push(buffer);\n",
              "            downloaded += buffer.byteLength;\n",
              "            progress.value = downloaded;\n",
              "          }\n",
              "        }\n",
              "      }\n",
              "      const blob = new Blob(buffers, {type: 'application/binary'});\n",
              "      const a = document.createElement('a');\n",
              "      a.href = window.URL.createObjectURL(blob);\n",
              "      a.download = filename;\n",
              "      div.appendChild(a);\n",
              "      a.click();\n",
              "      div.remove();\n",
              "    }\n",
              "  "
            ]
          },
          "metadata": {}
        },
        {
          "output_type": "display_data",
          "data": {
            "text/plain": [
              "<IPython.core.display.Javascript object>"
            ],
            "application/javascript": [
              "download(\"download_d34197d9-e5be-49a9-bd0a-1a70c55beb89\", \"Training Process of RL Agent.png\", 326474)"
            ]
          },
          "metadata": {}
        },
        {
          "output_type": "display_data",
          "data": {
            "text/plain": [
              "<Figure size 432x288 with 1 Axes>"
            ],
            "image/png": "[encoded data removed]"
          },
          "metadata": {}
        }
      ],
      "source": [
        "%matplotlib inline\n",
        "import matplotlib\n",
        "import matplotlib.pyplot as plt\n",
        "plt.style.use('seaborn-whitegrid')\n",
        "matplotlib.rcParams['mathtext.fontset'] = 'stix'\n",
        "matplotlib.rcParams['font.family'] = 'STIXGeneral'\n",
        " \n",
        "x = list(range(episodes_per_day-2))\n",
        "y1 = av_list8\n",
        "y2 = av_list9\n",
        "y3 = av_list10\n",
        "\n",
        "fig = plt.figure(1)\n",
        "\n",
        "plt.plot(x, y1, 'xkcd:sky blue', label = \"Training of RL Agent with Changed Reward Function\") \n",
        "plt.plot(x, y2, 'xkcd:steel blue', label = \"Training of RL Agent with Original Reward Function\")\n",
        "plt.plot(x, y3, 'xkcd:sea green', label = \"Training of RL Agent with Single End Reward\")\n",
        "    \n",
        "# naming the x axis \n",
        "plt.xlabel('Training Episodes') \n",
        "# naming the y axis \n",
        "plt.ylabel('Average Episode Reward') \n",
        "plt.legend(loc='center left', bbox_to_anchor=(1, 0.5))\n",
        "\n",
        "header = \"Training Process of RL Agent\"\n",
        "plt.title(header) \n",
        "    \n",
        "filename = header + \".png\"\n",
        "#plt.savefig(filename, dpi=300)\n",
        "fig.savefig(filename, dpi=300, bbox_inches='tight')\n",
        "files.download(filename) \n",
        "\n",
        "# function to show the plot \n",
        "plt.show()"
      ]
    },
    {
      "cell_type": "code",
      "execution_count": null,
      "metadata": {
        "colab": {
          "base_uri": "https://localhost:8080/",
          "height": 290
        },
        "id": "9cwNTwuG9JK5",
        "outputId": "aaab81af-340e-41cd-f07c-cfd646be30f2"
      },
      "outputs": [
        {
          "output_type": "display_data",
          "data": {
            "text/plain": [
              "<IPython.core.display.Javascript object>"
            ],
            "application/javascript": [
              "\n",
              "    async function download(id, filename, size) {\n",
              "      if (!google.colab.kernel.accessAllowed) {\n",
              "        return;\n",
              "      }\n",
              "      const div = document.createElement('div');\n",
              "      const label = document.createElement('label');\n",
              "      label.textContent = `Downloading \"${filename}\": `;\n",
              "      div.appendChild(label);\n",
              "      const progress = document.createElement('progress');\n",
              "      progress.max = size;\n",
              "      div.appendChild(progress);\n",
              "      document.body.appendChild(div);\n",
              "\n",
              "      const buffers = [];\n",
              "      let downloaded = 0;\n",
              "\n",
              "      const channel = await google.colab.kernel.comms.open(id);\n",
              "      // Send a message to notify the kernel that we're ready.\n",
              "      channel.send({})\n",
              "\n",
              "      for await (const message of channel.messages) {\n",
              "        // Send a message to notify the kernel that we're ready.\n",
              "        channel.send({})\n",
              "        if (message.buffers) {\n",
              "          for (const buffer of message.buffers) {\n",
              "            buffers.push(buffer);\n",
              "            downloaded += buffer.byteLength;\n",
              "            progress.value = downloaded;\n",
              "          }\n",
              "        }\n",
              "      }\n",
              "      const blob = new Blob(buffers, {type: 'application/binary'});\n",
              "      const a = document.createElement('a');\n",
              "      a.href = window.URL.createObjectURL(blob);\n",
              "      a.download = filename;\n",
              "      div.appendChild(a);\n",
              "      a.click();\n",
              "      div.remove();\n",
              "    }\n",
              "  "
            ]
          },
          "metadata": {}
        },
        {
          "output_type": "display_data",
          "data": {
            "text/plain": [
              "<IPython.core.display.Javascript object>"
            ],
            "application/javascript": [
              "download(\"download_c7573cf5-1d50-4cb5-9dd4-8da42b23f064\", \"Training Process of RL Agent.png\", 500074)"
            ]
          },
          "metadata": {}
        },
        {
          "output_type": "display_data",
          "data": {
            "text/plain": [
              "<Figure size 432x288 with 1 Axes>"
            ],
            "image/png": "[encoded data removed]"
          },
          "metadata": {}
        }
      ],
      "source": [
        "%matplotlib inline\n",
        "import matplotlib\n",
        "import matplotlib.pyplot as plt\n",
        "plt.style.use('seaborn-whitegrid')\n",
        "matplotlib.rcParams['mathtext.fontset'] = 'stix'\n",
        "matplotlib.rcParams['font.family'] = 'STIXGeneral'\n",
        " \n",
        "x = list(range(episodes_per_day-2))\n",
        "y1 = episode_reward_list1\n",
        "y2 = episode_reward_list2\n",
        "y3 = episode_reward_list3\n",
        "y4 = episode_reward_list4\n",
        "y5 = episode_reward_list5\n",
        "y6 = episode_reward_list6\n",
        "y7 = episode_reward_list7\n",
        "y8 = episode_reward_list8\n",
        "y9 = episode_reward_list9\n",
        "y10 = episode_reward_list10\n",
        "\n",
        "fig = plt.figure(1)\n",
        "\n",
        "plt.plot(x, y1, 'xkcd:sage', label = \"Training Day 1\") \n",
        "plt.plot(x, y2, 'xkcd:green', label = \"Training Day 2\")\n",
        "plt.plot(x, y3, 'xkcd:teal', label = \"Training Day 3\")\n",
        "plt.plot(x, y4, 'xkcd:sky blue', label = \"Training Day 4\") \n",
        "plt.plot(x, y5, 'xkcd:steel blue', label = \"Training Day 5\")\n",
        "plt.plot(x, y6, 'xkcd:grey purple', label = \"Training Day 6\")\n",
        "plt.plot(x, y7, 'xkcd:pastel pink', label = \"Training Day 7\") \n",
        "plt.plot(x, y8, 'xkcd:magenta', label = \"Training Day 8\")\n",
        "plt.plot(x, y9, 'xkcd:scarlet', label = \"Training Day 9\")\n",
        "plt.plot(x, y10, 'xkcd:burnt orange', label = \"Training Day 10\")\n",
        "    \n",
        "# naming the x axis \n",
        "plt.xlabel('Training Episodes') \n",
        "# naming the y axis \n",
        "plt.ylabel('Episode Reward') \n",
        "plt.legend(loc='center left', bbox_to_anchor=(1, 0.5))\n",
        "\n",
        "header = \"Training Process of RL Agent\"\n",
        "plt.title(header) \n",
        "    \n",
        "filename = header + \".png\"\n",
        "#plt.savefig(filename, dpi=300)\n",
        "fig.savefig(filename, dpi=300, bbox_inches='tight')\n",
        "files.download(filename) \n",
        "\n",
        "# function to show the plot \n",
        "plt.show()"
      ]
    },
    {
      "cell_type": "code",
      "execution_count": null,
      "metadata": {
        "id": "qxJPQj1z79bf"
      },
      "outputs": [],
      "source": [
        "%tensorboard --logdir=~/ray_results"
      ]
    },
    {
      "cell_type": "markdown",
      "metadata": {
        "id": "g37WugV_1pAS"
      },
      "source": [
        "## Test"
      ]
    },
    {
      "cell_type": "code",
      "execution_count": null,
      "metadata": {
        "id": "z8ddoDHv9btN"
      },
      "outputs": [],
      "source": [
        "def get_config_Test(dic, Number_Days):  \n",
        "\n",
        "    env_config = []\n",
        "\n",
        "    for index in range(Number_Days):\n",
        "\n",
        "      print(index)\n",
        "\n",
        "      price_array, tech_array, turbulence_array = df_to_array(dic[index+Number_Train_Days], False)\n",
        "\n",
        "      config = {\n",
        "          \"price_array\": price_array,\n",
        "          \"tech_array\": tech_array,\n",
        "          \"turbulence_array\": turbulence_array,\n",
        "          \"if_train\": False,\n",
        "      }\n",
        "\n",
        "      env_config.append(config)\n",
        "\n",
        "    return env_config"
      ]
    },
    {
      "cell_type": "code",
      "execution_count": null,
      "metadata": {
        "colab": {
          "base_uri": "https://localhost:8080/"
        },
        "id": "ZBITmBya70Oy",
        "outputId": "7a1df183-1aab-464e-dca7-bcb11a1c3136"
      },
      "outputs": [
        {
          "output_type": "stream",
          "name": "stdout",
          "text": [
            "0\n",
            "Successfully transformed into array\n",
            "1\n",
            "Successfully transformed into array\n",
            "2\n",
            "Successfully transformed into array\n",
            "3\n",
            "Successfully transformed into array\n",
            "4\n",
            "Successfully transformed into array\n",
            "5\n",
            "Successfully transformed into array\n",
            "6\n",
            "Successfully transformed into array\n",
            "7\n",
            "Successfully transformed into array\n",
            "8\n",
            "Successfully transformed into array\n"
          ]
        }
      ],
      "source": [
        "test_env_config = get_config_Test(dic, Number_Test_Days)"
      ]
    },
    {
      "cell_type": "code",
      "execution_count": null,
      "metadata": {
        "id": "DbHTkjrhOy7A"
      },
      "outputs": [],
      "source": [
        "def DRL_prediction(\n",
        "            model_name,\n",
        "            env,\n",
        "            env_instance,\n",
        "            price_array,\n",
        "            tech_array,\n",
        "            turbulence_array,\n",
        "            agent_path,\n",
        "    ):\n",
        "        if model_name not in MODELS:\n",
        "            raise NotImplementedError(\"NotImplementedError\")\n",
        "\n",
        "        if model_name == \"a2c\":\n",
        "            model_config = MODELS[model_name].A2C_DEFAULT_CONFIG.copy()\n",
        "        elif model_name == \"td3\":\n",
        "            model_config = MODELS[model_name].TD3_DEFAULT_CONFIG.copy()\n",
        "        else:\n",
        "            model_config = MODELS[model_name].DEFAULT_CONFIG.copy()\n",
        "        model_config[\"env\"] = env\n",
        "        model_config[\"log_level\"] = \"WARN\"\n",
        "        model_config[\"env_config\"] = {\n",
        "            \"price_array\": price_array,\n",
        "            \"tech_array\": tech_array,\n",
        "            \"turbulence_array\": turbulence_array,\n",
        "            \"if_train\": False,\n",
        "        }\n",
        "        model_config['framework'] = \"tf2\"\n",
        "\n",
        "        model_config[\"model\"][\"use_lstm\"] = True\n",
        "        model_config[\"model\"][\"lstm_cell_size\"] = 256\n",
        "        model_config[\"model\"][\"lstm_use_prev_action\"] = True\n",
        "        model_config[\"model\"][\"lstm_use_prev_reward\"] = True\n",
        "\n",
        "        env_config = {\n",
        "            \"price_array\": price_array,\n",
        "            \"tech_array\": tech_array,\n",
        "            \"turbulence_array\": turbulence_array,\n",
        "            \"if_train\": False,\n",
        "        }\n",
        "        env_instance = env(config=env_config)\n",
        "\n",
        "        # ray.init() # Other Ray APIs will not work until `ray.init()` is called.\n",
        "        if model_name == \"ppo\":\n",
        "            trainer = MODELS[model_name].PPOTrainer(env=env, config=model_config)\n",
        "        elif model_name == \"a2c\":\n",
        "            trainer = MODELS[model_name].A2CTrainer(env=env, config=model_config)\n",
        "        elif model_name == \"ddpg\":\n",
        "            trainer = MODELS[model_name].DDPGTrainer(env=env, config=model_config)\n",
        "        elif model_name == \"td3\":\n",
        "            trainer = MODELS[model_name].TD3Trainer(env=env, config=model_config)\n",
        "        elif model_name == \"sac\":\n",
        "            trainer = MODELS[model_name].SACTrainer(env=env, config=model_config)\n",
        "\n",
        "        print('got trainer')\n",
        "        \n",
        "        #try:\n",
        "         #   trainer.restore(agent_path)\n",
        "          #  print(\"Restoring from checkpoint path\", agent_path)\n",
        "        #except BaseException:\n",
        "         #   raise ValueError(\"Fail to load agent!\")\n",
        "        \n",
        "        trainer.restore(agent_path)\n",
        "        print(\"restored agent\")\n",
        "        print(\"Restoring from checkpoint path\", agent_path)\n",
        "\n",
        "        # test on the testing env\n",
        "        episode_returns = []  # the cumulative_return / initial_account\n",
        "        episode_total_assets = [env_instance.initial_total_asset]\n",
        "        obs = env_instance.reset()\n",
        "        state = [np.zeros([256], np.float32) for _ in range(2)]\n",
        "        prev_a = 0\n",
        "        prev_r = 0.0\n",
        "        done = False\n",
        "        total_reward = 0.0\n",
        "\n",
        "        print(\"starting the loop\")\n",
        "\n",
        "        while not done:\n",
        "            action, state, _ = trainer.compute_single_action(obs, state, prev_action=prev_a, prev_reward=prev_r)\n",
        "            obs, reward, done, _ = env_instance.step(action)\n",
        "            \n",
        "\n",
        "            prev_a = action\n",
        "            prev_r = reward\n",
        "\n",
        "            total_reward += reward\n",
        "\n",
        "            total_asset = (\n",
        "                    env_instance.amount\n",
        "                    + (env_instance.price_ary[env_instance.day] * env_instance.stocks).sum()\n",
        "            )\n",
        "            episode_total_assets.append(total_asset)\n",
        "            episode_return = total_asset / env_instance.initial_total_asset\n",
        "            episode_returns.append(episode_return)\n",
        "        ray.shutdown()\n",
        "        print(\"episode return: \" + str(episode_return))\n",
        "        print(\"Test Finished!\")\n",
        "        return episode_total_assets"
      ]
    },
    {
      "cell_type": "code",
      "execution_count": null,
      "metadata": {
        "id": "JO0zxs2a7yYm"
      },
      "outputs": [],
      "source": [
        "def DRL_prediction(\n",
        "            model_name,\n",
        "            env,\n",
        "            env_instance,\n",
        "            price_array,\n",
        "            tech_array,\n",
        "            turbulence_array,\n",
        "            agent_path,\n",
        "    ):\n",
        "        if model_name not in MODELS:\n",
        "            raise NotImplementedError(\"NotImplementedError\")\n",
        "\n",
        "        if model_name == \"a2c\":\n",
        "            model_config = MODELS[model_name].A2C_DEFAULT_CONFIG.copy()\n",
        "        elif model_name == \"td3\":\n",
        "            model_config = MODELS[model_name].TD3_DEFAULT_CONFIG.copy()\n",
        "        else:\n",
        "            model_config = MODELS[model_name].DEFAULT_CONFIG.copy()\n",
        "        model_config[\"env\"] = env\n",
        "        model_config[\"log_level\"] = \"WARN\"\n",
        "        model_config[\"env_config\"] = {\n",
        "            \"price_array\": price_array,\n",
        "            \"tech_array\": tech_array,\n",
        "            \"turbulence_array\": turbulence_array,\n",
        "            \"if_train\": False,\n",
        "        }\n",
        "\n",
        "        #model_config[\"model\"][\"use_lstm\"] = True\n",
        "        #model_config[\"model\"][\"lstm_cell_size\"] = 256\n",
        "        #model_config[\"model\"][\"lstm_use_prev_action\"] = True\n",
        "        #model_config[\"model\"][\"lstm_use_prev_reward\"] = True\n",
        "\n",
        "        env_config = {\n",
        "            \"price_array\": price_array,\n",
        "            \"tech_array\": tech_array,\n",
        "            \"turbulence_array\": turbulence_array,\n",
        "            \"if_train\": False,\n",
        "        }\n",
        "        #env_instance = env(config=env_config)\n",
        "\n",
        "        # ray.init() # Other Ray APIs will not work until `ray.init()` is called.\n",
        "        if model_name == \"ppo\":\n",
        "            trainer = MODELS[model_name].PPOTrainer(env=env, config=model_config)\n",
        "        elif model_name == \"a2c\":\n",
        "            trainer = MODELS[model_name].A2CTrainer(env=env, config=model_config)\n",
        "        elif model_name == \"ddpg\":\n",
        "            trainer = MODELS[model_name].DDPGTrainer(env=env, config=model_config)\n",
        "        elif model_name == \"td3\":\n",
        "            trainer = MODELS[model_name].TD3Trainer(env=env, config=model_config)\n",
        "        elif model_name == \"sac\":\n",
        "            trainer = MODELS[model_name].SACTrainer(env=env, config=model_config)\n",
        "\n",
        "        print('got trainer')\n",
        "        \n",
        "        #try:\n",
        "         #   trainer.restore(agent_path)\n",
        "          #  print(\"Restoring from checkpoint path\", agent_path)\n",
        "        #except BaseException:\n",
        "         #   raise ValueError(\"Fail to load agent!\")\n",
        "        \n",
        "        trainer.restore(agent_path)\n",
        "        print(\"restored agent\")\n",
        "        print(\"Restoring from checkpoint path\", agent_path)\n",
        "\n",
        "        state = env_instance.reset()\n",
        "        episode_returns = []  # the cumulative_return / initial_account\n",
        "        episode_total_assets = [env_instance.initial_total_asset]\n",
        "        done = False\n",
        "        while not done:\n",
        "            action = trainer.compute_single_action(state)\n",
        "            state, reward, done, _ = env_instance.step(action)\n",
        "\n",
        "            total_asset = (\n",
        "                    env_instance.amount\n",
        "                    + (env_instance.price_ary[env_instance.day] * env_instance.stocks).sum()\n",
        "            )\n",
        "            episode_total_assets.append(total_asset)\n",
        "            episode_return = total_asset / env_instance.initial_total_asset\n",
        "            episode_returns.append(episode_return)\n",
        "        ray.shutdown()\n",
        "        print(\"episode return: \" + str(episode_return))\n",
        "        print(\"Test Finished!\")\n",
        "        return episode_total_assets"
      ]
    },
    {
      "cell_type": "code",
      "execution_count": null,
      "metadata": {
        "id": "-HhJZqEj7D6V"
      },
      "outputs": [],
      "source": [
        "def test(\n",
        "        env_config,\n",
        "        env,\n",
        "        capital,\n",
        "        model_name,\n",
        "        cwd,\n",
        "        if_vix=True,\n",
        "        **kwargs\n",
        "):\n",
        "\n",
        "    env_instance = env(config=env_config, initial_capital=capital)\n",
        "\n",
        "    # load elegantrl needs state dim, action dim and net dim\n",
        "    net_dimension = kwargs.get(\"net_dimension\", 2 ** 7)\n",
        "    #cwd = \"./trained_\" + str(model_name)\n",
        "\n",
        "    print(\"price_array: \", len(env_config[\"price_array\"]))\n",
        "\n",
        "        # load agent\n",
        "    \n",
        "    #episode_capital = [capital]\n",
        "    episode_total_assets = DRL_prediction(\n",
        "            model_name=model_name,\n",
        "            env=env,\n",
        "            env_instance = env_instance,\n",
        "            price_array=env_config[\"price_array\"],\n",
        "            tech_array=env_config[\"tech_array\"],\n",
        "            turbulence_array=env_config[\"turbulence_array\"],\n",
        "            agent_path=cwd,\n",
        "        )\n",
        "    account_value = episode_total_assets\n",
        "\n",
        "    return account_value\n",
        "\n"
      ]
    },
    {
      "cell_type": "code",
      "execution_count": null,
      "metadata": {
        "id": "GZlOoiqkMdIT"
      },
      "outputs": [],
      "source": [
        "ray.shutdown()"
      ]
    },
    {
      "cell_type": "code",
      "execution_count": null,
      "metadata": {
        "colab": {
          "base_uri": "https://localhost:8080/"
        },
        "id": "SxYoWCDa02TW",
        "outputId": "2132db57-30cf-4013-ea67-3156946094aa"
      },
      "outputs": [
        {
          "output_type": "stream",
          "name": "stdout",
          "text": [
            "0\n",
            "price_array:  481\n"
          ]
        },
        {
          "output_type": "stream",
          "name": "stderr",
          "text": [
            "2022-05-26 11:04:13,962\tINFO services.py:1462 -- View the Ray dashboard at \u001b[1m\u001b[32mhttp://127.0.0.1:8265\u001b[39m\u001b[22m\n",
            "\u001b[2m\u001b[36m(RolloutWorker pid=157764)\u001b[0m 2022-05-26 11:04:32,499\tWARNING rollout_worker.py:499 -- We've added a module for checking environments that are used in experiments. It will cause your environment to fail if your environment is not set upcorrectly. You can disable check env by setting `disable_env_checking` to True in your experiment config dictionary. You can run the environment checking module standalone by calling ray.rllib.utils.check_env(env).\n",
            "\u001b[2m\u001b[36m(RolloutWorker pid=157764)\u001b[0m 2022-05-26 11:04:32,500\tWARNING env.py:121 -- Your env doesn't have a .spec.max_episode_steps attribute. This is fine if you have set 'horizon' in your config dictionary, or `soft_horizon`. However, if you haven't, 'horizon' will default to infinity, and your environment will not be reset.\n",
            "\u001b[2m\u001b[36m(RolloutWorker pid=157768)\u001b[0m 2022-05-26 11:04:32,724\tWARNING rollout_worker.py:499 -- We've added a module for checking environments that are used in experiments. It will cause your environment to fail if your environment is not set upcorrectly. You can disable check env by setting `disable_env_checking` to True in your experiment config dictionary. You can run the environment checking module standalone by calling ray.rllib.utils.check_env(env).\n",
            "\u001b[2m\u001b[36m(RolloutWorker pid=157768)\u001b[0m 2022-05-26 11:04:32,724\tWARNING env.py:121 -- Your env doesn't have a .spec.max_episode_steps attribute. This is fine if you have set 'horizon' in your config dictionary, or `soft_horizon`. However, if you haven't, 'horizon' will default to infinity, and your environment will not be reset.\n",
            "2022-05-26 11:04:44,213\tINFO trainable.py:156 -- Trainable.setup took 34.457 seconds. If your trainable is slow to initialize, consider setting reuse_actors=True to reduce actor creation overheads.\n"
          ]
        },
        {
          "output_type": "stream",
          "name": "stdout",
          "text": [
            "got trainer\n"
          ]
        },
        {
          "output_type": "stream",
          "name": "stderr",
          "text": [
            "2022-05-26 11:04:45,135\tINFO trainable.py:535 -- Restored on 172.28.0.2 from checkpoint: /tmp/rllib_checkpoint/checkpoint_000010/checkpoint-10\n",
            "2022-05-26 11:04:45,152\tINFO trainable.py:543 -- Current state after restoring: {'_iteration': 10, '_timesteps_total': 720000, '_time_total': 18335.574847221375, '_episodes_total': 1480}\n"
          ]
        },
        {
          "output_type": "stream",
          "name": "stdout",
          "text": [
            "restored agent\n",
            "Restoring from checkpoint path /tmp/rllib_checkpoint/checkpoint_000010/checkpoint-10\n",
            "starting the loop\n",
            "episode return: 0.9909804700000009\n",
            "Test Finished!\n",
            "1\n",
            "price_array:  481\n"
          ]
        },
        {
          "output_type": "stream",
          "name": "stderr",
          "text": [
            "2022-05-26 11:05:51,621\tINFO services.py:1462 -- View the Ray dashboard at \u001b[1m\u001b[32mhttp://127.0.0.1:8265\u001b[39m\u001b[22m\n",
            "\u001b[2m\u001b[36m(RolloutWorker pid=159815)\u001b[0m 2022-05-26 11:06:10,386\tWARNING rollout_worker.py:499 -- We've added a module for checking environments that are used in experiments. It will cause your environment to fail if your environment is not set upcorrectly. You can disable check env by setting `disable_env_checking` to True in your experiment config dictionary. You can run the environment checking module standalone by calling ray.rllib.utils.check_env(env).\n",
            "\u001b[2m\u001b[36m(RolloutWorker pid=159815)\u001b[0m 2022-05-26 11:06:10,391\tWARNING env.py:121 -- Your env doesn't have a .spec.max_episode_steps attribute. This is fine if you have set 'horizon' in your config dictionary, or `soft_horizon`. However, if you haven't, 'horizon' will default to infinity, and your environment will not be reset.\n",
            "\u001b[2m\u001b[36m(RolloutWorker pid=159866)\u001b[0m 2022-05-26 11:06:13,301\tWARNING rollout_worker.py:499 -- We've added a module for checking environments that are used in experiments. It will cause your environment to fail if your environment is not set upcorrectly. You can disable check env by setting `disable_env_checking` to True in your experiment config dictionary. You can run the environment checking module standalone by calling ray.rllib.utils.check_env(env).\n",
            "\u001b[2m\u001b[36m(RolloutWorker pid=159866)\u001b[0m 2022-05-26 11:06:13,301\tWARNING env.py:121 -- Your env doesn't have a .spec.max_episode_steps attribute. This is fine if you have set 'horizon' in your config dictionary, or `soft_horizon`. However, if you haven't, 'horizon' will default to infinity, and your environment will not be reset.\n",
            "2022-05-26 11:06:26,738\tINFO trainable.py:156 -- Trainable.setup took 39.445 seconds. If your trainable is slow to initialize, consider setting reuse_actors=True to reduce actor creation overheads.\n"
          ]
        },
        {
          "output_type": "stream",
          "name": "stdout",
          "text": [
            "got trainer\n"
          ]
        },
        {
          "output_type": "stream",
          "name": "stderr",
          "text": [
            "2022-05-26 11:06:27,118\tINFO trainable.py:535 -- Restored on 172.28.0.2 from checkpoint: /tmp/rllib_checkpoint/checkpoint_000010/checkpoint-10\n",
            "2022-05-26 11:06:27,497\tINFO trainable.py:543 -- Current state after restoring: {'_iteration': 10, '_timesteps_total': 720000, '_time_total': 18335.574847221375, '_episodes_total': 1480}\n"
          ]
        },
        {
          "output_type": "stream",
          "name": "stdout",
          "text": [
            "restored agent\n",
            "Restoring from checkpoint path /tmp/rllib_checkpoint/checkpoint_000010/checkpoint-10\n",
            "starting the loop\n",
            "episode return: 0.9464281370000006\n",
            "Test Finished!\n",
            "2\n",
            "price_array:  481\n"
          ]
        },
        {
          "output_type": "stream",
          "name": "stderr",
          "text": [
            "2022-05-26 11:08:18,804\tINFO services.py:1462 -- View the Ray dashboard at \u001b[1m\u001b[32mhttp://127.0.0.1:8265\u001b[39m\u001b[22m\n",
            "\u001b[2m\u001b[36m(RolloutWorker pid=162615)\u001b[0m 2022-05-26 11:08:38,234\tWARNING rollout_worker.py:499 -- We've added a module for checking environments that are used in experiments. It will cause your environment to fail if your environment is not set upcorrectly. You can disable check env by setting `disable_env_checking` to True in your experiment config dictionary. You can run the environment checking module standalone by calling ray.rllib.utils.check_env(env).\n",
            "\u001b[2m\u001b[36m(RolloutWorker pid=162615)\u001b[0m 2022-05-26 11:08:38,235\tWARNING env.py:121 -- Your env doesn't have a .spec.max_episode_steps attribute. This is fine if you have set 'horizon' in your config dictionary, or `soft_horizon`. However, if you haven't, 'horizon' will default to infinity, and your environment will not be reset.\n",
            "\u001b[2m\u001b[36m(RolloutWorker pid=162705)\u001b[0m 2022-05-26 11:08:43,838\tWARNING rollout_worker.py:499 -- We've added a module for checking environments that are used in experiments. It will cause your environment to fail if your environment is not set upcorrectly. You can disable check env by setting `disable_env_checking` to True in your experiment config dictionary. You can run the environment checking module standalone by calling ray.rllib.utils.check_env(env).\n",
            "\u001b[2m\u001b[36m(RolloutWorker pid=162705)\u001b[0m 2022-05-26 11:08:43,839\tWARNING env.py:121 -- Your env doesn't have a .spec.max_episode_steps attribute. This is fine if you have set 'horizon' in your config dictionary, or `soft_horizon`. However, if you haven't, 'horizon' will default to infinity, and your environment will not be reset.\n",
            "2022-05-26 11:08:55,192\tINFO trainable.py:156 -- Trainable.setup took 40.609 seconds. If your trainable is slow to initialize, consider setting reuse_actors=True to reduce actor creation overheads.\n"
          ]
        },
        {
          "output_type": "stream",
          "name": "stdout",
          "text": [
            "got trainer\n"
          ]
        },
        {
          "output_type": "stream",
          "name": "stderr",
          "text": [
            "2022-05-26 11:08:57,288\tINFO trainable.py:535 -- Restored on 172.28.0.2 from checkpoint: /tmp/rllib_checkpoint/checkpoint_000010/checkpoint-10\n",
            "2022-05-26 11:08:57,294\tINFO trainable.py:543 -- Current state after restoring: {'_iteration': 10, '_timesteps_total': 720000, '_time_total': 18335.574847221375, '_episodes_total': 1480}\n"
          ]
        },
        {
          "output_type": "stream",
          "name": "stdout",
          "text": [
            "restored agent\n",
            "Restoring from checkpoint path /tmp/rllib_checkpoint/checkpoint_000010/checkpoint-10\n",
            "starting the loop\n",
            "episode return: 0.9632790950000014\n",
            "Test Finished!\n",
            "3\n",
            "price_array:  481\n"
          ]
        },
        {
          "output_type": "stream",
          "name": "stderr",
          "text": [
            "2022-05-26 11:10:58,676\tINFO services.py:1462 -- View the Ray dashboard at \u001b[1m\u001b[32mhttp://127.0.0.1:8265\u001b[39m\u001b[22m\n",
            "\u001b[2m\u001b[36m(RolloutWorker pid=165717)\u001b[0m 2022-05-26 11:11:18,144\tWARNING rollout_worker.py:499 -- We've added a module for checking environments that are used in experiments. It will cause your environment to fail if your environment is not set upcorrectly. You can disable check env by setting `disable_env_checking` to True in your experiment config dictionary. You can run the environment checking module standalone by calling ray.rllib.utils.check_env(env).\n",
            "\u001b[2m\u001b[36m(RolloutWorker pid=165717)\u001b[0m 2022-05-26 11:11:18,144\tWARNING env.py:121 -- Your env doesn't have a .spec.max_episode_steps attribute. This is fine if you have set 'horizon' in your config dictionary, or `soft_horizon`. However, if you haven't, 'horizon' will default to infinity, and your environment will not be reset.\n",
            "\u001b[2m\u001b[36m(RolloutWorker pid=165718)\u001b[0m 2022-05-26 11:11:18,439\tWARNING rollout_worker.py:499 -- We've added a module for checking environments that are used in experiments. It will cause your environment to fail if your environment is not set upcorrectly. You can disable check env by setting `disable_env_checking` to True in your experiment config dictionary. You can run the environment checking module standalone by calling ray.rllib.utils.check_env(env).\n",
            "\u001b[2m\u001b[36m(RolloutWorker pid=165718)\u001b[0m 2022-05-26 11:11:18,439\tWARNING env.py:121 -- Your env doesn't have a .spec.max_episode_steps attribute. This is fine if you have set 'horizon' in your config dictionary, or `soft_horizon`. However, if you haven't, 'horizon' will default to infinity, and your environment will not be reset.\n",
            "2022-05-26 11:11:37,151\tINFO trainable.py:156 -- Trainable.setup took 43.443 seconds. If your trainable is slow to initialize, consider setting reuse_actors=True to reduce actor creation overheads.\n"
          ]
        },
        {
          "output_type": "stream",
          "name": "stdout",
          "text": [
            "got trainer\n"
          ]
        },
        {
          "output_type": "stream",
          "name": "stderr",
          "text": [
            "2022-05-26 11:11:38,437\tINFO trainable.py:535 -- Restored on 172.28.0.2 from checkpoint: /tmp/rllib_checkpoint/checkpoint_000010/checkpoint-10\n",
            "2022-05-26 11:11:38,451\tINFO trainable.py:543 -- Current state after restoring: {'_iteration': 10, '_timesteps_total': 720000, '_time_total': 18335.574847221375, '_episodes_total': 1480}\n"
          ]
        },
        {
          "output_type": "stream",
          "name": "stdout",
          "text": [
            "restored agent\n",
            "Restoring from checkpoint path /tmp/rllib_checkpoint/checkpoint_000010/checkpoint-10\n",
            "starting the loop\n",
            "episode return: 0.9606492110000012\n",
            "Test Finished!\n",
            "4\n",
            "price_array:  481\n"
          ]
        },
        {
          "output_type": "stream",
          "name": "stderr",
          "text": [
            "2022-05-26 11:14:50,640\tINFO services.py:1462 -- View the Ray dashboard at \u001b[1m\u001b[32mhttp://127.0.0.1:8265\u001b[39m\u001b[22m\n",
            "\u001b[2m\u001b[36m(RolloutWorker pid=170130)\u001b[0m 2022-05-26 11:15:12,157\tWARNING rollout_worker.py:499 -- We've added a module for checking environments that are used in experiments. It will cause your environment to fail if your environment is not set upcorrectly. You can disable check env by setting `disable_env_checking` to True in your experiment config dictionary. You can run the environment checking module standalone by calling ray.rllib.utils.check_env(env).\n",
            "\u001b[2m\u001b[36m(RolloutWorker pid=170130)\u001b[0m 2022-05-26 11:15:12,158\tWARNING env.py:121 -- Your env doesn't have a .spec.max_episode_steps attribute. This is fine if you have set 'horizon' in your config dictionary, or `soft_horizon`. However, if you haven't, 'horizon' will default to infinity, and your environment will not be reset.\n",
            "\u001b[2m\u001b[36m(RolloutWorker pid=170243)\u001b[0m 2022-05-26 11:15:17,831\tWARNING rollout_worker.py:499 -- We've added a module for checking environments that are used in experiments. It will cause your environment to fail if your environment is not set upcorrectly. You can disable check env by setting `disable_env_checking` to True in your experiment config dictionary. You can run the environment checking module standalone by calling ray.rllib.utils.check_env(env).\n",
            "\u001b[2m\u001b[36m(RolloutWorker pid=170243)\u001b[0m 2022-05-26 11:15:17,839\tWARNING env.py:121 -- Your env doesn't have a .spec.max_episode_steps attribute. This is fine if you have set 'horizon' in your config dictionary, or `soft_horizon`. However, if you haven't, 'horizon' will default to infinity, and your environment will not be reset.\n",
            "2022-05-26 11:15:46,790\tINFO trainable.py:156 -- Trainable.setup took 60.181 seconds. If your trainable is slow to initialize, consider setting reuse_actors=True to reduce actor creation overheads.\n"
          ]
        },
        {
          "output_type": "stream",
          "name": "stdout",
          "text": [
            "got trainer\n"
          ]
        },
        {
          "output_type": "stream",
          "name": "stderr",
          "text": [
            "2022-05-26 11:15:49,874\tINFO trainable.py:535 -- Restored on 172.28.0.2 from checkpoint: /tmp/rllib_checkpoint/checkpoint_000010/checkpoint-10\n",
            "2022-05-26 11:15:49,884\tINFO trainable.py:543 -- Current state after restoring: {'_iteration': 10, '_timesteps_total': 720000, '_time_total': 18335.574847221375, '_episodes_total': 1480}\n"
          ]
        },
        {
          "output_type": "stream",
          "name": "stdout",
          "text": [
            "restored agent\n",
            "Restoring from checkpoint path /tmp/rllib_checkpoint/checkpoint_000010/checkpoint-10\n",
            "starting the loop\n",
            "episode return: 0.9695871660000015\n",
            "Test Finished!\n",
            "5\n",
            "price_array:  481\n"
          ]
        },
        {
          "output_type": "stream",
          "name": "stderr",
          "text": [
            "2022-05-26 11:21:31,815\tINFO services.py:1462 -- View the Ray dashboard at \u001b[1m\u001b[32mhttp://127.0.0.1:8265\u001b[39m\u001b[22m\n",
            "\u001b[2m\u001b[36m(RolloutWorker pid=177680)\u001b[0m 2022-05-26 11:21:52,750\tWARNING rollout_worker.py:499 -- We've added a module for checking environments that are used in experiments. It will cause your environment to fail if your environment is not set upcorrectly. You can disable check env by setting `disable_env_checking` to True in your experiment config dictionary. You can run the environment checking module standalone by calling ray.rllib.utils.check_env(env).\n",
            "\u001b[2m\u001b[36m(RolloutWorker pid=177680)\u001b[0m 2022-05-26 11:21:52,750\tWARNING env.py:121 -- Your env doesn't have a .spec.max_episode_steps attribute. This is fine if you have set 'horizon' in your config dictionary, or `soft_horizon`. However, if you haven't, 'horizon' will default to infinity, and your environment will not be reset.\n",
            "\u001b[2m\u001b[36m(RolloutWorker pid=177681)\u001b[0m 2022-05-26 11:21:54,075\tWARNING rollout_worker.py:499 -- We've added a module for checking environments that are used in experiments. It will cause your environment to fail if your environment is not set upcorrectly. You can disable check env by setting `disable_env_checking` to True in your experiment config dictionary. You can run the environment checking module standalone by calling ray.rllib.utils.check_env(env).\n",
            "\u001b[2m\u001b[36m(RolloutWorker pid=177681)\u001b[0m 2022-05-26 11:21:54,075\tWARNING env.py:121 -- Your env doesn't have a .spec.max_episode_steps attribute. This is fine if you have set 'horizon' in your config dictionary, or `soft_horizon`. However, if you haven't, 'horizon' will default to infinity, and your environment will not be reset.\n",
            "2022-05-26 11:22:21,919\tINFO trainable.py:156 -- Trainable.setup took 55.456 seconds. If your trainable is slow to initialize, consider setting reuse_actors=True to reduce actor creation overheads.\n"
          ]
        },
        {
          "output_type": "stream",
          "name": "stdout",
          "text": [
            "got trainer\n"
          ]
        },
        {
          "output_type": "stream",
          "name": "stderr",
          "text": [
            "2022-05-26 11:22:22,301\tINFO trainable.py:535 -- Restored on 172.28.0.2 from checkpoint: /tmp/rllib_checkpoint/checkpoint_000010/checkpoint-10\n",
            "2022-05-26 11:22:22,304\tINFO trainable.py:543 -- Current state after restoring: {'_iteration': 10, '_timesteps_total': 720000, '_time_total': 18335.574847221375, '_episodes_total': 1480}\n"
          ]
        },
        {
          "output_type": "stream",
          "name": "stdout",
          "text": [
            "restored agent\n",
            "Restoring from checkpoint path /tmp/rllib_checkpoint/checkpoint_000010/checkpoint-10\n",
            "starting the loop\n",
            "episode return: 1.0132968240000009\n",
            "Test Finished!\n",
            "6\n",
            "price_array:  481\n"
          ]
        },
        {
          "output_type": "stream",
          "name": "stderr",
          "text": [
            "2022-05-26 11:28:08,908\tINFO services.py:1462 -- View the Ray dashboard at \u001b[1m\u001b[32mhttp://127.0.0.1:8265\u001b[39m\u001b[22m\n",
            "\u001b[2m\u001b[36m(RolloutWorker pid=185490)\u001b[0m 2022-05-26 11:28:29,022\tWARNING rollout_worker.py:499 -- We've added a module for checking environments that are used in experiments. It will cause your environment to fail if your environment is not set upcorrectly. You can disable check env by setting `disable_env_checking` to True in your experiment config dictionary. You can run the environment checking module standalone by calling ray.rllib.utils.check_env(env).\n",
            "\u001b[2m\u001b[36m(RolloutWorker pid=185490)\u001b[0m 2022-05-26 11:28:29,022\tWARNING env.py:121 -- Your env doesn't have a .spec.max_episode_steps attribute. This is fine if you have set 'horizon' in your config dictionary, or `soft_horizon`. However, if you haven't, 'horizon' will default to infinity, and your environment will not be reset.\n",
            "\u001b[2m\u001b[36m(RolloutWorker pid=185697)\u001b[0m 2022-05-26 11:28:39,667\tWARNING rollout_worker.py:499 -- We've added a module for checking environments that are used in experiments. It will cause your environment to fail if your environment is not set upcorrectly. You can disable check env by setting `disable_env_checking` to True in your experiment config dictionary. You can run the environment checking module standalone by calling ray.rllib.utils.check_env(env).\n",
            "\u001b[2m\u001b[36m(RolloutWorker pid=185697)\u001b[0m 2022-05-26 11:28:39,667\tWARNING env.py:121 -- Your env doesn't have a .spec.max_episode_steps attribute. This is fine if you have set 'horizon' in your config dictionary, or `soft_horizon`. However, if you haven't, 'horizon' will default to infinity, and your environment will not be reset.\n",
            "2022-05-26 11:29:19,728\tINFO trainable.py:156 -- Trainable.setup took 76.259 seconds. If your trainable is slow to initialize, consider setting reuse_actors=True to reduce actor creation overheads.\n"
          ]
        },
        {
          "output_type": "stream",
          "name": "stdout",
          "text": [
            "got trainer\n"
          ]
        },
        {
          "output_type": "stream",
          "name": "stderr",
          "text": [
            "2022-05-26 11:29:21,454\tINFO trainable.py:535 -- Restored on 172.28.0.2 from checkpoint: /tmp/rllib_checkpoint/checkpoint_000010/checkpoint-10\n",
            "2022-05-26 11:29:21,738\tINFO trainable.py:543 -- Current state after restoring: {'_iteration': 10, '_timesteps_total': 720000, '_time_total': 18335.574847221375, '_episodes_total': 1480}\n"
          ]
        },
        {
          "output_type": "stream",
          "name": "stdout",
          "text": [
            "restored agent\n",
            "Restoring from checkpoint path /tmp/rllib_checkpoint/checkpoint_000010/checkpoint-10\n",
            "starting the loop\n",
            "episode return: 0.9490231710000031\n",
            "Test Finished!\n",
            "7\n",
            "price_array:  481\n"
          ]
        },
        {
          "output_type": "stream",
          "name": "stderr",
          "text": [
            "2022-05-26 11:37:21,195\tINFO services.py:1462 -- View the Ray dashboard at \u001b[1m\u001b[32mhttp://127.0.0.1:8265\u001b[39m\u001b[22m\n",
            "\u001b[2m\u001b[36m(RolloutWorker pid=197003)\u001b[0m 2022-05-26 11:37:54,802\tWARNING rollout_worker.py:499 -- We've added a module for checking environments that are used in experiments. It will cause your environment to fail if your environment is not set upcorrectly. You can disable check env by setting `disable_env_checking` to True in your experiment config dictionary. You can run the environment checking module standalone by calling ray.rllib.utils.check_env(env).\n",
            "\u001b[2m\u001b[36m(RolloutWorker pid=197003)\u001b[0m 2022-05-26 11:37:54,802\tWARNING env.py:121 -- Your env doesn't have a .spec.max_episode_steps attribute. This is fine if you have set 'horizon' in your config dictionary, or `soft_horizon`. However, if you haven't, 'horizon' will default to infinity, and your environment will not be reset.\n",
            "\u001b[2m\u001b[36m(RolloutWorker pid=197004)\u001b[0m 2022-05-26 11:37:55,540\tWARNING rollout_worker.py:499 -- We've added a module for checking environments that are used in experiments. It will cause your environment to fail if your environment is not set upcorrectly. You can disable check env by setting `disable_env_checking` to True in your experiment config dictionary. You can run the environment checking module standalone by calling ray.rllib.utils.check_env(env).\n",
            "\u001b[2m\u001b[36m(RolloutWorker pid=197004)\u001b[0m 2022-05-26 11:37:55,540\tWARNING env.py:121 -- Your env doesn't have a .spec.max_episode_steps attribute. This is fine if you have set 'horizon' in your config dictionary, or `soft_horizon`. However, if you haven't, 'horizon' will default to infinity, and your environment will not be reset.\n",
            "2022-05-26 11:38:42,467\tINFO trainable.py:156 -- Trainable.setup took 86.318 seconds. If your trainable is slow to initialize, consider setting reuse_actors=True to reduce actor creation overheads.\n"
          ]
        },
        {
          "output_type": "stream",
          "name": "stdout",
          "text": [
            "got trainer\n"
          ]
        },
        {
          "output_type": "stream",
          "name": "stderr",
          "text": [
            "2022-05-26 11:38:44,354\tINFO trainable.py:535 -- Restored on 172.28.0.2 from checkpoint: /tmp/rllib_checkpoint/checkpoint_000010/checkpoint-10\n",
            "2022-05-26 11:38:44,376\tINFO trainable.py:543 -- Current state after restoring: {'_iteration': 10, '_timesteps_total': 720000, '_time_total': 18335.574847221375, '_episodes_total': 1480}\n"
          ]
        },
        {
          "output_type": "stream",
          "name": "stdout",
          "text": [
            "restored agent\n",
            "Restoring from checkpoint path /tmp/rllib_checkpoint/checkpoint_000010/checkpoint-10\n",
            "starting the loop\n",
            "episode return: 0.9939416570000007\n",
            "Test Finished!\n",
            "8\n",
            "price_array:  481\n"
          ]
        },
        {
          "output_type": "stream",
          "name": "stderr",
          "text": [
            "2022-05-26 11:49:29,788\tINFO services.py:1462 -- View the Ray dashboard at \u001b[1m\u001b[32mhttp://127.0.0.1:8265\u001b[39m\u001b[22m\n",
            "\u001b[2m\u001b[36m(RolloutWorker pid=211628)\u001b[0m 2022-05-26 11:49:51,605\tWARNING rollout_worker.py:499 -- We've added a module for checking environments that are used in experiments. It will cause your environment to fail if your environment is not set upcorrectly. You can disable check env by setting `disable_env_checking` to True in your experiment config dictionary. You can run the environment checking module standalone by calling ray.rllib.utils.check_env(env).\n",
            "\u001b[2m\u001b[36m(RolloutWorker pid=211628)\u001b[0m 2022-05-26 11:49:51,605\tWARNING env.py:121 -- Your env doesn't have a .spec.max_episode_steps attribute. This is fine if you have set 'horizon' in your config dictionary, or `soft_horizon`. However, if you haven't, 'horizon' will default to infinity, and your environment will not be reset.\n",
            "\u001b[2m\u001b[36m(RolloutWorker pid=211737)\u001b[0m 2022-05-26 11:49:56,956\tWARNING rollout_worker.py:499 -- We've added a module for checking environments that are used in experiments. It will cause your environment to fail if your environment is not set upcorrectly. You can disable check env by setting `disable_env_checking` to True in your experiment config dictionary. You can run the environment checking module standalone by calling ray.rllib.utils.check_env(env).\n",
            "\u001b[2m\u001b[36m(RolloutWorker pid=211737)\u001b[0m 2022-05-26 11:49:56,957\tWARNING env.py:121 -- Your env doesn't have a .spec.max_episode_steps attribute. This is fine if you have set 'horizon' in your config dictionary, or `soft_horizon`. However, if you haven't, 'horizon' will default to infinity, and your environment will not be reset.\n",
            "2022-05-26 11:51:55,087\tINFO trainable.py:156 -- Trainable.setup took 153.559 seconds. If your trainable is slow to initialize, consider setting reuse_actors=True to reduce actor creation overheads.\n",
            "2022-05-26 11:51:55,239\tINFO trainable.py:535 -- Restored on 172.28.0.2 from checkpoint: /tmp/rllib_checkpoint/checkpoint_000010/checkpoint-10\n",
            "2022-05-26 11:51:55,252\tINFO trainable.py:543 -- Current state after restoring: {'_iteration': 10, '_timesteps_total': 720000, '_time_total': 18335.574847221375, '_episodes_total': 1480}\n"
          ]
        },
        {
          "output_type": "stream",
          "name": "stdout",
          "text": [
            "got trainer\n",
            "restored agent\n",
            "Restoring from checkpoint path /tmp/rllib_checkpoint/checkpoint_000010/checkpoint-10\n",
            "starting the loop\n",
            "episode return: 0.9654001090000021\n",
            "Test Finished!\n",
            "[10000000.0, 990980.4700000009, 946428.1370000006, 963279.0950000014, 960649.2110000012, 969587.1660000015, 1013296.824000001, 949023.1710000031, 993941.6570000007, 965400.109000002]\n"
          ]
        }
      ],
      "source": [
        "test_results = []\n",
        "starting_capital = 10e6\n",
        "final_capital = [starting_capital]\n",
        "\n",
        "for index in range(len(test_env_config)):\n",
        "\n",
        "      print(index)\n",
        "\n",
        "      account_value = test(env_config = test_env_config[index],\n",
        "                      env=env, \n",
        "                      capital = final_capital[index], \n",
        "                      model_name=model_algorithm,\n",
        "                      cwd =  checkpoint_path,\n",
        "                      net_dimension = 512)\n",
        "      final_capital.append(account_value[-1])\n",
        "      ray.shutdown()\n",
        "      test_results.append(account_value)\n",
        "print(final_capital)\n",
        "      "
      ]
    },
    {
      "cell_type": "code",
      "execution_count": null,
      "metadata": {
        "colab": {
          "base_uri": "https://localhost:8080/",
          "height": 17
        },
        "id": "hyEqvQj17tgF",
        "outputId": "b8f084b4-6cff-432d-ab18-45c765649128"
      },
      "outputs": [
        {
          "output_type": "display_data",
          "data": {
            "text/plain": [
              "<IPython.core.display.Javascript object>"
            ],
            "application/javascript": [
              "\n",
              "    async function download(id, filename, size) {\n",
              "      if (!google.colab.kernel.accessAllowed) {\n",
              "        return;\n",
              "      }\n",
              "      const div = document.createElement('div');\n",
              "      const label = document.createElement('label');\n",
              "      label.textContent = `Downloading \"${filename}\": `;\n",
              "      div.appendChild(label);\n",
              "      const progress = document.createElement('progress');\n",
              "      progress.max = size;\n",
              "      div.appendChild(progress);\n",
              "      document.body.appendChild(div);\n",
              "\n",
              "      const buffers = [];\n",
              "      let downloaded = 0;\n",
              "\n",
              "      const channel = await google.colab.kernel.comms.open(id);\n",
              "      // Send a message to notify the kernel that we're ready.\n",
              "      channel.send({})\n",
              "\n",
              "      for await (const message of channel.messages) {\n",
              "        // Send a message to notify the kernel that we're ready.\n",
              "        channel.send({})\n",
              "        if (message.buffers) {\n",
              "          for (const buffer of message.buffers) {\n",
              "            buffers.push(buffer);\n",
              "            downloaded += buffer.byteLength;\n",
              "            progress.value = downloaded;\n",
              "          }\n",
              "        }\n",
              "      }\n",
              "      const blob = new Blob(buffers, {type: 'application/binary'});\n",
              "      const a = document.createElement('a');\n",
              "      a.href = window.URL.createObjectURL(blob);\n",
              "      a.download = filename;\n",
              "      div.appendChild(a);\n",
              "      a.click();\n",
              "      div.remove();\n",
              "    }\n",
              "  "
            ]
          },
          "metadata": {}
        },
        {
          "output_type": "display_data",
          "data": {
            "text/plain": [
              "<IPython.core.display.Javascript object>"
            ],
            "application/javascript": [
              "download(\"download_f3539ce3-e3cc-4473-bb36-127c22b2e403\", \"A9 test 1.csv\", 10449)"
            ]
          },
          "metadata": {}
        },
        {
          "output_type": "display_data",
          "data": {
            "text/plain": [
              "<IPython.core.display.Javascript object>"
            ],
            "application/javascript": [
              "\n",
              "    async function download(id, filename, size) {\n",
              "      if (!google.colab.kernel.accessAllowed) {\n",
              "        return;\n",
              "      }\n",
              "      const div = document.createElement('div');\n",
              "      const label = document.createElement('label');\n",
              "      label.textContent = `Downloading \"${filename}\": `;\n",
              "      div.appendChild(label);\n",
              "      const progress = document.createElement('progress');\n",
              "      progress.max = size;\n",
              "      div.appendChild(progress);\n",
              "      document.body.appendChild(div);\n",
              "\n",
              "      const buffers = [];\n",
              "      let downloaded = 0;\n",
              "\n",
              "      const channel = await google.colab.kernel.comms.open(id);\n",
              "      // Send a message to notify the kernel that we're ready.\n",
              "      channel.send({})\n",
              "\n",
              "      for await (const message of channel.messages) {\n",
              "        // Send a message to notify the kernel that we're ready.\n",
              "        channel.send({})\n",
              "        if (message.buffers) {\n",
              "          for (const buffer of message.buffers) {\n",
              "            buffers.push(buffer);\n",
              "            downloaded += buffer.byteLength;\n",
              "            progress.value = downloaded;\n",
              "          }\n",
              "        }\n",
              "      }\n",
              "      const blob = new Blob(buffers, {type: 'application/binary'});\n",
              "      const a = document.createElement('a');\n",
              "      a.href = window.URL.createObjectURL(blob);\n",
              "      a.download = filename;\n",
              "      div.appendChild(a);\n",
              "      a.click();\n",
              "      div.remove();\n",
              "    }\n",
              "  "
            ]
          },
          "metadata": {}
        },
        {
          "output_type": "display_data",
          "data": {
            "text/plain": [
              "<IPython.core.display.Javascript object>"
            ],
            "application/javascript": [
              "download(\"download_b7a317c0-37a4-4dd9-99bf-551e497534e8\", \"A9 test 2.csv\", 9875)"
            ]
          },
          "metadata": {}
        },
        {
          "output_type": "display_data",
          "data": {
            "text/plain": [
              "<IPython.core.display.Javascript object>"
            ],
            "application/javascript": [
              "\n",
              "    async function download(id, filename, size) {\n",
              "      if (!google.colab.kernel.accessAllowed) {\n",
              "        return;\n",
              "      }\n",
              "      const div = document.createElement('div');\n",
              "      const label = document.createElement('label');\n",
              "      label.textContent = `Downloading \"${filename}\": `;\n",
              "      div.appendChild(label);\n",
              "      const progress = document.createElement('progress');\n",
              "      progress.max = size;\n",
              "      div.appendChild(progress);\n",
              "      document.body.appendChild(div);\n",
              "\n",
              "      const buffers = [];\n",
              "      let downloaded = 0;\n",
              "\n",
              "      const channel = await google.colab.kernel.comms.open(id);\n",
              "      // Send a message to notify the kernel that we're ready.\n",
              "      channel.send({})\n",
              "\n",
              "      for await (const message of channel.messages) {\n",
              "        // Send a message to notify the kernel that we're ready.\n",
              "        channel.send({})\n",
              "        if (message.buffers) {\n",
              "          for (const buffer of message.buffers) {\n",
              "            buffers.push(buffer);\n",
              "            downloaded += buffer.byteLength;\n",
              "            progress.value = downloaded;\n",
              "          }\n",
              "        }\n",
              "      }\n",
              "      const blob = new Blob(buffers, {type: 'application/binary'});\n",
              "      const a = document.createElement('a');\n",
              "      a.href = window.URL.createObjectURL(blob);\n",
              "      a.download = filename;\n",
              "      div.appendChild(a);\n",
              "      a.click();\n",
              "      div.remove();\n",
              "    }\n",
              "  "
            ]
          },
          "metadata": {}
        },
        {
          "output_type": "display_data",
          "data": {
            "text/plain": [
              "<IPython.core.display.Javascript object>"
            ],
            "application/javascript": [
              "download(\"download_1b841387-28a2-42a2-acc4-36cd77a66a13\", \"A9 test 3.csv\", 10411)"
            ]
          },
          "metadata": {}
        },
        {
          "output_type": "display_data",
          "data": {
            "text/plain": [
              "<IPython.core.display.Javascript object>"
            ],
            "application/javascript": [
              "\n",
              "    async function download(id, filename, size) {\n",
              "      if (!google.colab.kernel.accessAllowed) {\n",
              "        return;\n",
              "      }\n",
              "      const div = document.createElement('div');\n",
              "      const label = document.createElement('label');\n",
              "      label.textContent = `Downloading \"${filename}\": `;\n",
              "      div.appendChild(label);\n",
              "      const progress = document.createElement('progress');\n",
              "      progress.max = size;\n",
              "      div.appendChild(progress);\n",
              "      document.body.appendChild(div);\n",
              "\n",
              "      const buffers = [];\n",
              "      let downloaded = 0;\n",
              "\n",
              "      const channel = await google.colab.kernel.comms.open(id);\n",
              "      // Send a message to notify the kernel that we're ready.\n",
              "      channel.send({})\n",
              "\n",
              "      for await (const message of channel.messages) {\n",
              "        // Send a message to notify the kernel that we're ready.\n",
              "        channel.send({})\n",
              "        if (message.buffers) {\n",
              "          for (const buffer of message.buffers) {\n",
              "            buffers.push(buffer);\n",
              "            downloaded += buffer.byteLength;\n",
              "            progress.value = downloaded;\n",
              "          }\n",
              "        }\n",
              "      }\n",
              "      const blob = new Blob(buffers, {type: 'application/binary'});\n",
              "      const a = document.createElement('a');\n",
              "      a.href = window.URL.createObjectURL(blob);\n",
              "      a.download = filename;\n",
              "      div.appendChild(a);\n",
              "      a.click();\n",
              "      div.remove();\n",
              "    }\n",
              "  "
            ]
          },
          "metadata": {}
        },
        {
          "output_type": "display_data",
          "data": {
            "text/plain": [
              "<IPython.core.display.Javascript object>"
            ],
            "application/javascript": [
              "download(\"download_ff6a3097-44a9-406d-b8dd-965ce638e77a\", \"A9 test 4.csv\", 10259)"
            ]
          },
          "metadata": {}
        },
        {
          "output_type": "display_data",
          "data": {
            "text/plain": [
              "<IPython.core.display.Javascript object>"
            ],
            "application/javascript": [
              "\n",
              "    async function download(id, filename, size) {\n",
              "      if (!google.colab.kernel.accessAllowed) {\n",
              "        return;\n",
              "      }\n",
              "      const div = document.createElement('div');\n",
              "      const label = document.createElement('label');\n",
              "      label.textContent = `Downloading \"${filename}\": `;\n",
              "      div.appendChild(label);\n",
              "      const progress = document.createElement('progress');\n",
              "      progress.max = size;\n",
              "      div.appendChild(progress);\n",
              "      document.body.appendChild(div);\n",
              "\n",
              "      const buffers = [];\n",
              "      let downloaded = 0;\n",
              "\n",
              "      const channel = await google.colab.kernel.comms.open(id);\n",
              "      // Send a message to notify the kernel that we're ready.\n",
              "      channel.send({})\n",
              "\n",
              "      for await (const message of channel.messages) {\n",
              "        // Send a message to notify the kernel that we're ready.\n",
              "        channel.send({})\n",
              "        if (message.buffers) {\n",
              "          for (const buffer of message.buffers) {\n",
              "            buffers.push(buffer);\n",
              "            downloaded += buffer.byteLength;\n",
              "            progress.value = downloaded;\n",
              "          }\n",
              "        }\n",
              "      }\n",
              "      const blob = new Blob(buffers, {type: 'application/binary'});\n",
              "      const a = document.createElement('a');\n",
              "      a.href = window.URL.createObjectURL(blob);\n",
              "      a.download = filename;\n",
              "      div.appendChild(a);\n",
              "      a.click();\n",
              "      div.remove();\n",
              "    }\n",
              "  "
            ]
          },
          "metadata": {}
        },
        {
          "output_type": "display_data",
          "data": {
            "text/plain": [
              "<IPython.core.display.Javascript object>"
            ],
            "application/javascript": [
              "download(\"download_e2b7f7fb-6290-4ea8-ae66-4d767cf63170\", \"A9 test 5.csv\", 10410)"
            ]
          },
          "metadata": {}
        },
        {
          "output_type": "display_data",
          "data": {
            "text/plain": [
              "<IPython.core.display.Javascript object>"
            ],
            "application/javascript": [
              "\n",
              "    async function download(id, filename, size) {\n",
              "      if (!google.colab.kernel.accessAllowed) {\n",
              "        return;\n",
              "      }\n",
              "      const div = document.createElement('div');\n",
              "      const label = document.createElement('label');\n",
              "      label.textContent = `Downloading \"${filename}\": `;\n",
              "      div.appendChild(label);\n",
              "      const progress = document.createElement('progress');\n",
              "      progress.max = size;\n",
              "      div.appendChild(progress);\n",
              "      document.body.appendChild(div);\n",
              "\n",
              "      const buffers = [];\n",
              "      let downloaded = 0;\n",
              "\n",
              "      const channel = await google.colab.kernel.comms.open(id);\n",
              "      // Send a message to notify the kernel that we're ready.\n",
              "      channel.send({})\n",
              "\n",
              "      for await (const message of channel.messages) {\n",
              "        // Send a message to notify the kernel that we're ready.\n",
              "        channel.send({})\n",
              "        if (message.buffers) {\n",
              "          for (const buffer of message.buffers) {\n",
              "            buffers.push(buffer);\n",
              "            downloaded += buffer.byteLength;\n",
              "            progress.value = downloaded;\n",
              "          }\n",
              "        }\n",
              "      }\n",
              "      const blob = new Blob(buffers, {type: 'application/binary'});\n",
              "      const a = document.createElement('a');\n",
              "      a.href = window.URL.createObjectURL(blob);\n",
              "      a.download = filename;\n",
              "      div.appendChild(a);\n",
              "      a.click();\n",
              "      div.remove();\n",
              "    }\n",
              "  "
            ]
          },
          "metadata": {}
        },
        {
          "output_type": "display_data",
          "data": {
            "text/plain": [
              "<IPython.core.display.Javascript object>"
            ],
            "application/javascript": [
              "download(\"download_93dc4f31-1843-4573-be3d-c6c665dd68ff\", \"A9 test 6.csv\", 10800)"
            ]
          },
          "metadata": {}
        },
        {
          "output_type": "display_data",
          "data": {
            "text/plain": [
              "<IPython.core.display.Javascript object>"
            ],
            "application/javascript": [
              "\n",
              "    async function download(id, filename, size) {\n",
              "      if (!google.colab.kernel.accessAllowed) {\n",
              "        return;\n",
              "      }\n",
              "      const div = document.createElement('div');\n",
              "      const label = document.createElement('label');\n",
              "      label.textContent = `Downloading \"${filename}\": `;\n",
              "      div.appendChild(label);\n",
              "      const progress = document.createElement('progress');\n",
              "      progress.max = size;\n",
              "      div.appendChild(progress);\n",
              "      document.body.appendChild(div);\n",
              "\n",
              "      const buffers = [];\n",
              "      let downloaded = 0;\n",
              "\n",
              "      const channel = await google.colab.kernel.comms.open(id);\n",
              "      // Send a message to notify the kernel that we're ready.\n",
              "      channel.send({})\n",
              "\n",
              "      for await (const message of channel.messages) {\n",
              "        // Send a message to notify the kernel that we're ready.\n",
              "        channel.send({})\n",
              "        if (message.buffers) {\n",
              "          for (const buffer of message.buffers) {\n",
              "            buffers.push(buffer);\n",
              "            downloaded += buffer.byteLength;\n",
              "            progress.value = downloaded;\n",
              "          }\n",
              "        }\n",
              "      }\n",
              "      const blob = new Blob(buffers, {type: 'application/binary'});\n",
              "      const a = document.createElement('a');\n",
              "      a.href = window.URL.createObjectURL(blob);\n",
              "      a.download = filename;\n",
              "      div.appendChild(a);\n",
              "      a.click();\n",
              "      div.remove();\n",
              "    }\n",
              "  "
            ]
          },
          "metadata": {}
        },
        {
          "output_type": "display_data",
          "data": {
            "text/plain": [
              "<IPython.core.display.Javascript object>"
            ],
            "application/javascript": [
              "download(\"download_32a2aa4f-41ec-4dda-ad78-3f1c0a62629c\", \"A9 test 7.csv\", 10266)"
            ]
          },
          "metadata": {}
        },
        {
          "output_type": "display_data",
          "data": {
            "text/plain": [
              "<IPython.core.display.Javascript object>"
            ],
            "application/javascript": [
              "\n",
              "    async function download(id, filename, size) {\n",
              "      if (!google.colab.kernel.accessAllowed) {\n",
              "        return;\n",
              "      }\n",
              "      const div = document.createElement('div');\n",
              "      const label = document.createElement('label');\n",
              "      label.textContent = `Downloading \"${filename}\": `;\n",
              "      div.appendChild(label);\n",
              "      const progress = document.createElement('progress');\n",
              "      progress.max = size;\n",
              "      div.appendChild(progress);\n",
              "      document.body.appendChild(div);\n",
              "\n",
              "      const buffers = [];\n",
              "      let downloaded = 0;\n",
              "\n",
              "      const channel = await google.colab.kernel.comms.open(id);\n",
              "      // Send a message to notify the kernel that we're ready.\n",
              "      channel.send({})\n",
              "\n",
              "      for await (const message of channel.messages) {\n",
              "        // Send a message to notify the kernel that we're ready.\n",
              "        channel.send({})\n",
              "        if (message.buffers) {\n",
              "          for (const buffer of message.buffers) {\n",
              "            buffers.push(buffer);\n",
              "            downloaded += buffer.byteLength;\n",
              "            progress.value = downloaded;\n",
              "          }\n",
              "        }\n",
              "      }\n",
              "      const blob = new Blob(buffers, {type: 'application/binary'});\n",
              "      const a = document.createElement('a');\n",
              "      a.href = window.URL.createObjectURL(blob);\n",
              "      a.download = filename;\n",
              "      div.appendChild(a);\n",
              "      a.click();\n",
              "      div.remove();\n",
              "    }\n",
              "  "
            ]
          },
          "metadata": {}
        },
        {
          "output_type": "display_data",
          "data": {
            "text/plain": [
              "<IPython.core.display.Javascript object>"
            ],
            "application/javascript": [
              "download(\"download_5d9e0ebd-c0a4-4a8a-b86d-5e7a4b4e14fd\", \"A9 test 8.csv\", 10018)"
            ]
          },
          "metadata": {}
        },
        {
          "output_type": "display_data",
          "data": {
            "text/plain": [
              "<IPython.core.display.Javascript object>"
            ],
            "application/javascript": [
              "\n",
              "    async function download(id, filename, size) {\n",
              "      if (!google.colab.kernel.accessAllowed) {\n",
              "        return;\n",
              "      }\n",
              "      const div = document.createElement('div');\n",
              "      const label = document.createElement('label');\n",
              "      label.textContent = `Downloading \"${filename}\": `;\n",
              "      div.appendChild(label);\n",
              "      const progress = document.createElement('progress');\n",
              "      progress.max = size;\n",
              "      div.appendChild(progress);\n",
              "      document.body.appendChild(div);\n",
              "\n",
              "      const buffers = [];\n",
              "      let downloaded = 0;\n",
              "\n",
              "      const channel = await google.colab.kernel.comms.open(id);\n",
              "      // Send a message to notify the kernel that we're ready.\n",
              "      channel.send({})\n",
              "\n",
              "      for await (const message of channel.messages) {\n",
              "        // Send a message to notify the kernel that we're ready.\n",
              "        channel.send({})\n",
              "        if (message.buffers) {\n",
              "          for (const buffer of message.buffers) {\n",
              "            buffers.push(buffer);\n",
              "            downloaded += buffer.byteLength;\n",
              "            progress.value = downloaded;\n",
              "          }\n",
              "        }\n",
              "      }\n",
              "      const blob = new Blob(buffers, {type: 'application/binary'});\n",
              "      const a = document.createElement('a');\n",
              "      a.href = window.URL.createObjectURL(blob);\n",
              "      a.download = filename;\n",
              "      div.appendChild(a);\n",
              "      a.click();\n",
              "      div.remove();\n",
              "    }\n",
              "  "
            ]
          },
          "metadata": {}
        },
        {
          "output_type": "display_data",
          "data": {
            "text/plain": [
              "<IPython.core.display.Javascript object>"
            ],
            "application/javascript": [
              "download(\"download_979b9f53-ae28-4da2-b5ae-7e87ee75bd05\", \"A9 test 9.csv\", 10225)"
            ]
          },
          "metadata": {}
        }
      ],
      "source": [
        "for index in range(len(test_results)):\n",
        "\n",
        "  df_account_test = pd.DataFrame(data=test_results[index],columns=['account_value'])\n",
        "  file_name = \"A9 test \"+str(index+1)+\".csv\"\n",
        "  df_account_test.to_csv(file_name)\n",
        "  files.download(file_name)"
      ]
    }
  ],
  "metadata": {
    "accelerator": "GPU",
    "colab": {
      "collapsed_sections": [],
      "name": "Optimisation_DayTrading_FinRL_JSE_Singe_Stock.ipynb",
      "provenance": [],
      "include_colab_link": true
    },
    "kernelspec": {
      "display_name": "Python 3",
      "language": "python",
      "name": "python3"
    },
    "language_info": {
      "codemirror_mode": {
        "name": "ipython",
        "version": 3
      },
      "file_extension": ".py",
      "mimetype": "text/x-python",
      "name": "python",
      "nbconvert_exporter": "python",
      "pygments_lexer": "ipython3",
      "version": "3.7.10"
    }
  },
  "nbformat": 4,
  "nbformat_minor": 0
}